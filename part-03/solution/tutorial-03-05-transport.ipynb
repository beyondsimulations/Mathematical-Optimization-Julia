{
  "cells": [
    {
      "cell_type": "markdown",
      "id": "a72164ee-1c15-4af3-9262-f9ec25026d6e",
      "metadata": {},
      "source": [
        "# Tutorial III.V - Modelling the Transportation Problem with JuMP\n",
        "\n",
        "Optimization with Julia\n",
        "\n",
        "# Introduction\n",
        "\n",
        "Welcome to this tutorial on the transportation problem using JuMP! As\n",
        "always, don’t worry if you’re new to optimization - we’ll walk through\n",
        "everything step by step using a real-world example.\n",
        "\n",
        "Imagine you’re running a solar panel distribution company. You have\n",
        "several warehouses (suppliers) and need to ship solar panels to various\n",
        "solar farms (customers). Your goal is to minimize the total cost of\n",
        "transportation while meeting all customer demands.\n",
        "\n",
        "By the end of this tutorial, you’ll be able to:\n",
        "\n",
        "1.  Understand what a transportation problem is\n",
        "2.  Set up a transportation problem using JuMP\n",
        "3.  Solve the problem and interpret the results\n",
        "\n",
        "Let’s start by loading the necessary packages:"
      ]
    },
    {
      "cell_type": "code",
      "execution_count": 1,
      "id": "2",
      "metadata": {},
      "outputs": [
        {
          "name": "stdout",
          "output_type": "stream",
          "text": [
            "   Resolving package versions...\n",
            "  No Changes to `~/.julia/scratchspaces/4c0109c6-14e9-4c88-93f0-2b974d3468f4/loader.1.10.5.AL85NJCKddS/Project.toml`\n",
            "  No Changes to `~/.julia/scratchspaces/4c0109c6-14e9-4c88-93f0-2b974d3468f4/loader.1.10.5.AL85NJCKddS/Manifest.toml`\n",
            "   Resolving package versions...\n",
            "  No Changes to `~/.julia/scratchspaces/4c0109c6-14e9-4c88-93f0-2b974d3468f4/loader.1.10.5.AL85NJCKddS/Project.toml`\n",
            "  No Changes to `~/.julia/scratchspaces/4c0109c6-14e9-4c88-93f0-2b974d3468f4/loader.1.10.5.AL85NJCKddS/Manifest.toml`\n",
            "   Resolving package versions...\n",
            "  No Changes to `~/.julia/scratchspaces/4c0109c6-14e9-4c88-93f0-2b974d3468f4/loader.1.10.5.AL85NJCKddS/Project.toml`\n",
            "  No Changes to `~/.julia/scratchspaces/4c0109c6-14e9-4c88-93f0-2b974d3468f4/loader.1.10.5.AL85NJCKddS/Manifest.toml`\n",
            "   Resolving package versions...\n",
            "  No Changes to `~/.julia/scratchspaces/4c0109c6-14e9-4c88-93f0-2b974d3468f4/loader.1.10.5.AL85NJCKddS/Project.toml`\n",
            "  No Changes to `~/.julia/scratchspaces/4c0109c6-14e9-4c88-93f0-2b974d3468f4/loader.1.10.5.AL85NJCKddS/Manifest.toml`"
          ]
        }
      ],
      "source": []
    },
    {
      "cell_type": "code",
      "execution_count": 1,
      "id": "4",
      "metadata": {},
      "outputs": [],
      "source": [
        "using JuMP, HiGHS\n",
        "using DataFrames, CSV"
      ]
    },
    {
      "cell_type": "markdown",
      "id": "157df44e-8109-4091-9379-fd9bd28b7fce",
      "metadata": {},
      "source": [
        "# Section 1 - Understanding the Transportation Problem\n",
        "\n",
        "The transportation problem involves:\n",
        "\n",
        "-   Suppliers (our warehouses)\n",
        "-   Customers (solar farms)\n",
        "-   Transportation costs between each supplier and customer\n",
        "-   Supply available at each warehouse\n",
        "-   Demand required by each solar farm\n",
        "\n",
        "Our goal is to decide how many solar panels to ship from each warehouse\n",
        "to each solar farm to minimize total cost.\n",
        "\n",
        "Let’s set up our problem:\n",
        "\n",
        "-   The revenue from each truckload of solar panels is 11000\n",
        "-   The variable costs from each truckload of solar panels is 6300\n",
        "-   The available panels at the supplier are given in the file\n",
        "    `available-panels.csv`\n",
        "-   The requested panels at the customer are given in the file\n",
        "    `panel-demand.csv`\n",
        "-   The transportation costs between suppliers and customers are given\n",
        "    in the file `cost.csv`\n",
        "\n",
        "> **Note**\n",
        ">\n",
        "> We can use the `CSV.read` function to load the data from a CSV file\n",
        "> into a DataFrame. If we want to access the directory of the current\n",
        "> file, we can use the convinient `@__DIR__` macro. For example, to\n",
        "> access the file `my_file.csv` in the same directory as the current\n",
        "> file, you can use the path `\"$(@__DIR__)/my_file.csv\"`. If the file is\n",
        "> in a subdirectory called `new_data`, you can use the path\n",
        "> `\"$(@__DIR__)/new_data/my_file.csv\"`."
      ]
    },
    {
      "cell_type": "code",
      "execution_count": 3,
      "id": "6",
      "metadata": {},
      "outputs": [
        {
          "name": "stdout",
          "output_type": "stream",
          "text": [
            "Data loaded successfully!\n"
          ]
        }
      ],
      "source": [
        "# Fixed parameters\n",
        "revenue = 11000  # Revenue per truckload of solar panels\n",
        "varCosts = 6300  # Variable costs per truckload\n",
        "\n",
        "# Load data from CSV files\n",
        "available = CSV.read(\"$(@__DIR__)/data/available-panels.csv\", DataFrame)\n",
        "requested = CSV.read(\"$(@__DIR__)/data/panel-demand.csv\", DataFrame)\n",
        "travelCosts = CSV.read(\"$(@__DIR__)/data/cost.csv\", DataFrame)\n",
        "\n",
        "println(\"Data loaded successfully!\")"
      ]
    },
    {
      "cell_type": "markdown",
      "id": "8a158ae4-fbd5-4692-9b4a-78351fa6b4ba",
      "metadata": {},
      "source": [
        "> **Tip**\n",
        ">\n",
        "> Make sure, that you donwload the datasets from Github and store them\n",
        "> in a folder called `data` in the same directory as the script you are\n",
        "> currently working on. You can find the data sets in the GitHub\n",
        "> repository for this tutorial. Note, that you don’t need to preprocess\n",
        "> the data in any way. This tutorial we will focus on the modeling part.\n",
        "\n",
        "Now, we can check out the data by printing the first few rows of each\n",
        "DataFrame. We can use the `first` function to get the first few rows of\n",
        "a DataFrame."
      ]
    },
    {
      "cell_type": "code",
      "execution_count": 4,
      "id": "8",
      "metadata": {},
      "outputs": [
        {
          "name": "stdout",
          "output_type": "stream",
          "text": [
            "Available panels:\n"
          ]
        },
        {
          "data": {
            "text/html": [
              "<div><div style = \"float: left;\"><span>5×2 DataFrame</span></div><div style = \"clear: both;\"></div></div><div class = \"data-frame\" style = \"overflow-x: scroll;\"><table class = \"data-frame\" style = \"margin-bottom: 6px;\"><thead><tr class = \"header\"><th class = \"rowNumber\" style = \"font-weight: bold; text-align: right;\">Row</th><th style = \"text-align: left;\">supplier</th><th style = \"text-align: left;\">truckloads_available</th></tr><tr class = \"subheader headerLastRow\"><th class = \"rowNumber\" style = \"font-weight: bold; text-align: right;\"></th><th title = \"String7\" style = \"text-align: left;\">String7</th><th title = \"Int64\" style = \"text-align: left;\">Int64</th></tr></thead><tbody><tr><td class = \"rowNumber\" style = \"font-weight: bold; text-align: right;\">1</td><td style = \"text-align: left;\">a_1</td><td style = \"text-align: right;\">478</td></tr><tr><td class = \"rowNumber\" style = \"font-weight: bold; text-align: right;\">2</td><td style = \"text-align: left;\">a_2</td><td style = \"text-align: right;\">371</td></tr><tr><td class = \"rowNumber\" style = \"font-weight: bold; text-align: right;\">3</td><td style = \"text-align: left;\">a_3</td><td style = \"text-align: right;\">361</td></tr><tr><td class = \"rowNumber\" style = \"font-weight: bold; text-align: right;\">4</td><td style = \"text-align: left;\">a_4</td><td style = \"text-align: right;\">415</td></tr><tr><td class = \"rowNumber\" style = \"font-weight: bold; text-align: right;\">5</td><td style = \"text-align: left;\">a_5</td><td style = \"text-align: right;\">354</td></tr></tbody></table></div>"
            ],
            "text/latex": [
              "\\begin{tabular}{r|cc}\n",
              "\t& supplier & truckloads\\_available\\\\\n",
              "\t\\hline\n",
              "\t& String7 & Int64\\\\\n",
              "\t\\hline\n",
              "\t1 & a\\_1 & 478 \\\\\n",
              "\t2 & a\\_2 & 371 \\\\\n",
              "\t3 & a\\_3 & 361 \\\\\n",
              "\t4 & a\\_4 & 415 \\\\\n",
              "\t5 & a\\_5 & 354 \\\\\n",
              "\\end{tabular}\n"
            ],
            "text/plain": [
              "\u001b[1m5×2 DataFrame\u001b[0m\n",
              "\u001b[1m Row \u001b[0m│\u001b[1m supplier \u001b[0m\u001b[1m truckloads_available \u001b[0m\n",
              "     │\u001b[90m String7  \u001b[0m\u001b[90m Int64                \u001b[0m\n",
              "─────┼────────────────────────────────\n",
              "   1 │ a_1                        478\n",
              "   2 │ a_2                        371\n",
              "   3 │ a_3                        361\n",
              "   4 │ a_4                        415\n",
              "   5 │ a_5                        354"
            ]
          },
          "metadata": {},
          "output_type": "display_data"
        }
      ],
      "source": [
        "println(\"Available panels:\")\n",
        "first(available,5)"
      ]
    },
    {
      "cell_type": "code",
      "execution_count": 5,
      "id": "10",
      "metadata": {},
      "outputs": [
        {
          "name": "stdout",
          "output_type": "stream",
          "text": [
            "Requested panels:\n"
          ]
        },
        {
          "data": {
            "text/html": [
              "<div><div style = \"float: left;\"><span>5×2 DataFrame</span></div><div style = \"clear: both;\"></div></div><div class = \"data-frame\" style = \"overflow-x: scroll;\"><table class = \"data-frame\" style = \"margin-bottom: 6px;\"><thead><tr class = \"header\"><th class = \"rowNumber\" style = \"font-weight: bold; text-align: right;\">Row</th><th style = \"text-align: left;\">solar_farm</th><th style = \"text-align: left;\">truckload_demand</th></tr><tr class = \"subheader headerLastRow\"><th class = \"rowNumber\" style = \"font-weight: bold; text-align: right;\"></th><th title = \"String7\" style = \"text-align: left;\">String7</th><th title = \"Int64\" style = \"text-align: left;\">Int64</th></tr></thead><tbody><tr><td class = \"rowNumber\" style = \"font-weight: bold; text-align: right;\">1</td><td style = \"text-align: left;\">b_1</td><td style = \"text-align: right;\">9</td></tr><tr><td class = \"rowNumber\" style = \"font-weight: bold; text-align: right;\">2</td><td style = \"text-align: left;\">b_2</td><td style = \"text-align: right;\">31</td></tr><tr><td class = \"rowNumber\" style = \"font-weight: bold; text-align: right;\">3</td><td style = \"text-align: left;\">b_3</td><td style = \"text-align: right;\">47</td></tr><tr><td class = \"rowNumber\" style = \"font-weight: bold; text-align: right;\">4</td><td style = \"text-align: left;\">b_4</td><td style = \"text-align: right;\">46</td></tr><tr><td class = \"rowNumber\" style = \"font-weight: bold; text-align: right;\">5</td><td style = \"text-align: left;\">b_5</td><td style = \"text-align: right;\">12</td></tr></tbody></table></div>"
            ],
            "text/latex": [
              "\\begin{tabular}{r|cc}\n",
              "\t& solar\\_farm & truckload\\_demand\\\\\n",
              "\t\\hline\n",
              "\t& String7 & Int64\\\\\n",
              "\t\\hline\n",
              "\t1 & b\\_1 & 9 \\\\\n",
              "\t2 & b\\_2 & 31 \\\\\n",
              "\t3 & b\\_3 & 47 \\\\\n",
              "\t4 & b\\_4 & 46 \\\\\n",
              "\t5 & b\\_5 & 12 \\\\\n",
              "\\end{tabular}\n"
            ],
            "text/plain": [
              "\u001b[1m5×2 DataFrame\u001b[0m\n",
              "\u001b[1m Row \u001b[0m│\u001b[1m solar_farm \u001b[0m\u001b[1m truckload_demand \u001b[0m\n",
              "     │\u001b[90m String7    \u001b[0m\u001b[90m Int64            \u001b[0m\n",
              "─────┼──────────────────────────────\n",
              "   1 │ b_1                        9\n",
              "   2 │ b_2                       31\n",
              "   3 │ b_3                       47\n",
              "   4 │ b_4                       46\n",
              "   5 │ b_5                       12"
            ]
          },
          "metadata": {},
          "output_type": "display_data"
        }
      ],
      "source": [
        "println(\"Requested panels:\")\n",
        "first(requested,5)"
      ]
    },
    {
      "cell_type": "code",
      "execution_count": 6,
      "id": "12",
      "metadata": {},
      "outputs": [
        {
          "name": "stdout",
          "output_type": "stream",
          "text": [
            "Travel costs:\n"
          ]
        },
        {
          "data": {
            "text/html": [
              "<div><div style = \"float: left;\"><span>5×3 DataFrame</span></div><div style = \"clear: both;\"></div></div><div class = \"data-frame\" style = \"overflow-x: scroll;\"><table class = \"data-frame\" style = \"margin-bottom: 6px;\"><thead><tr class = \"header\"><th class = \"rowNumber\" style = \"font-weight: bold; text-align: right;\">Row</th><th style = \"text-align: left;\">supplier</th><th style = \"text-align: left;\">solar_farm</th><th style = \"text-align: left;\">costs</th></tr><tr class = \"subheader headerLastRow\"><th class = \"rowNumber\" style = \"font-weight: bold; text-align: right;\"></th><th title = \"String7\" style = \"text-align: left;\">String7</th><th title = \"String7\" style = \"text-align: left;\">String7</th><th title = \"Int64\" style = \"text-align: left;\">Int64</th></tr></thead><tbody><tr><td class = \"rowNumber\" style = \"font-weight: bold; text-align: right;\">1</td><td style = \"text-align: left;\">a_1</td><td style = \"text-align: left;\">b_1</td><td style = \"text-align: right;\">8052</td></tr><tr><td class = \"rowNumber\" style = \"font-weight: bold; text-align: right;\">2</td><td style = \"text-align: left;\">a_2</td><td style = \"text-align: left;\">b_1</td><td style = \"text-align: right;\">11845</td></tr><tr><td class = \"rowNumber\" style = \"font-weight: bold; text-align: right;\">3</td><td style = \"text-align: left;\">a_3</td><td style = \"text-align: left;\">b_1</td><td style = \"text-align: right;\">6103</td></tr><tr><td class = \"rowNumber\" style = \"font-weight: bold; text-align: right;\">4</td><td style = \"text-align: left;\">a_4</td><td style = \"text-align: left;\">b_1</td><td style = \"text-align: right;\">11099</td></tr><tr><td class = \"rowNumber\" style = \"font-weight: bold; text-align: right;\">5</td><td style = \"text-align: left;\">a_5</td><td style = \"text-align: left;\">b_1</td><td style = \"text-align: right;\">5625</td></tr></tbody></table></div>"
            ],
            "text/latex": [
              "\\begin{tabular}{r|ccc}\n",
              "\t& supplier & solar\\_farm & costs\\\\\n",
              "\t\\hline\n",
              "\t& String7 & String7 & Int64\\\\\n",
              "\t\\hline\n",
              "\t1 & a\\_1 & b\\_1 & 8052 \\\\\n",
              "\t2 & a\\_2 & b\\_1 & 11845 \\\\\n",
              "\t3 & a\\_3 & b\\_1 & 6103 \\\\\n",
              "\t4 & a\\_4 & b\\_1 & 11099 \\\\\n",
              "\t5 & a\\_5 & b\\_1 & 5625 \\\\\n",
              "\\end{tabular}\n"
            ],
            "text/plain": [
              "\u001b[1m5×3 DataFrame\u001b[0m\n",
              "\u001b[1m Row \u001b[0m│\u001b[1m supplier \u001b[0m\u001b[1m solar_farm \u001b[0m\u001b[1m costs \u001b[0m\n",
              "     │\u001b[90m String7  \u001b[0m\u001b[90m String7    \u001b[0m\u001b[90m Int64 \u001b[0m\n",
              "─────┼─────────────────────────────\n",
              "   1 │ a_1       b_1          8052\n",
              "   2 │ a_2       b_1         11845\n",
              "   3 │ a_3       b_1          6103\n",
              "   4 │ a_4       b_1         11099\n",
              "   5 │ a_5       b_1          5625"
            ]
          },
          "metadata": {},
          "output_type": "display_data"
        }
      ],
      "source": [
        "println(\"Travel costs:\")\n",
        "first(travelCosts,5)"
      ]
    },
    {
      "cell_type": "markdown",
      "id": "4c7bcc37-275e-434a-a126-2cd30ca5bb58",
      "metadata": {},
      "source": [
        "## Exercise 1.1 - Understand the Data\n",
        "\n",
        "Take a moment to look at the data. Can you answer these questions?\n",
        "\n",
        "1.  How many warehouses do we have? Save the number in a variable called\n",
        "    `num_warehouses`.\n",
        "2.  How many solar farms are we supplying? Save the number in a variable\n",
        "    called `num_solar_farms`."
      ]
    },
    {
      "cell_type": "code",
      "execution_count": 7,
      "id": "14",
      "metadata": {},
      "outputs": [
        {
          "data": {
            "text/plain": [
              "1000"
            ]
          },
          "metadata": {},
          "output_type": "display_data"
        }
      ],
      "source": [
        "# YOUR ANSWERS BELOW\n",
        "# Hint: Use the `nrow()` function to count rows\n",
        "num_warehouses = nrow(available)\n",
        "num_solar_farms = nrow(requested)"
      ]
    },
    {
      "cell_type": "code",
      "execution_count": 8,
      "id": "16",
      "metadata": {},
      "outputs": [
        {
          "name": "stdout",
          "output_type": "stream",
          "text": [
            "Great job! Here are the answers:\n",
            "Number of warehouses: 100\n",
            "Number of solar farms: 1000\n"
          ]
        }
      ],
      "source": [
        "# Test your understanding\n",
        "@assert num_warehouses == nrow(available)\n",
        "@assert num_solar_farms == nrow(requested)\n",
        "\n",
        "println(\"Great job! Here are the answers:\")\n",
        "println(\"Number of warehouses: \", num_warehouses)\n",
        "println(\"Number of solar farms: \", num_solar_farms)"
      ]
    },
    {
      "cell_type": "markdown",
      "id": "77e10d87-2b86-4088-ab48-fbd42797f55f",
      "metadata": {},
      "source": [
        "# Section 2 - Using dictionaries to store the data\n",
        "\n",
        "Now, DataFrames are not a very convenient format for our purposes. We\n",
        "have several options now on how to deal with these data sets. As our\n",
        "suppliers and customers are given names, it might be useful to convert\n",
        "the data into dictionaries. Dictionaries are a great data structure that\n",
        "allow us to store key-value pairs, where the keys are unique identifiers\n",
        "and the values are the data associated with those keys. By using\n",
        "dictionaries, we can easily access and modify the data associated with a\n",
        "specific key."
      ]
    },
    {
      "cell_type": "code",
      "execution_count": 9,
      "id": "18",
      "metadata": {},
      "outputs": [
        {
          "data": {
            "text/plain": [
              "Dict{Tuple{String7, String7}, Int64} with 100000 entries:\n",
              "  (\"a_33\", \"b_450\") => 1903\n",
              "  (\"a_99\", \"b_340\") => 1749\n",
              "  (\"a_74\", \"b_249\") => 7016\n",
              "  (\"a_11\", \"b_278\") => 5788\n",
              "  (\"a_40\", \"b_35\")  => 11369\n",
              "  (\"a_48\", \"b_457\") => 6005\n",
              "  (\"a_69\", \"b_440\") => 9214\n",
              "  (\"a_59\", \"b_946\") => 1103\n",
              "  (\"a_35\", \"b_880\") => 2565\n",
              "  (\"a_96\", \"b_708\") => 4601\n",
              "  (\"a_1\", \"b_388\")  => 8823\n",
              "  (\"a_63\", \"b_843\") => 9774\n",
              "  (\"a_67\", \"b_576\") => 10079\n",
              "  (\"a_30\", \"b_687\") => 1058\n",
              "  (\"a_94\", \"b_205\") => 8087\n",
              "  (\"a_21\", \"b_445\") => 9613\n",
              "  (\"a_43\", \"b_77\")  => 3084\n",
              "  (\"a_36\", \"b_23\")  => 10357\n",
              "  (\"a_26\", \"b_711\") => 1217\n",
              "  ⋮                 => ⋮"
            ]
          },
          "metadata": {},
          "output_type": "display_data"
        }
      ],
      "source": [
        "available_dict = Dict(\n",
        "    available.supplier .=> available.truckloads_available\n",
        ")\n",
        "requested_dict = Dict(\n",
        "    requested.solar_farm .=> requested.truckload_demand\n",
        ")\n",
        "travelCosts_dict = Dict(\n",
        "    (row.supplier,row.solar_farm) => row.costs \n",
        "    for row in eachrow(travelCosts)\n",
        ")"
      ]
    },
    {
      "cell_type": "markdown",
      "id": "b4a5c49b-6db6-42b7-92d0-c29be938f18b",
      "metadata": {},
      "source": [
        "> **Tip**\n",
        ">\n",
        "> You can use the `Dict` function to create a dictionary from two arrays\n",
        "> or DataFrames. For example: `Dict(keys .=> values)` will create a\n",
        "> dictionary where the keys are the elements of the `keys` array and the\n",
        "> values are the elements of the `values` array.\n",
        "\n",
        "Now, let us check out the dictionaries. We can use the `first` function\n",
        "to get the first few key-value pairs of a dictionary."
      ]
    },
    {
      "cell_type": "code",
      "execution_count": 10,
      "id": "20",
      "metadata": {},
      "outputs": [
        {
          "name": "stdout",
          "output_type": "stream",
          "text": [
            "Available panels:\n"
          ]
        },
        {
          "data": {
            "text/plain": [
              "5-element Vector{Pair{String7, Int64}}:\n",
              " \"a_13\" => 145\n",
              " \"a_17\" => 181\n",
              " \"a_26\" => 405\n",
              " \"a_90\" => 479\n",
              " \"a_67\" => 430"
            ]
          },
          "metadata": {},
          "output_type": "display_data"
        }
      ],
      "source": [
        "println(\"Available panels:\")\n",
        "first(available_dict,5)"
      ]
    },
    {
      "cell_type": "code",
      "execution_count": 11,
      "id": "22",
      "metadata": {},
      "outputs": [
        {
          "name": "stdout",
          "output_type": "stream",
          "text": [
            "Travel costs:\n"
          ]
        },
        {
          "data": {
            "text/plain": [
              "5-element Vector{Pair{Tuple{String7, String7}, Int64}}:\n",
              " (\"a_33\", \"b_450\") => 1903\n",
              " (\"a_99\", \"b_340\") => 1749\n",
              " (\"a_74\", \"b_249\") => 7016\n",
              " (\"a_11\", \"b_278\") => 5788\n",
              "  (\"a_40\", \"b_35\") => 11369"
            ]
          },
          "metadata": {},
          "output_type": "display_data"
        }
      ],
      "source": [
        "println(\"Travel costs:\")\n",
        "first(travelCosts_dict,5)"
      ]
    },
    {
      "cell_type": "markdown",
      "id": "8f8ee9a4-fe20-4bf8-8ee7-e45e45d52dec",
      "metadata": {},
      "source": [
        "Remember, we can also access the value associated with a specific key in\n",
        "a dictionary by using the key inside square brackets. For example:\n",
        "`available_dict[\"a_1\"]` will return the value associated with the key\n",
        "`\"a_1\"`."
      ]
    },
    {
      "cell_type": "code",
      "execution_count": 12,
      "id": "24",
      "metadata": {},
      "outputs": [
        {
          "name": "stdout",
          "output_type": "stream",
          "text": [
            "Value associated with supplier 'a_1': "
          ]
        },
        {
          "data": {
            "text/plain": [
              "478"
            ]
          },
          "metadata": {},
          "output_type": "display_data"
        }
      ],
      "source": [
        "print(\"Value associated with supplier 'a_1': \")\n",
        "available_dict[\"a_1\"]"
      ]
    },
    {
      "cell_type": "markdown",
      "id": "e224262a-442a-4241-be70-06cc6c1cbb91",
      "metadata": {},
      "source": [
        "Our travel costs dictionary is a bit more complex, as it is dictionary\n",
        "with tuples as keys. We can access the value associated with a specific\n",
        "supplier and customer by using two keys inside square brackets. For\n",
        "example: `travelCosts_dict[(\"a_1\",\"b_1\")]` will return the value\n",
        "associated with the keys `(\"a_1\",\"b_1\")`."
      ]
    },
    {
      "cell_type": "code",
      "execution_count": 13,
      "id": "26",
      "metadata": {},
      "outputs": [
        {
          "name": "stdout",
          "output_type": "stream",
          "text": [
            "Value associated with supplier 'a_1' and customer 'b_1': "
          ]
        },
        {
          "data": {
            "text/plain": [
              "8052"
            ]
          },
          "metadata": {},
          "output_type": "display_data"
        }
      ],
      "source": [
        "print(\"Value associated with supplier 'a_1' and customer 'b_1': \")\n",
        "travelCosts_dict[(\"a_1\",\"b_1\")]"
      ]
    },
    {
      "cell_type": "markdown",
      "id": "df51bc96-f491-4fa0-b2fa-d8c800d66d00",
      "metadata": {},
      "source": [
        "We can also extract the keys and values of a dictionary using the `keys`\n",
        "and `values` functions."
      ]
    },
    {
      "cell_type": "code",
      "execution_count": 14,
      "id": "28",
      "metadata": {},
      "outputs": [
        {
          "name": "stdout",
          "output_type": "stream",
          "text": [
            "Keys of the travel costs dictionary:\n"
          ]
        },
        {
          "data": {
            "text/plain": [
              "5-element Vector{Tuple{String7, String7}}:\n",
              " (\"a_33\", \"b_450\")\n",
              " (\"a_99\", \"b_340\")\n",
              " (\"a_74\", \"b_249\")\n",
              " (\"a_11\", \"b_278\")\n",
              " (\"a_40\", \"b_35\")"
            ]
          },
          "metadata": {},
          "output_type": "display_data"
        }
      ],
      "source": [
        "println(\"Keys of the travel costs dictionary:\")\n",
        "first(keys(travelCosts_dict),5)"
      ]
    },
    {
      "cell_type": "code",
      "execution_count": 15,
      "id": "30",
      "metadata": {},
      "outputs": [
        {
          "name": "stdout",
          "output_type": "stream",
          "text": [
            "Values of the travel costs dictionary:\n"
          ]
        },
        {
          "data": {
            "text/plain": [
              "5-element Vector{Int64}:\n",
              "  1903\n",
              "  1749\n",
              "  7016\n",
              "  5788\n",
              " 11369"
            ]
          },
          "metadata": {},
          "output_type": "display_data"
        }
      ],
      "source": [
        "println(\"Values of the travel costs dictionary:\")\n",
        "first(values(travelCosts_dict),5)"
      ]
    },
    {
      "cell_type": "markdown",
      "id": "7529f184-9db7-4b88-bd97-83fda1292779",
      "metadata": {},
      "source": [
        "> **Note**\n",
        ">\n",
        "> You can also use the `haskey` function to check if a key is in a\n",
        "> dictionary. For example, `haskey(travelCosts_dict,(\"a_1\",\"b_1\"))` will\n",
        "> return `true` if `(\"a_1\",\"b_1\")` is a key in `travelCosts_dict`, and\n",
        "> `false` otherwise.\n",
        "\n",
        "Dictionaries make it a lot easier to access the data later on, as we can\n",
        "use the keys to directly access the desired value in our model. This\n",
        "will be useful when we want to define the constraints later on.\n",
        "\n",
        "# Section 3 - The model instance\n",
        "\n",
        "After the preprocessing and data loading, we now can create the model\n",
        "instance with the HiGHS optimizer.\n",
        "\n",
        "## Exercise 3.1 - Creating the model instance\n",
        "\n",
        "From the last tutorial, you should know how to do this. Create a model\n",
        "instance called `transport_model` and set the optimizer to HiGHS."
      ]
    },
    {
      "cell_type": "code",
      "execution_count": 16,
      "id": "32",
      "metadata": {},
      "outputs": [
        {
          "data": {
            "text/plain": [
              "A JuMP Model\n",
              "├ solver: HiGHS\n",
              "├ objective_sense: FEASIBILITY_SENSE\n",
              "├ num_variables: 0\n",
              "├ num_constraints: 0\n",
              "└ Names registered in the model: none"
            ]
          },
          "metadata": {},
          "output_type": "display_data"
        }
      ],
      "source": [
        "# YOUR CODE BELOW\n",
        "transport_model = Model(HiGHS.Optimizer)"
      ]
    },
    {
      "cell_type": "code",
      "execution_count": 17,
      "id": "34",
      "metadata": {},
      "outputs": [
        {
          "name": "stdout",
          "output_type": "stream",
          "text": [
            "Model instance created successfully!\n"
          ]
        }
      ],
      "source": [
        "# Test your answer\n",
        "@assert typeof(transport_model) == JuMP.Model\n",
        "println(\"Model instance created successfully!\")"
      ]
    },
    {
      "cell_type": "markdown",
      "id": "792a324c-09d7-469b-bc0c-2a2f590cb74f",
      "metadata": {},
      "source": [
        "# Section 4 - Defining the model\n",
        "\n",
        "## Define the variables\n",
        "\n",
        "We can now define the variables of our model. We need to define a\n",
        "variable for each supplier and customer pair. As before, we can use the\n",
        "`@variable` macro to define the variables. The syntax is\n",
        "`@variable(model, varname[index1,index2] >= 0)`, where `model` is the\n",
        "model instance, `varname` is the name of the variable, and `index1` and\n",
        "`index2` are the indices of the variable. We can use vectors as input\n",
        "for the indices, but we could also use the keys of the dictionaries. In\n",
        "the following code block we mixed both options, to show you that it is\n",
        "possible."
      ]
    },
    {
      "cell_type": "code",
      "execution_count": 18,
      "id": "36",
      "metadata": {},
      "outputs": [
        {
          "data": {
            "text/plain": [
              "2-dimensional DenseAxisArray{VariableRef,2,...} with index sets:\n",
              "    Dimension 1, String7[\"a_1\", \"a_2\", \"a_3\", \"a_4\", \"a_5\", \"a_6\", \"a_7\", \"a_8\", \"a_9\", \"a_10\"  …  \"a_91\", \"a_92\", \"a_93\", \"a_94\", \"a_95\", \"a_96\", \"a_97\", \"a_98\", \"a_99\", \"a_100\"]\n",
              "    Dimension 2, String7[\"b_435\", \"b_727\", \"b_634\", \"b_542\", \"b_434\", \"b_658\", \"b_241\", \"b_230\", \"b_336\", \"b_549\"  …  \"b_123\", \"b_245\", \"b_345\", \"b_553\", \"b_379\", \"b_322\", \"b_143\", \"b_803\", \"b_742\", \"b_724\"]\n",
              "And data, a 100×1000 Matrix{VariableRef}:\n",
              " X[a_1,b_435]    X[a_1,b_727]    …  X[a_1,b_742]    X[a_1,b_724]\n",
              " X[a_2,b_435]    X[a_2,b_727]       X[a_2,b_742]    X[a_2,b_724]\n",
              " X[a_3,b_435]    X[a_3,b_727]       X[a_3,b_742]    X[a_3,b_724]\n",
              " X[a_4,b_435]    X[a_4,b_727]       X[a_4,b_742]    X[a_4,b_724]\n",
              " X[a_5,b_435]    X[a_5,b_727]       X[a_5,b_742]    X[a_5,b_724]\n",
              " X[a_6,b_435]    X[a_6,b_727]    …  X[a_6,b_742]    X[a_6,b_724]\n",
              " X[a_7,b_435]    X[a_7,b_727]       X[a_7,b_742]    X[a_7,b_724]\n",
              " X[a_8,b_435]    X[a_8,b_727]       X[a_8,b_742]    X[a_8,b_724]\n",
              " X[a_9,b_435]    X[a_9,b_727]       X[a_9,b_742]    X[a_9,b_724]\n",
              " X[a_10,b_435]   X[a_10,b_727]      X[a_10,b_742]   X[a_10,b_724]\n",
              " ⋮                               ⋱                  \n",
              " X[a_92,b_435]   X[a_92,b_727]      X[a_92,b_742]   X[a_92,b_724]\n",
              " X[a_93,b_435]   X[a_93,b_727]      X[a_93,b_742]   X[a_93,b_724]\n",
              " X[a_94,b_435]   X[a_94,b_727]      X[a_94,b_742]   X[a_94,b_724]\n",
              " X[a_95,b_435]   X[a_95,b_727]      X[a_95,b_742]   X[a_95,b_724]\n",
              " X[a_96,b_435]   X[a_96,b_727]   …  X[a_96,b_742]   X[a_96,b_724]\n",
              " X[a_97,b_435]   X[a_97,b_727]      X[a_97,b_742]   X[a_97,b_724]\n",
              " X[a_98,b_435]   X[a_98,b_727]      X[a_98,b_742]   X[a_98,b_724]\n",
              " X[a_99,b_435]   X[a_99,b_727]      X[a_99,b_742]   X[a_99,b_724]\n",
              " X[a_100,b_435]  X[a_100,b_727]     X[a_100,b_742]  X[a_100,b_724]"
            ]
          },
          "metadata": {},
          "output_type": "display_data"
        }
      ],
      "source": [
        "# Define variable\n",
        "@variable(\n",
        "    transport_model, \n",
        "    X[available.supplier,keys(requested_dict)] >= 0\n",
        ")"
      ]
    },
    {
      "cell_type": "markdown",
      "id": "10d45b04-8291-431d-8997-c6cf280ae634",
      "metadata": {},
      "source": [
        "## Define the objective\n",
        "\n",
        "Next, we can define the objective of our model. We want to maximize the\n",
        "profit, which is the revenue minus the variable costs and the\n",
        "transportation costs. As before, we can use the `@objective` macro to\n",
        "define the objective. The syntax is\n",
        "`@objective(model, Max, expression)`, where `model` is the model\n",
        "instance, `Max` indicates that we want to maximize the expression, and\n",
        "`expression` is the expression we want to maximize."
      ]
    },
    {
      "cell_type": "code",
      "execution_count": 19,
      "id": "38",
      "metadata": {},
      "outputs": [
        {
          "data": {
            "text/latex": [
              "$ -2984 X_{a\\_13,b\\_435} - 4847 X_{a\\_13,b\\_727} + 1075 X_{a\\_13,b\\_634} + 884 X_{a\\_13,b\\_542} + 2825 X_{a\\_13,b\\_434} - 4052 X_{a\\_13,b\\_658} + 1214 X_{a\\_13,b\\_241} - 6772 X_{a\\_13,b\\_230} + 805 X_{a\\_13,b\\_336} - 1902 X_{a\\_13,b\\_549} - 2571 X_{a\\_13,b\\_811} - 6087 X_{a\\_13,b\\_529} + 2498 X_{a\\_13,b\\_360} - 3760 X_{a\\_13,b\\_467} + 1427 X_{a\\_13,b\\_418} + 3395 X_{a\\_13,b\\_276} - 2410 X_{a\\_13,b\\_561} - 5276 X_{a\\_13,b\\_980} - 5178 X_{a\\_13,b\\_447} - 4192 X_{a\\_13,b\\_599} - 1309 X_{a\\_13,b\\_6} - 4910 X_{a\\_13,b\\_442} - 6752 X_{a\\_13,b\\_619} + 2774 X_{a\\_13,b\\_924} - 1717 X_{a\\_13,b\\_606} + 2487 X_{a\\_13,b\\_841} - 5252 X_{a\\_13,b\\_674} + 1529 X_{a\\_13,b\\_55} - 6350 X_{a\\_13,b\\_505} + 2399 X_{a\\_13,b\\_648} - [[\\ldots\\text{99922 terms omitted}\\ldots]] - 4103 X_{a\\_54,b\\_369} - 813 X_{a\\_54,b\\_128} - 2717 X_{a\\_54,b\\_358} - 5080 X_{a\\_54,b\\_824} + 818 X_{a\\_54,b\\_178} - 6773 X_{a\\_54,b\\_38} - 4408 X_{a\\_54,b\\_124} - 3999 X_{a\\_54,b\\_151} - 5287 X_{a\\_54,b\\_684} + 777 X_{a\\_54,b\\_929} - 3464 X_{a\\_54,b\\_215} - 76 X_{a\\_54,b\\_661} - 4039 X_{a\\_54,b\\_352} - 2244 X_{a\\_54,b\\_357} - 6341 X_{a\\_54,b\\_892} - 2404 X_{a\\_54,b\\_909} - 3526 X_{a\\_54,b\\_560} - 3664 X_{a\\_54,b\\_763} - 5675 X_{a\\_54,b\\_289} - 414 X_{a\\_54,b\\_970} - 1548 X_{a\\_54,b\\_123} + 3237 X_{a\\_54,b\\_245} + 3261 X_{a\\_54,b\\_345} + 1925 X_{a\\_54,b\\_553} + 2774 X_{a\\_54,b\\_379} - 4453 X_{a\\_54,b\\_322} + 2580 X_{a\\_54,b\\_143} + 1519 X_{a\\_54,b\\_803} - 2218 X_{a\\_54,b\\_742} - 1891 X_{a\\_54,b\\_724} $"
            ],
            "text/plain": [
              "-2984 X[a_13,b_435] - 4847 X[a_13,b_727] + 1075 X[a_13,b_634] + 884 X[a_13,b_542] + 2825 X[a_13,b_434] - 4052 X[a_13,b_658] + 1214 X[a_13,b_241] - 6772 X[a_13,b_230] + 805 X[a_13,b_336] - 1902 X[a_13,b_549] - 2571 X[a_13,b_811] - 6087 X[a_13,b_529] + 2498 X[a_13,b_360] - 3760 X[a_13,b_467] + 1427 X[a_13,b_418] + 3395 X[a_13,b_276] - 2410 X[a_13,b_561] - 5276 X[a_13,b_980] - 5178 X[a_13,b_447] - 4192 X[a_13,b_599] - 1309 X[a_13,b_6] - 4910 X[a_13,b_442] - 6752 X[a_13,b_619] + 2774 X[a_13,b_924] - 1717 X[a_13,b_606] + 2487 X[a_13,b_841] - 5252 X[a_13,b_674] + 1529 X[a_13,b_55] - 6350 X[a_13,b_505] + 2399 X[a_13,b_648] - [[...99922 terms omitted...]] - 4103 X[a_54,b_369] - 813 X[a_54,b_128] - 2717 X[a_54,b_358] - 5080 X[a_54,b_824] + 818 X[a_54,b_178] - 6773 X[a_54,b_38] - 4408 X[a_54,b_124] - 3999 X[a_54,b_151] - 5287 X[a_54,b_684] + 777 X[a_54,b_929] - 3464 X[a_54,b_215] - 76 X[a_54,b_661] - 4039 X[a_54,b_352] - 2244 X[a_54,b_357] - 6341 X[a_54,b_892] - 2404 X[a_54,b_909] - 3526 X[a_54,b_560] - 3664 X[a_54,b_763] - 5675 X[a_54,b_289] - 414 X[a_54,b_970] - 1548 X[a_54,b_123] + 3237 X[a_54,b_245] + 3261 X[a_54,b_345] + 1925 X[a_54,b_553] + 2774 X[a_54,b_379] - 4453 X[a_54,b_322] + 2580 X[a_54,b_143] + 1519 X[a_54,b_803] - 2218 X[a_54,b_742] - 1891 X[a_54,b_724]"
            ]
          },
          "metadata": {},
          "output_type": "display_data"
        }
      ],
      "source": [
        "@objective(transport_model, Max, \n",
        "    sum((revenue-varCosts-travelCosts_dict[(i,j)]) * X[i,j] \n",
        "    for i in keys(available_dict), j in keys(requested_dict))\n",
        ")"
      ]
    },
    {
      "cell_type": "markdown",
      "id": "d344ec67-2053-448f-92d3-e591973ec3f8",
      "metadata": {},
      "source": [
        "## Define the constraints\n",
        "\n",
        "We can now define the constraints of our model. We need to ensure that\n",
        "the supply from each supplier is enough to cover the demand of each\n",
        "customer. We can use the `@constraint` macro to define the constraints.\n",
        "The syntax is `@constraint(model, expression)`, where `model` is the\n",
        "model instance and `expression` is the expression we want to constrain.\n",
        "\n",
        "To illustrate the use of dictionaries, we will again use the keys of the\n",
        "dictionaries to define the constraints in the following code block."
      ]
    },
    {
      "cell_type": "code",
      "execution_count": 20,
      "id": "40",
      "metadata": {},
      "outputs": [
        {
          "data": {
            "text/plain": [
              "1-dimensional DenseAxisArray{ConstraintRef{Model, MathOptInterface.ConstraintIndex{MathOptInterface.ScalarAffineFunction{Float64}, MathOptInterface.LessThan{Float64}}, ScalarShape},1,...} with index sets:\n",
              "    Dimension 1, String7[\"a_13\", \"a_17\", \"a_26\", \"a_90\", \"a_67\", \"a_64\", \"a_14\", \"a_2\", \"a_70\", \"a_80\"  …  \"a_10\", \"a_57\", \"a_92\", \"a_86\", \"a_46\", \"a_8\", \"a_74\", \"a_22\", \"a_24\", \"a_54\"]\n",
              "And data, a 100-element Vector{ConstraintRef{Model, MathOptInterface.ConstraintIndex{MathOptInterface.ScalarAffineFunction{Float64}, MathOptInterface.LessThan{Float64}}, ScalarShape}}:\n",
              " restrictAvailable[a_13] : X[a_13,b_435] + X[a_13,b_727] + X[a_13,b_634] + X[a_13,b_542] + X[a_13,b_434] + X[a_13,b_658] + X[a_13,b_241] + X[a_13,b_230] + X[a_13,b_336] + X[a_13,b_549] + X[a_13,b_811] + X[a_13,b_529] + X[a_13,b_360] + X[a_13,b_467] + X[a_13,b_418] + X[a_13,b_276] + X[a_13,b_561] + X[a_13,b_980] + X[a_13,b_447] + X[a_13,b_599] + X[a_13,b_6] + X[a_13,b_442] + X[a_13,b_619] + X[a_13,b_924] + X[a_13,b_606] + X[a_13,b_841] + X[a_13,b_674] + X[a_13,b_55] + X[a_13,b_505] + X[a_13,b_648] + [[...940 terms omitted...]] + X[a_13,b_369] + X[a_13,b_128] + X[a_13,b_358] + X[a_13,b_824] + X[a_13,b_178] + X[a_13,b_38] + X[a_13,b_124] + X[a_13,b_151] + X[a_13,b_684] + X[a_13,b_929] + X[a_13,b_215] + X[a_13,b_661] + X[a_13,b_352] + X[a_13,b_357] + X[a_13,b_892] + X[a_13,b_909] + X[a_13,b_560] + X[a_13,b_763] + X[a_13,b_289] + X[a_13,b_970] + X[a_13,b_123] + X[a_13,b_245] + X[a_13,b_345] + X[a_13,b_553] + X[a_13,b_379] + X[a_13,b_322] + X[a_13,b_143] + X[a_13,b_803] + X[a_13,b_742] + X[a_13,b_724] ≤ 145\n",
              " restrictAvailable[a_17] : X[a_17,b_435] + X[a_17,b_727] + X[a_17,b_634] + X[a_17,b_542] + X[a_17,b_434] + X[a_17,b_658] + X[a_17,b_241] + X[a_17,b_230] + X[a_17,b_336] + X[a_17,b_549] + X[a_17,b_811] + X[a_17,b_529] + X[a_17,b_360] + X[a_17,b_467] + X[a_17,b_418] + X[a_17,b_276] + X[a_17,b_561] + X[a_17,b_980] + X[a_17,b_447] + X[a_17,b_599] + X[a_17,b_6] + X[a_17,b_442] + X[a_17,b_619] + X[a_17,b_924] + X[a_17,b_606] + X[a_17,b_841] + X[a_17,b_674] + X[a_17,b_55] + X[a_17,b_505] + X[a_17,b_648] + [[...940 terms omitted...]] + X[a_17,b_369] + X[a_17,b_128] + X[a_17,b_358] + X[a_17,b_824] + X[a_17,b_178] + X[a_17,b_38] + X[a_17,b_124] + X[a_17,b_151] + X[a_17,b_684] + X[a_17,b_929] + X[a_17,b_215] + X[a_17,b_661] + X[a_17,b_352] + X[a_17,b_357] + X[a_17,b_892] + X[a_17,b_909] + X[a_17,b_560] + X[a_17,b_763] + X[a_17,b_289] + X[a_17,b_970] + X[a_17,b_123] + X[a_17,b_245] + X[a_17,b_345] + X[a_17,b_553] + X[a_17,b_379] + X[a_17,b_322] + X[a_17,b_143] + X[a_17,b_803] + X[a_17,b_742] + X[a_17,b_724] ≤ 181\n",
              " restrictAvailable[a_26] : X[a_26,b_435] + X[a_26,b_727] + X[a_26,b_634] + X[a_26,b_542] + X[a_26,b_434] + X[a_26,b_658] + X[a_26,b_241] + X[a_26,b_230] + X[a_26,b_336] + X[a_26,b_549] + X[a_26,b_811] + X[a_26,b_529] + X[a_26,b_360] + X[a_26,b_467] + X[a_26,b_418] + X[a_26,b_276] + X[a_26,b_561] + X[a_26,b_980] + X[a_26,b_447] + X[a_26,b_599] + X[a_26,b_6] + X[a_26,b_442] + X[a_26,b_619] + X[a_26,b_924] + X[a_26,b_606] + X[a_26,b_841] + X[a_26,b_674] + X[a_26,b_55] + X[a_26,b_505] + X[a_26,b_648] + [[...940 terms omitted...]] + X[a_26,b_369] + X[a_26,b_128] + X[a_26,b_358] + X[a_26,b_824] + X[a_26,b_178] + X[a_26,b_38] + X[a_26,b_124] + X[a_26,b_151] + X[a_26,b_684] + X[a_26,b_929] + X[a_26,b_215] + X[a_26,b_661] + X[a_26,b_352] + X[a_26,b_357] + X[a_26,b_892] + X[a_26,b_909] + X[a_26,b_560] + X[a_26,b_763] + X[a_26,b_289] + X[a_26,b_970] + X[a_26,b_123] + X[a_26,b_245] + X[a_26,b_345] + X[a_26,b_553] + X[a_26,b_379] + X[a_26,b_322] + X[a_26,b_143] + X[a_26,b_803] + X[a_26,b_742] + X[a_26,b_724] ≤ 405\n",
              " restrictAvailable[a_90] : X[a_90,b_435] + X[a_90,b_727] + X[a_90,b_634] + X[a_90,b_542] + X[a_90,b_434] + X[a_90,b_658] + X[a_90,b_241] + X[a_90,b_230] + X[a_90,b_336] + X[a_90,b_549] + X[a_90,b_811] + X[a_90,b_529] + X[a_90,b_360] + X[a_90,b_467] + X[a_90,b_418] + X[a_90,b_276] + X[a_90,b_561] + X[a_90,b_980] + X[a_90,b_447] + X[a_90,b_599] + X[a_90,b_6] + X[a_90,b_442] + X[a_90,b_619] + X[a_90,b_924] + X[a_90,b_606] + X[a_90,b_841] + X[a_90,b_674] + X[a_90,b_55] + X[a_90,b_505] + X[a_90,b_648] + [[...940 terms omitted...]] + X[a_90,b_369] + X[a_90,b_128] + X[a_90,b_358] + X[a_90,b_824] + X[a_90,b_178] + X[a_90,b_38] + X[a_90,b_124] + X[a_90,b_151] + X[a_90,b_684] + X[a_90,b_929] + X[a_90,b_215] + X[a_90,b_661] + X[a_90,b_352] + X[a_90,b_357] + X[a_90,b_892] + X[a_90,b_909] + X[a_90,b_560] + X[a_90,b_763] + X[a_90,b_289] + X[a_90,b_970] + X[a_90,b_123] + X[a_90,b_245] + X[a_90,b_345] + X[a_90,b_553] + X[a_90,b_379] + X[a_90,b_322] + X[a_90,b_143] + X[a_90,b_803] + X[a_90,b_742] + X[a_90,b_724] ≤ 479\n",
              " restrictAvailable[a_67] : X[a_67,b_435] + X[a_67,b_727] + X[a_67,b_634] + X[a_67,b_542] + X[a_67,b_434] + X[a_67,b_658] + X[a_67,b_241] + X[a_67,b_230] + X[a_67,b_336] + X[a_67,b_549] + X[a_67,b_811] + X[a_67,b_529] + X[a_67,b_360] + X[a_67,b_467] + X[a_67,b_418] + X[a_67,b_276] + X[a_67,b_561] + X[a_67,b_980] + X[a_67,b_447] + X[a_67,b_599] + X[a_67,b_6] + X[a_67,b_442] + X[a_67,b_619] + X[a_67,b_924] + X[a_67,b_606] + X[a_67,b_841] + X[a_67,b_674] + X[a_67,b_55] + X[a_67,b_505] + X[a_67,b_648] + [[...940 terms omitted...]] + X[a_67,b_369] + X[a_67,b_128] + X[a_67,b_358] + X[a_67,b_824] + X[a_67,b_178] + X[a_67,b_38] + X[a_67,b_124] + X[a_67,b_151] + X[a_67,b_684] + X[a_67,b_929] + X[a_67,b_215] + X[a_67,b_661] + X[a_67,b_352] + X[a_67,b_357] + X[a_67,b_892] + X[a_67,b_909] + X[a_67,b_560] + X[a_67,b_763] + X[a_67,b_289] + X[a_67,b_970] + X[a_67,b_123] + X[a_67,b_245] + X[a_67,b_345] + X[a_67,b_553] + X[a_67,b_379] + X[a_67,b_322] + X[a_67,b_143] + X[a_67,b_803] + X[a_67,b_742] + X[a_67,b_724] ≤ 430\n",
              " restrictAvailable[a_64] : X[a_64,b_435] + X[a_64,b_727] + X[a_64,b_634] + X[a_64,b_542] + X[a_64,b_434] + X[a_64,b_658] + X[a_64,b_241] + X[a_64,b_230] + X[a_64,b_336] + X[a_64,b_549] + X[a_64,b_811] + X[a_64,b_529] + X[a_64,b_360] + X[a_64,b_467] + X[a_64,b_418] + X[a_64,b_276] + X[a_64,b_561] + X[a_64,b_980] + X[a_64,b_447] + X[a_64,b_599] + X[a_64,b_6] + X[a_64,b_442] + X[a_64,b_619] + X[a_64,b_924] + X[a_64,b_606] + X[a_64,b_841] + X[a_64,b_674] + X[a_64,b_55] + X[a_64,b_505] + X[a_64,b_648] + [[...940 terms omitted...]] + X[a_64,b_369] + X[a_64,b_128] + X[a_64,b_358] + X[a_64,b_824] + X[a_64,b_178] + X[a_64,b_38] + X[a_64,b_124] + X[a_64,b_151] + X[a_64,b_684] + X[a_64,b_929] + X[a_64,b_215] + X[a_64,b_661] + X[a_64,b_352] + X[a_64,b_357] + X[a_64,b_892] + X[a_64,b_909] + X[a_64,b_560] + X[a_64,b_763] + X[a_64,b_289] + X[a_64,b_970] + X[a_64,b_123] + X[a_64,b_245] + X[a_64,b_345] + X[a_64,b_553] + X[a_64,b_379] + X[a_64,b_322] + X[a_64,b_143] + X[a_64,b_803] + X[a_64,b_742] + X[a_64,b_724] ≤ 330\n",
              " restrictAvailable[a_14] : X[a_14,b_435] + X[a_14,b_727] + X[a_14,b_634] + X[a_14,b_542] + X[a_14,b_434] + X[a_14,b_658] + X[a_14,b_241] + X[a_14,b_230] + X[a_14,b_336] + X[a_14,b_549] + X[a_14,b_811] + X[a_14,b_529] + X[a_14,b_360] + X[a_14,b_467] + X[a_14,b_418] + X[a_14,b_276] + X[a_14,b_561] + X[a_14,b_980] + X[a_14,b_447] + X[a_14,b_599] + X[a_14,b_6] + X[a_14,b_442] + X[a_14,b_619] + X[a_14,b_924] + X[a_14,b_606] + X[a_14,b_841] + X[a_14,b_674] + X[a_14,b_55] + X[a_14,b_505] + X[a_14,b_648] + [[...940 terms omitted...]] + X[a_14,b_369] + X[a_14,b_128] + X[a_14,b_358] + X[a_14,b_824] + X[a_14,b_178] + X[a_14,b_38] + X[a_14,b_124] + X[a_14,b_151] + X[a_14,b_684] + X[a_14,b_929] + X[a_14,b_215] + X[a_14,b_661] + X[a_14,b_352] + X[a_14,b_357] + X[a_14,b_892] + X[a_14,b_909] + X[a_14,b_560] + X[a_14,b_763] + X[a_14,b_289] + X[a_14,b_970] + X[a_14,b_123] + X[a_14,b_245] + X[a_14,b_345] + X[a_14,b_553] + X[a_14,b_379] + X[a_14,b_322] + X[a_14,b_143] + X[a_14,b_803] + X[a_14,b_742] + X[a_14,b_724] ≤ 455\n",
              " restrictAvailable[a_2] : X[a_2,b_435] + X[a_2,b_727] + X[a_2,b_634] + X[a_2,b_542] + X[a_2,b_434] + X[a_2,b_658] + X[a_2,b_241] + X[a_2,b_230] + X[a_2,b_336] + X[a_2,b_549] + X[a_2,b_811] + X[a_2,b_529] + X[a_2,b_360] + X[a_2,b_467] + X[a_2,b_418] + X[a_2,b_276] + X[a_2,b_561] + X[a_2,b_980] + X[a_2,b_447] + X[a_2,b_599] + X[a_2,b_6] + X[a_2,b_442] + X[a_2,b_619] + X[a_2,b_924] + X[a_2,b_606] + X[a_2,b_841] + X[a_2,b_674] + X[a_2,b_55] + X[a_2,b_505] + X[a_2,b_648] + [[...940 terms omitted...]] + X[a_2,b_369] + X[a_2,b_128] + X[a_2,b_358] + X[a_2,b_824] + X[a_2,b_178] + X[a_2,b_38] + X[a_2,b_124] + X[a_2,b_151] + X[a_2,b_684] + X[a_2,b_929] + X[a_2,b_215] + X[a_2,b_661] + X[a_2,b_352] + X[a_2,b_357] + X[a_2,b_892] + X[a_2,b_909] + X[a_2,b_560] + X[a_2,b_763] + X[a_2,b_289] + X[a_2,b_970] + X[a_2,b_123] + X[a_2,b_245] + X[a_2,b_345] + X[a_2,b_553] + X[a_2,b_379] + X[a_2,b_322] + X[a_2,b_143] + X[a_2,b_803] + X[a_2,b_742] + X[a_2,b_724] ≤ 371\n",
              " restrictAvailable[a_70] : X[a_70,b_435] + X[a_70,b_727] + X[a_70,b_634] + X[a_70,b_542] + X[a_70,b_434] + X[a_70,b_658] + X[a_70,b_241] + X[a_70,b_230] + X[a_70,b_336] + X[a_70,b_549] + X[a_70,b_811] + X[a_70,b_529] + X[a_70,b_360] + X[a_70,b_467] + X[a_70,b_418] + X[a_70,b_276] + X[a_70,b_561] + X[a_70,b_980] + X[a_70,b_447] + X[a_70,b_599] + X[a_70,b_6] + X[a_70,b_442] + X[a_70,b_619] + X[a_70,b_924] + X[a_70,b_606] + X[a_70,b_841] + X[a_70,b_674] + X[a_70,b_55] + X[a_70,b_505] + X[a_70,b_648] + [[...940 terms omitted...]] + X[a_70,b_369] + X[a_70,b_128] + X[a_70,b_358] + X[a_70,b_824] + X[a_70,b_178] + X[a_70,b_38] + X[a_70,b_124] + X[a_70,b_151] + X[a_70,b_684] + X[a_70,b_929] + X[a_70,b_215] + X[a_70,b_661] + X[a_70,b_352] + X[a_70,b_357] + X[a_70,b_892] + X[a_70,b_909] + X[a_70,b_560] + X[a_70,b_763] + X[a_70,b_289] + X[a_70,b_970] + X[a_70,b_123] + X[a_70,b_245] + X[a_70,b_345] + X[a_70,b_553] + X[a_70,b_379] + X[a_70,b_322] + X[a_70,b_143] + X[a_70,b_803] + X[a_70,b_742] + X[a_70,b_724] ≤ 135\n",
              " restrictAvailable[a_80] : X[a_80,b_435] + X[a_80,b_727] + X[a_80,b_634] + X[a_80,b_542] + X[a_80,b_434] + X[a_80,b_658] + X[a_80,b_241] + X[a_80,b_230] + X[a_80,b_336] + X[a_80,b_549] + X[a_80,b_811] + X[a_80,b_529] + X[a_80,b_360] + X[a_80,b_467] + X[a_80,b_418] + X[a_80,b_276] + X[a_80,b_561] + X[a_80,b_980] + X[a_80,b_447] + X[a_80,b_599] + X[a_80,b_6] + X[a_80,b_442] + X[a_80,b_619] + X[a_80,b_924] + X[a_80,b_606] + X[a_80,b_841] + X[a_80,b_674] + X[a_80,b_55] + X[a_80,b_505] + X[a_80,b_648] + [[...940 terms omitted...]] + X[a_80,b_369] + X[a_80,b_128] + X[a_80,b_358] + X[a_80,b_824] + X[a_80,b_178] + X[a_80,b_38] + X[a_80,b_124] + X[a_80,b_151] + X[a_80,b_684] + X[a_80,b_929] + X[a_80,b_215] + X[a_80,b_661] + X[a_80,b_352] + X[a_80,b_357] + X[a_80,b_892] + X[a_80,b_909] + X[a_80,b_560] + X[a_80,b_763] + X[a_80,b_289] + X[a_80,b_970] + X[a_80,b_123] + X[a_80,b_245] + X[a_80,b_345] + X[a_80,b_553] + X[a_80,b_379] + X[a_80,b_322] + X[a_80,b_143] + X[a_80,b_803] + X[a_80,b_742] + X[a_80,b_724] ≤ 240\n",
              " ⋮\n",
              " restrictAvailable[a_57] : X[a_57,b_435] + X[a_57,b_727] + X[a_57,b_634] + X[a_57,b_542] + X[a_57,b_434] + X[a_57,b_658] + X[a_57,b_241] + X[a_57,b_230] + X[a_57,b_336] + X[a_57,b_549] + X[a_57,b_811] + X[a_57,b_529] + X[a_57,b_360] + X[a_57,b_467] + X[a_57,b_418] + X[a_57,b_276] + X[a_57,b_561] + X[a_57,b_980] + X[a_57,b_447] + X[a_57,b_599] + X[a_57,b_6] + X[a_57,b_442] + X[a_57,b_619] + X[a_57,b_924] + X[a_57,b_606] + X[a_57,b_841] + X[a_57,b_674] + X[a_57,b_55] + X[a_57,b_505] + X[a_57,b_648] + [[...940 terms omitted...]] + X[a_57,b_369] + X[a_57,b_128] + X[a_57,b_358] + X[a_57,b_824] + X[a_57,b_178] + X[a_57,b_38] + X[a_57,b_124] + X[a_57,b_151] + X[a_57,b_684] + X[a_57,b_929] + X[a_57,b_215] + X[a_57,b_661] + X[a_57,b_352] + X[a_57,b_357] + X[a_57,b_892] + X[a_57,b_909] + X[a_57,b_560] + X[a_57,b_763] + X[a_57,b_289] + X[a_57,b_970] + X[a_57,b_123] + X[a_57,b_245] + X[a_57,b_345] + X[a_57,b_553] + X[a_57,b_379] + X[a_57,b_322] + X[a_57,b_143] + X[a_57,b_803] + X[a_57,b_742] + X[a_57,b_724] ≤ 493\n",
              " restrictAvailable[a_92] : X[a_92,b_435] + X[a_92,b_727] + X[a_92,b_634] + X[a_92,b_542] + X[a_92,b_434] + X[a_92,b_658] + X[a_92,b_241] + X[a_92,b_230] + X[a_92,b_336] + X[a_92,b_549] + X[a_92,b_811] + X[a_92,b_529] + X[a_92,b_360] + X[a_92,b_467] + X[a_92,b_418] + X[a_92,b_276] + X[a_92,b_561] + X[a_92,b_980] + X[a_92,b_447] + X[a_92,b_599] + X[a_92,b_6] + X[a_92,b_442] + X[a_92,b_619] + X[a_92,b_924] + X[a_92,b_606] + X[a_92,b_841] + X[a_92,b_674] + X[a_92,b_55] + X[a_92,b_505] + X[a_92,b_648] + [[...940 terms omitted...]] + X[a_92,b_369] + X[a_92,b_128] + X[a_92,b_358] + X[a_92,b_824] + X[a_92,b_178] + X[a_92,b_38] + X[a_92,b_124] + X[a_92,b_151] + X[a_92,b_684] + X[a_92,b_929] + X[a_92,b_215] + X[a_92,b_661] + X[a_92,b_352] + X[a_92,b_357] + X[a_92,b_892] + X[a_92,b_909] + X[a_92,b_560] + X[a_92,b_763] + X[a_92,b_289] + X[a_92,b_970] + X[a_92,b_123] + X[a_92,b_245] + X[a_92,b_345] + X[a_92,b_553] + X[a_92,b_379] + X[a_92,b_322] + X[a_92,b_143] + X[a_92,b_803] + X[a_92,b_742] + X[a_92,b_724] ≤ 151\n",
              " restrictAvailable[a_86] : X[a_86,b_435] + X[a_86,b_727] + X[a_86,b_634] + X[a_86,b_542] + X[a_86,b_434] + X[a_86,b_658] + X[a_86,b_241] + X[a_86,b_230] + X[a_86,b_336] + X[a_86,b_549] + X[a_86,b_811] + X[a_86,b_529] + X[a_86,b_360] + X[a_86,b_467] + X[a_86,b_418] + X[a_86,b_276] + X[a_86,b_561] + X[a_86,b_980] + X[a_86,b_447] + X[a_86,b_599] + X[a_86,b_6] + X[a_86,b_442] + X[a_86,b_619] + X[a_86,b_924] + X[a_86,b_606] + X[a_86,b_841] + X[a_86,b_674] + X[a_86,b_55] + X[a_86,b_505] + X[a_86,b_648] + [[...940 terms omitted...]] + X[a_86,b_369] + X[a_86,b_128] + X[a_86,b_358] + X[a_86,b_824] + X[a_86,b_178] + X[a_86,b_38] + X[a_86,b_124] + X[a_86,b_151] + X[a_86,b_684] + X[a_86,b_929] + X[a_86,b_215] + X[a_86,b_661] + X[a_86,b_352] + X[a_86,b_357] + X[a_86,b_892] + X[a_86,b_909] + X[a_86,b_560] + X[a_86,b_763] + X[a_86,b_289] + X[a_86,b_970] + X[a_86,b_123] + X[a_86,b_245] + X[a_86,b_345] + X[a_86,b_553] + X[a_86,b_379] + X[a_86,b_322] + X[a_86,b_143] + X[a_86,b_803] + X[a_86,b_742] + X[a_86,b_724] ≤ 358\n",
              " restrictAvailable[a_46] : X[a_46,b_435] + X[a_46,b_727] + X[a_46,b_634] + X[a_46,b_542] + X[a_46,b_434] + X[a_46,b_658] + X[a_46,b_241] + X[a_46,b_230] + X[a_46,b_336] + X[a_46,b_549] + X[a_46,b_811] + X[a_46,b_529] + X[a_46,b_360] + X[a_46,b_467] + X[a_46,b_418] + X[a_46,b_276] + X[a_46,b_561] + X[a_46,b_980] + X[a_46,b_447] + X[a_46,b_599] + X[a_46,b_6] + X[a_46,b_442] + X[a_46,b_619] + X[a_46,b_924] + X[a_46,b_606] + X[a_46,b_841] + X[a_46,b_674] + X[a_46,b_55] + X[a_46,b_505] + X[a_46,b_648] + [[...940 terms omitted...]] + X[a_46,b_369] + X[a_46,b_128] + X[a_46,b_358] + X[a_46,b_824] + X[a_46,b_178] + X[a_46,b_38] + X[a_46,b_124] + X[a_46,b_151] + X[a_46,b_684] + X[a_46,b_929] + X[a_46,b_215] + X[a_46,b_661] + X[a_46,b_352] + X[a_46,b_357] + X[a_46,b_892] + X[a_46,b_909] + X[a_46,b_560] + X[a_46,b_763] + X[a_46,b_289] + X[a_46,b_970] + X[a_46,b_123] + X[a_46,b_245] + X[a_46,b_345] + X[a_46,b_553] + X[a_46,b_379] + X[a_46,b_322] + X[a_46,b_143] + X[a_46,b_803] + X[a_46,b_742] + X[a_46,b_724] ≤ 368\n",
              " restrictAvailable[a_8] : X[a_8,b_435] + X[a_8,b_727] + X[a_8,b_634] + X[a_8,b_542] + X[a_8,b_434] + X[a_8,b_658] + X[a_8,b_241] + X[a_8,b_230] + X[a_8,b_336] + X[a_8,b_549] + X[a_8,b_811] + X[a_8,b_529] + X[a_8,b_360] + X[a_8,b_467] + X[a_8,b_418] + X[a_8,b_276] + X[a_8,b_561] + X[a_8,b_980] + X[a_8,b_447] + X[a_8,b_599] + X[a_8,b_6] + X[a_8,b_442] + X[a_8,b_619] + X[a_8,b_924] + X[a_8,b_606] + X[a_8,b_841] + X[a_8,b_674] + X[a_8,b_55] + X[a_8,b_505] + X[a_8,b_648] + [[...940 terms omitted...]] + X[a_8,b_369] + X[a_8,b_128] + X[a_8,b_358] + X[a_8,b_824] + X[a_8,b_178] + X[a_8,b_38] + X[a_8,b_124] + X[a_8,b_151] + X[a_8,b_684] + X[a_8,b_929] + X[a_8,b_215] + X[a_8,b_661] + X[a_8,b_352] + X[a_8,b_357] + X[a_8,b_892] + X[a_8,b_909] + X[a_8,b_560] + X[a_8,b_763] + X[a_8,b_289] + X[a_8,b_970] + X[a_8,b_123] + X[a_8,b_245] + X[a_8,b_345] + X[a_8,b_553] + X[a_8,b_379] + X[a_8,b_322] + X[a_8,b_143] + X[a_8,b_803] + X[a_8,b_742] + X[a_8,b_724] ≤ 160\n",
              " restrictAvailable[a_74] : X[a_74,b_435] + X[a_74,b_727] + X[a_74,b_634] + X[a_74,b_542] + X[a_74,b_434] + X[a_74,b_658] + X[a_74,b_241] + X[a_74,b_230] + X[a_74,b_336] + X[a_74,b_549] + X[a_74,b_811] + X[a_74,b_529] + X[a_74,b_360] + X[a_74,b_467] + X[a_74,b_418] + X[a_74,b_276] + X[a_74,b_561] + X[a_74,b_980] + X[a_74,b_447] + X[a_74,b_599] + X[a_74,b_6] + X[a_74,b_442] + X[a_74,b_619] + X[a_74,b_924] + X[a_74,b_606] + X[a_74,b_841] + X[a_74,b_674] + X[a_74,b_55] + X[a_74,b_505] + X[a_74,b_648] + [[...940 terms omitted...]] + X[a_74,b_369] + X[a_74,b_128] + X[a_74,b_358] + X[a_74,b_824] + X[a_74,b_178] + X[a_74,b_38] + X[a_74,b_124] + X[a_74,b_151] + X[a_74,b_684] + X[a_74,b_929] + X[a_74,b_215] + X[a_74,b_661] + X[a_74,b_352] + X[a_74,b_357] + X[a_74,b_892] + X[a_74,b_909] + X[a_74,b_560] + X[a_74,b_763] + X[a_74,b_289] + X[a_74,b_970] + X[a_74,b_123] + X[a_74,b_245] + X[a_74,b_345] + X[a_74,b_553] + X[a_74,b_379] + X[a_74,b_322] + X[a_74,b_143] + X[a_74,b_803] + X[a_74,b_742] + X[a_74,b_724] ≤ 166\n",
              " restrictAvailable[a_22] : X[a_22,b_435] + X[a_22,b_727] + X[a_22,b_634] + X[a_22,b_542] + X[a_22,b_434] + X[a_22,b_658] + X[a_22,b_241] + X[a_22,b_230] + X[a_22,b_336] + X[a_22,b_549] + X[a_22,b_811] + X[a_22,b_529] + X[a_22,b_360] + X[a_22,b_467] + X[a_22,b_418] + X[a_22,b_276] + X[a_22,b_561] + X[a_22,b_980] + X[a_22,b_447] + X[a_22,b_599] + X[a_22,b_6] + X[a_22,b_442] + X[a_22,b_619] + X[a_22,b_924] + X[a_22,b_606] + X[a_22,b_841] + X[a_22,b_674] + X[a_22,b_55] + X[a_22,b_505] + X[a_22,b_648] + [[...940 terms omitted...]] + X[a_22,b_369] + X[a_22,b_128] + X[a_22,b_358] + X[a_22,b_824] + X[a_22,b_178] + X[a_22,b_38] + X[a_22,b_124] + X[a_22,b_151] + X[a_22,b_684] + X[a_22,b_929] + X[a_22,b_215] + X[a_22,b_661] + X[a_22,b_352] + X[a_22,b_357] + X[a_22,b_892] + X[a_22,b_909] + X[a_22,b_560] + X[a_22,b_763] + X[a_22,b_289] + X[a_22,b_970] + X[a_22,b_123] + X[a_22,b_245] + X[a_22,b_345] + X[a_22,b_553] + X[a_22,b_379] + X[a_22,b_322] + X[a_22,b_143] + X[a_22,b_803] + X[a_22,b_742] + X[a_22,b_724] ≤ 161\n",
              " restrictAvailable[a_24] : X[a_24,b_435] + X[a_24,b_727] + X[a_24,b_634] + X[a_24,b_542] + X[a_24,b_434] + X[a_24,b_658] + X[a_24,b_241] + X[a_24,b_230] + X[a_24,b_336] + X[a_24,b_549] + X[a_24,b_811] + X[a_24,b_529] + X[a_24,b_360] + X[a_24,b_467] + X[a_24,b_418] + X[a_24,b_276] + X[a_24,b_561] + X[a_24,b_980] + X[a_24,b_447] + X[a_24,b_599] + X[a_24,b_6] + X[a_24,b_442] + X[a_24,b_619] + X[a_24,b_924] + X[a_24,b_606] + X[a_24,b_841] + X[a_24,b_674] + X[a_24,b_55] + X[a_24,b_505] + X[a_24,b_648] + [[...940 terms omitted...]] + X[a_24,b_369] + X[a_24,b_128] + X[a_24,b_358] + X[a_24,b_824] + X[a_24,b_178] + X[a_24,b_38] + X[a_24,b_124] + X[a_24,b_151] + X[a_24,b_684] + X[a_24,b_929] + X[a_24,b_215] + X[a_24,b_661] + X[a_24,b_352] + X[a_24,b_357] + X[a_24,b_892] + X[a_24,b_909] + X[a_24,b_560] + X[a_24,b_763] + X[a_24,b_289] + X[a_24,b_970] + X[a_24,b_123] + X[a_24,b_245] + X[a_24,b_345] + X[a_24,b_553] + X[a_24,b_379] + X[a_24,b_322] + X[a_24,b_143] + X[a_24,b_803] + X[a_24,b_742] + X[a_24,b_724] ≤ 175\n",
              " restrictAvailable[a_54] : X[a_54,b_435] + X[a_54,b_727] + X[a_54,b_634] + X[a_54,b_542] + X[a_54,b_434] + X[a_54,b_658] + X[a_54,b_241] + X[a_54,b_230] + X[a_54,b_336] + X[a_54,b_549] + X[a_54,b_811] + X[a_54,b_529] + X[a_54,b_360] + X[a_54,b_467] + X[a_54,b_418] + X[a_54,b_276] + X[a_54,b_561] + X[a_54,b_980] + X[a_54,b_447] + X[a_54,b_599] + X[a_54,b_6] + X[a_54,b_442] + X[a_54,b_619] + X[a_54,b_924] + X[a_54,b_606] + X[a_54,b_841] + X[a_54,b_674] + X[a_54,b_55] + X[a_54,b_505] + X[a_54,b_648] + [[...940 terms omitted...]] + X[a_54,b_369] + X[a_54,b_128] + X[a_54,b_358] + X[a_54,b_824] + X[a_54,b_178] + X[a_54,b_38] + X[a_54,b_124] + X[a_54,b_151] + X[a_54,b_684] + X[a_54,b_929] + X[a_54,b_215] + X[a_54,b_661] + X[a_54,b_352] + X[a_54,b_357] + X[a_54,b_892] + X[a_54,b_909] + X[a_54,b_560] + X[a_54,b_763] + X[a_54,b_289] + X[a_54,b_970] + X[a_54,b_123] + X[a_54,b_245] + X[a_54,b_345] + X[a_54,b_553] + X[a_54,b_379] + X[a_54,b_322] + X[a_54,b_143] + X[a_54,b_803] + X[a_54,b_742] + X[a_54,b_724] ≤ 155"
            ]
          },
          "metadata": {},
          "output_type": "display_data"
        }
      ],
      "source": [
        "@constraint(transport_model, \n",
        "    restrictAvailable[i in keys(available_dict)], \n",
        "    sum(X[i,j] for j in keys(requested_dict)) <= available_dict[i]\n",
        ")\n"
      ]
    },
    {
      "cell_type": "markdown",
      "id": "45497a42-52cb-4925-8e3f-b2975a621af5",
      "metadata": {},
      "source": [
        "Naturally, we could also use the vectors with the names from the\n",
        "DataFrames to define the constraints or we could also just work with\n",
        "ranges from the beginning, e.g. `1:length(available.supplier)` and\n",
        "`1:length(requested.solar_farm)`. Working with names is often more\n",
        "convenient, though."
      ]
    },
    {
      "cell_type": "code",
      "execution_count": 21,
      "id": "42",
      "metadata": {},
      "outputs": [
        {
          "data": {
            "text/plain": [
              "1-dimensional DenseAxisArray{ConstraintRef{Model, MathOptInterface.ConstraintIndex{MathOptInterface.ScalarAffineFunction{Float64}, MathOptInterface.LessThan{Float64}}, ScalarShape},1,...} with index sets:\n",
              "    Dimension 1, String7[\"b_1\", \"b_2\", \"b_3\", \"b_4\", \"b_5\", \"b_6\", \"b_7\", \"b_8\", \"b_9\", \"b_10\"  …  \"b_991\", \"b_992\", \"b_993\", \"b_994\", \"b_995\", \"b_996\", \"b_997\", \"b_998\", \"b_999\", \"b_1000\"]\n",
              "And data, a 1000-element Vector{ConstraintRef{Model, MathOptInterface.ConstraintIndex{MathOptInterface.ScalarAffineFunction{Float64}, MathOptInterface.LessThan{Float64}}, ScalarShape}}:\n",
              " restrictDemand[b_1] : X[a_1,b_1] + X[a_2,b_1] + X[a_3,b_1] + X[a_4,b_1] + X[a_5,b_1] + X[a_6,b_1] + X[a_7,b_1] + X[a_8,b_1] + X[a_9,b_1] + X[a_10,b_1] + X[a_11,b_1] + X[a_12,b_1] + X[a_13,b_1] + X[a_14,b_1] + X[a_15,b_1] + X[a_16,b_1] + X[a_17,b_1] + X[a_18,b_1] + X[a_19,b_1] + X[a_20,b_1] + X[a_21,b_1] + X[a_22,b_1] + X[a_23,b_1] + X[a_24,b_1] + X[a_25,b_1] + X[a_26,b_1] + X[a_27,b_1] + X[a_28,b_1] + X[a_29,b_1] + X[a_30,b_1] + [[...40 terms omitted...]] + X[a_71,b_1] + X[a_72,b_1] + X[a_73,b_1] + X[a_74,b_1] + X[a_75,b_1] + X[a_76,b_1] + X[a_77,b_1] + X[a_78,b_1] + X[a_79,b_1] + X[a_80,b_1] + X[a_81,b_1] + X[a_82,b_1] + X[a_83,b_1] + X[a_84,b_1] + X[a_85,b_1] + X[a_86,b_1] + X[a_87,b_1] + X[a_88,b_1] + X[a_89,b_1] + X[a_90,b_1] + X[a_91,b_1] + X[a_92,b_1] + X[a_93,b_1] + X[a_94,b_1] + X[a_95,b_1] + X[a_96,b_1] + X[a_97,b_1] + X[a_98,b_1] + X[a_99,b_1] + X[a_100,b_1] ≤ 9\n",
              " restrictDemand[b_2] : X[a_1,b_2] + X[a_2,b_2] + X[a_3,b_2] + X[a_4,b_2] + X[a_5,b_2] + X[a_6,b_2] + X[a_7,b_2] + X[a_8,b_2] + X[a_9,b_2] + X[a_10,b_2] + X[a_11,b_2] + X[a_12,b_2] + X[a_13,b_2] + X[a_14,b_2] + X[a_15,b_2] + X[a_16,b_2] + X[a_17,b_2] + X[a_18,b_2] + X[a_19,b_2] + X[a_20,b_2] + X[a_21,b_2] + X[a_22,b_2] + X[a_23,b_2] + X[a_24,b_2] + X[a_25,b_2] + X[a_26,b_2] + X[a_27,b_2] + X[a_28,b_2] + X[a_29,b_2] + X[a_30,b_2] + [[...40 terms omitted...]] + X[a_71,b_2] + X[a_72,b_2] + X[a_73,b_2] + X[a_74,b_2] + X[a_75,b_2] + X[a_76,b_2] + X[a_77,b_2] + X[a_78,b_2] + X[a_79,b_2] + X[a_80,b_2] + X[a_81,b_2] + X[a_82,b_2] + X[a_83,b_2] + X[a_84,b_2] + X[a_85,b_2] + X[a_86,b_2] + X[a_87,b_2] + X[a_88,b_2] + X[a_89,b_2] + X[a_90,b_2] + X[a_91,b_2] + X[a_92,b_2] + X[a_93,b_2] + X[a_94,b_2] + X[a_95,b_2] + X[a_96,b_2] + X[a_97,b_2] + X[a_98,b_2] + X[a_99,b_2] + X[a_100,b_2] ≤ 31\n",
              " restrictDemand[b_3] : X[a_1,b_3] + X[a_2,b_3] + X[a_3,b_3] + X[a_4,b_3] + X[a_5,b_3] + X[a_6,b_3] + X[a_7,b_3] + X[a_8,b_3] + X[a_9,b_3] + X[a_10,b_3] + X[a_11,b_3] + X[a_12,b_3] + X[a_13,b_3] + X[a_14,b_3] + X[a_15,b_3] + X[a_16,b_3] + X[a_17,b_3] + X[a_18,b_3] + X[a_19,b_3] + X[a_20,b_3] + X[a_21,b_3] + X[a_22,b_3] + X[a_23,b_3] + X[a_24,b_3] + X[a_25,b_3] + X[a_26,b_3] + X[a_27,b_3] + X[a_28,b_3] + X[a_29,b_3] + X[a_30,b_3] + [[...40 terms omitted...]] + X[a_71,b_3] + X[a_72,b_3] + X[a_73,b_3] + X[a_74,b_3] + X[a_75,b_3] + X[a_76,b_3] + X[a_77,b_3] + X[a_78,b_3] + X[a_79,b_3] + X[a_80,b_3] + X[a_81,b_3] + X[a_82,b_3] + X[a_83,b_3] + X[a_84,b_3] + X[a_85,b_3] + X[a_86,b_3] + X[a_87,b_3] + X[a_88,b_3] + X[a_89,b_3] + X[a_90,b_3] + X[a_91,b_3] + X[a_92,b_3] + X[a_93,b_3] + X[a_94,b_3] + X[a_95,b_3] + X[a_96,b_3] + X[a_97,b_3] + X[a_98,b_3] + X[a_99,b_3] + X[a_100,b_3] ≤ 47\n",
              " restrictDemand[b_4] : X[a_1,b_4] + X[a_2,b_4] + X[a_3,b_4] + X[a_4,b_4] + X[a_5,b_4] + X[a_6,b_4] + X[a_7,b_4] + X[a_8,b_4] + X[a_9,b_4] + X[a_10,b_4] + X[a_11,b_4] + X[a_12,b_4] + X[a_13,b_4] + X[a_14,b_4] + X[a_15,b_4] + X[a_16,b_4] + X[a_17,b_4] + X[a_18,b_4] + X[a_19,b_4] + X[a_20,b_4] + X[a_21,b_4] + X[a_22,b_4] + X[a_23,b_4] + X[a_24,b_4] + X[a_25,b_4] + X[a_26,b_4] + X[a_27,b_4] + X[a_28,b_4] + X[a_29,b_4] + X[a_30,b_4] + [[...40 terms omitted...]] + X[a_71,b_4] + X[a_72,b_4] + X[a_73,b_4] + X[a_74,b_4] + X[a_75,b_4] + X[a_76,b_4] + X[a_77,b_4] + X[a_78,b_4] + X[a_79,b_4] + X[a_80,b_4] + X[a_81,b_4] + X[a_82,b_4] + X[a_83,b_4] + X[a_84,b_4] + X[a_85,b_4] + X[a_86,b_4] + X[a_87,b_4] + X[a_88,b_4] + X[a_89,b_4] + X[a_90,b_4] + X[a_91,b_4] + X[a_92,b_4] + X[a_93,b_4] + X[a_94,b_4] + X[a_95,b_4] + X[a_96,b_4] + X[a_97,b_4] + X[a_98,b_4] + X[a_99,b_4] + X[a_100,b_4] ≤ 46\n",
              " restrictDemand[b_5] : X[a_1,b_5] + X[a_2,b_5] + X[a_3,b_5] + X[a_4,b_5] + X[a_5,b_5] + X[a_6,b_5] + X[a_7,b_5] + X[a_8,b_5] + X[a_9,b_5] + X[a_10,b_5] + X[a_11,b_5] + X[a_12,b_5] + X[a_13,b_5] + X[a_14,b_5] + X[a_15,b_5] + X[a_16,b_5] + X[a_17,b_5] + X[a_18,b_5] + X[a_19,b_5] + X[a_20,b_5] + X[a_21,b_5] + X[a_22,b_5] + X[a_23,b_5] + X[a_24,b_5] + X[a_25,b_5] + X[a_26,b_5] + X[a_27,b_5] + X[a_28,b_5] + X[a_29,b_5] + X[a_30,b_5] + [[...40 terms omitted...]] + X[a_71,b_5] + X[a_72,b_5] + X[a_73,b_5] + X[a_74,b_5] + X[a_75,b_5] + X[a_76,b_5] + X[a_77,b_5] + X[a_78,b_5] + X[a_79,b_5] + X[a_80,b_5] + X[a_81,b_5] + X[a_82,b_5] + X[a_83,b_5] + X[a_84,b_5] + X[a_85,b_5] + X[a_86,b_5] + X[a_87,b_5] + X[a_88,b_5] + X[a_89,b_5] + X[a_90,b_5] + X[a_91,b_5] + X[a_92,b_5] + X[a_93,b_5] + X[a_94,b_5] + X[a_95,b_5] + X[a_96,b_5] + X[a_97,b_5] + X[a_98,b_5] + X[a_99,b_5] + X[a_100,b_5] ≤ 12\n",
              " restrictDemand[b_6] : X[a_1,b_6] + X[a_2,b_6] + X[a_3,b_6] + X[a_4,b_6] + X[a_5,b_6] + X[a_6,b_6] + X[a_7,b_6] + X[a_8,b_6] + X[a_9,b_6] + X[a_10,b_6] + X[a_11,b_6] + X[a_12,b_6] + X[a_13,b_6] + X[a_14,b_6] + X[a_15,b_6] + X[a_16,b_6] + X[a_17,b_6] + X[a_18,b_6] + X[a_19,b_6] + X[a_20,b_6] + X[a_21,b_6] + X[a_22,b_6] + X[a_23,b_6] + X[a_24,b_6] + X[a_25,b_6] + X[a_26,b_6] + X[a_27,b_6] + X[a_28,b_6] + X[a_29,b_6] + X[a_30,b_6] + [[...40 terms omitted...]] + X[a_71,b_6] + X[a_72,b_6] + X[a_73,b_6] + X[a_74,b_6] + X[a_75,b_6] + X[a_76,b_6] + X[a_77,b_6] + X[a_78,b_6] + X[a_79,b_6] + X[a_80,b_6] + X[a_81,b_6] + X[a_82,b_6] + X[a_83,b_6] + X[a_84,b_6] + X[a_85,b_6] + X[a_86,b_6] + X[a_87,b_6] + X[a_88,b_6] + X[a_89,b_6] + X[a_90,b_6] + X[a_91,b_6] + X[a_92,b_6] + X[a_93,b_6] + X[a_94,b_6] + X[a_95,b_6] + X[a_96,b_6] + X[a_97,b_6] + X[a_98,b_6] + X[a_99,b_6] + X[a_100,b_6] ≤ 22\n",
              " restrictDemand[b_7] : X[a_1,b_7] + X[a_2,b_7] + X[a_3,b_7] + X[a_4,b_7] + X[a_5,b_7] + X[a_6,b_7] + X[a_7,b_7] + X[a_8,b_7] + X[a_9,b_7] + X[a_10,b_7] + X[a_11,b_7] + X[a_12,b_7] + X[a_13,b_7] + X[a_14,b_7] + X[a_15,b_7] + X[a_16,b_7] + X[a_17,b_7] + X[a_18,b_7] + X[a_19,b_7] + X[a_20,b_7] + X[a_21,b_7] + X[a_22,b_7] + X[a_23,b_7] + X[a_24,b_7] + X[a_25,b_7] + X[a_26,b_7] + X[a_27,b_7] + X[a_28,b_7] + X[a_29,b_7] + X[a_30,b_7] + [[...40 terms omitted...]] + X[a_71,b_7] + X[a_72,b_7] + X[a_73,b_7] + X[a_74,b_7] + X[a_75,b_7] + X[a_76,b_7] + X[a_77,b_7] + X[a_78,b_7] + X[a_79,b_7] + X[a_80,b_7] + X[a_81,b_7] + X[a_82,b_7] + X[a_83,b_7] + X[a_84,b_7] + X[a_85,b_7] + X[a_86,b_7] + X[a_87,b_7] + X[a_88,b_7] + X[a_89,b_7] + X[a_90,b_7] + X[a_91,b_7] + X[a_92,b_7] + X[a_93,b_7] + X[a_94,b_7] + X[a_95,b_7] + X[a_96,b_7] + X[a_97,b_7] + X[a_98,b_7] + X[a_99,b_7] + X[a_100,b_7] ≤ 41\n",
              " restrictDemand[b_8] : X[a_1,b_8] + X[a_2,b_8] + X[a_3,b_8] + X[a_4,b_8] + X[a_5,b_8] + X[a_6,b_8] + X[a_7,b_8] + X[a_8,b_8] + X[a_9,b_8] + X[a_10,b_8] + X[a_11,b_8] + X[a_12,b_8] + X[a_13,b_8] + X[a_14,b_8] + X[a_15,b_8] + X[a_16,b_8] + X[a_17,b_8] + X[a_18,b_8] + X[a_19,b_8] + X[a_20,b_8] + X[a_21,b_8] + X[a_22,b_8] + X[a_23,b_8] + X[a_24,b_8] + X[a_25,b_8] + X[a_26,b_8] + X[a_27,b_8] + X[a_28,b_8] + X[a_29,b_8] + X[a_30,b_8] + [[...40 terms omitted...]] + X[a_71,b_8] + X[a_72,b_8] + X[a_73,b_8] + X[a_74,b_8] + X[a_75,b_8] + X[a_76,b_8] + X[a_77,b_8] + X[a_78,b_8] + X[a_79,b_8] + X[a_80,b_8] + X[a_81,b_8] + X[a_82,b_8] + X[a_83,b_8] + X[a_84,b_8] + X[a_85,b_8] + X[a_86,b_8] + X[a_87,b_8] + X[a_88,b_8] + X[a_89,b_8] + X[a_90,b_8] + X[a_91,b_8] + X[a_92,b_8] + X[a_93,b_8] + X[a_94,b_8] + X[a_95,b_8] + X[a_96,b_8] + X[a_97,b_8] + X[a_98,b_8] + X[a_99,b_8] + X[a_100,b_8] ≤ 45\n",
              " restrictDemand[b_9] : X[a_1,b_9] + X[a_2,b_9] + X[a_3,b_9] + X[a_4,b_9] + X[a_5,b_9] + X[a_6,b_9] + X[a_7,b_9] + X[a_8,b_9] + X[a_9,b_9] + X[a_10,b_9] + X[a_11,b_9] + X[a_12,b_9] + X[a_13,b_9] + X[a_14,b_9] + X[a_15,b_9] + X[a_16,b_9] + X[a_17,b_9] + X[a_18,b_9] + X[a_19,b_9] + X[a_20,b_9] + X[a_21,b_9] + X[a_22,b_9] + X[a_23,b_9] + X[a_24,b_9] + X[a_25,b_9] + X[a_26,b_9] + X[a_27,b_9] + X[a_28,b_9] + X[a_29,b_9] + X[a_30,b_9] + [[...40 terms omitted...]] + X[a_71,b_9] + X[a_72,b_9] + X[a_73,b_9] + X[a_74,b_9] + X[a_75,b_9] + X[a_76,b_9] + X[a_77,b_9] + X[a_78,b_9] + X[a_79,b_9] + X[a_80,b_9] + X[a_81,b_9] + X[a_82,b_9] + X[a_83,b_9] + X[a_84,b_9] + X[a_85,b_9] + X[a_86,b_9] + X[a_87,b_9] + X[a_88,b_9] + X[a_89,b_9] + X[a_90,b_9] + X[a_91,b_9] + X[a_92,b_9] + X[a_93,b_9] + X[a_94,b_9] + X[a_95,b_9] + X[a_96,b_9] + X[a_97,b_9] + X[a_98,b_9] + X[a_99,b_9] + X[a_100,b_9] ≤ 12\n",
              " restrictDemand[b_10] : X[a_1,b_10] + X[a_2,b_10] + X[a_3,b_10] + X[a_4,b_10] + X[a_5,b_10] + X[a_6,b_10] + X[a_7,b_10] + X[a_8,b_10] + X[a_9,b_10] + X[a_10,b_10] + X[a_11,b_10] + X[a_12,b_10] + X[a_13,b_10] + X[a_14,b_10] + X[a_15,b_10] + X[a_16,b_10] + X[a_17,b_10] + X[a_18,b_10] + X[a_19,b_10] + X[a_20,b_10] + X[a_21,b_10] + X[a_22,b_10] + X[a_23,b_10] + X[a_24,b_10] + X[a_25,b_10] + X[a_26,b_10] + X[a_27,b_10] + X[a_28,b_10] + X[a_29,b_10] + X[a_30,b_10] + [[...40 terms omitted...]] + X[a_71,b_10] + X[a_72,b_10] + X[a_73,b_10] + X[a_74,b_10] + X[a_75,b_10] + X[a_76,b_10] + X[a_77,b_10] + X[a_78,b_10] + X[a_79,b_10] + X[a_80,b_10] + X[a_81,b_10] + X[a_82,b_10] + X[a_83,b_10] + X[a_84,b_10] + X[a_85,b_10] + X[a_86,b_10] + X[a_87,b_10] + X[a_88,b_10] + X[a_89,b_10] + X[a_90,b_10] + X[a_91,b_10] + X[a_92,b_10] + X[a_93,b_10] + X[a_94,b_10] + X[a_95,b_10] + X[a_96,b_10] + X[a_97,b_10] + X[a_98,b_10] + X[a_99,b_10] + X[a_100,b_10] ≤ 25\n",
              " ⋮\n",
              " restrictDemand[b_992] : X[a_1,b_992] + X[a_2,b_992] + X[a_3,b_992] + X[a_4,b_992] + X[a_5,b_992] + X[a_6,b_992] + X[a_7,b_992] + X[a_8,b_992] + X[a_9,b_992] + X[a_10,b_992] + X[a_11,b_992] + X[a_12,b_992] + X[a_13,b_992] + X[a_14,b_992] + X[a_15,b_992] + X[a_16,b_992] + X[a_17,b_992] + X[a_18,b_992] + X[a_19,b_992] + X[a_20,b_992] + X[a_21,b_992] + X[a_22,b_992] + X[a_23,b_992] + X[a_24,b_992] + X[a_25,b_992] + X[a_26,b_992] + X[a_27,b_992] + X[a_28,b_992] + X[a_29,b_992] + X[a_30,b_992] + [[...40 terms omitted...]] + X[a_71,b_992] + X[a_72,b_992] + X[a_73,b_992] + X[a_74,b_992] + X[a_75,b_992] + X[a_76,b_992] + X[a_77,b_992] + X[a_78,b_992] + X[a_79,b_992] + X[a_80,b_992] + X[a_81,b_992] + X[a_82,b_992] + X[a_83,b_992] + X[a_84,b_992] + X[a_85,b_992] + X[a_86,b_992] + X[a_87,b_992] + X[a_88,b_992] + X[a_89,b_992] + X[a_90,b_992] + X[a_91,b_992] + X[a_92,b_992] + X[a_93,b_992] + X[a_94,b_992] + X[a_95,b_992] + X[a_96,b_992] + X[a_97,b_992] + X[a_98,b_992] + X[a_99,b_992] + X[a_100,b_992] ≤ 21\n",
              " restrictDemand[b_993] : X[a_1,b_993] + X[a_2,b_993] + X[a_3,b_993] + X[a_4,b_993] + X[a_5,b_993] + X[a_6,b_993] + X[a_7,b_993] + X[a_8,b_993] + X[a_9,b_993] + X[a_10,b_993] + X[a_11,b_993] + X[a_12,b_993] + X[a_13,b_993] + X[a_14,b_993] + X[a_15,b_993] + X[a_16,b_993] + X[a_17,b_993] + X[a_18,b_993] + X[a_19,b_993] + X[a_20,b_993] + X[a_21,b_993] + X[a_22,b_993] + X[a_23,b_993] + X[a_24,b_993] + X[a_25,b_993] + X[a_26,b_993] + X[a_27,b_993] + X[a_28,b_993] + X[a_29,b_993] + X[a_30,b_993] + [[...40 terms omitted...]] + X[a_71,b_993] + X[a_72,b_993] + X[a_73,b_993] + X[a_74,b_993] + X[a_75,b_993] + X[a_76,b_993] + X[a_77,b_993] + X[a_78,b_993] + X[a_79,b_993] + X[a_80,b_993] + X[a_81,b_993] + X[a_82,b_993] + X[a_83,b_993] + X[a_84,b_993] + X[a_85,b_993] + X[a_86,b_993] + X[a_87,b_993] + X[a_88,b_993] + X[a_89,b_993] + X[a_90,b_993] + X[a_91,b_993] + X[a_92,b_993] + X[a_93,b_993] + X[a_94,b_993] + X[a_95,b_993] + X[a_96,b_993] + X[a_97,b_993] + X[a_98,b_993] + X[a_99,b_993] + X[a_100,b_993] ≤ 33\n",
              " restrictDemand[b_994] : X[a_1,b_994] + X[a_2,b_994] + X[a_3,b_994] + X[a_4,b_994] + X[a_5,b_994] + X[a_6,b_994] + X[a_7,b_994] + X[a_8,b_994] + X[a_9,b_994] + X[a_10,b_994] + X[a_11,b_994] + X[a_12,b_994] + X[a_13,b_994] + X[a_14,b_994] + X[a_15,b_994] + X[a_16,b_994] + X[a_17,b_994] + X[a_18,b_994] + X[a_19,b_994] + X[a_20,b_994] + X[a_21,b_994] + X[a_22,b_994] + X[a_23,b_994] + X[a_24,b_994] + X[a_25,b_994] + X[a_26,b_994] + X[a_27,b_994] + X[a_28,b_994] + X[a_29,b_994] + X[a_30,b_994] + [[...40 terms omitted...]] + X[a_71,b_994] + X[a_72,b_994] + X[a_73,b_994] + X[a_74,b_994] + X[a_75,b_994] + X[a_76,b_994] + X[a_77,b_994] + X[a_78,b_994] + X[a_79,b_994] + X[a_80,b_994] + X[a_81,b_994] + X[a_82,b_994] + X[a_83,b_994] + X[a_84,b_994] + X[a_85,b_994] + X[a_86,b_994] + X[a_87,b_994] + X[a_88,b_994] + X[a_89,b_994] + X[a_90,b_994] + X[a_91,b_994] + X[a_92,b_994] + X[a_93,b_994] + X[a_94,b_994] + X[a_95,b_994] + X[a_96,b_994] + X[a_97,b_994] + X[a_98,b_994] + X[a_99,b_994] + X[a_100,b_994] ≤ 15\n",
              " restrictDemand[b_995] : X[a_1,b_995] + X[a_2,b_995] + X[a_3,b_995] + X[a_4,b_995] + X[a_5,b_995] + X[a_6,b_995] + X[a_7,b_995] + X[a_8,b_995] + X[a_9,b_995] + X[a_10,b_995] + X[a_11,b_995] + X[a_12,b_995] + X[a_13,b_995] + X[a_14,b_995] + X[a_15,b_995] + X[a_16,b_995] + X[a_17,b_995] + X[a_18,b_995] + X[a_19,b_995] + X[a_20,b_995] + X[a_21,b_995] + X[a_22,b_995] + X[a_23,b_995] + X[a_24,b_995] + X[a_25,b_995] + X[a_26,b_995] + X[a_27,b_995] + X[a_28,b_995] + X[a_29,b_995] + X[a_30,b_995] + [[...40 terms omitted...]] + X[a_71,b_995] + X[a_72,b_995] + X[a_73,b_995] + X[a_74,b_995] + X[a_75,b_995] + X[a_76,b_995] + X[a_77,b_995] + X[a_78,b_995] + X[a_79,b_995] + X[a_80,b_995] + X[a_81,b_995] + X[a_82,b_995] + X[a_83,b_995] + X[a_84,b_995] + X[a_85,b_995] + X[a_86,b_995] + X[a_87,b_995] + X[a_88,b_995] + X[a_89,b_995] + X[a_90,b_995] + X[a_91,b_995] + X[a_92,b_995] + X[a_93,b_995] + X[a_94,b_995] + X[a_95,b_995] + X[a_96,b_995] + X[a_97,b_995] + X[a_98,b_995] + X[a_99,b_995] + X[a_100,b_995] ≤ 11\n",
              " restrictDemand[b_996] : X[a_1,b_996] + X[a_2,b_996] + X[a_3,b_996] + X[a_4,b_996] + X[a_5,b_996] + X[a_6,b_996] + X[a_7,b_996] + X[a_8,b_996] + X[a_9,b_996] + X[a_10,b_996] + X[a_11,b_996] + X[a_12,b_996] + X[a_13,b_996] + X[a_14,b_996] + X[a_15,b_996] + X[a_16,b_996] + X[a_17,b_996] + X[a_18,b_996] + X[a_19,b_996] + X[a_20,b_996] + X[a_21,b_996] + X[a_22,b_996] + X[a_23,b_996] + X[a_24,b_996] + X[a_25,b_996] + X[a_26,b_996] + X[a_27,b_996] + X[a_28,b_996] + X[a_29,b_996] + X[a_30,b_996] + [[...40 terms omitted...]] + X[a_71,b_996] + X[a_72,b_996] + X[a_73,b_996] + X[a_74,b_996] + X[a_75,b_996] + X[a_76,b_996] + X[a_77,b_996] + X[a_78,b_996] + X[a_79,b_996] + X[a_80,b_996] + X[a_81,b_996] + X[a_82,b_996] + X[a_83,b_996] + X[a_84,b_996] + X[a_85,b_996] + X[a_86,b_996] + X[a_87,b_996] + X[a_88,b_996] + X[a_89,b_996] + X[a_90,b_996] + X[a_91,b_996] + X[a_92,b_996] + X[a_93,b_996] + X[a_94,b_996] + X[a_95,b_996] + X[a_96,b_996] + X[a_97,b_996] + X[a_98,b_996] + X[a_99,b_996] + X[a_100,b_996] ≤ 33\n",
              " restrictDemand[b_997] : X[a_1,b_997] + X[a_2,b_997] + X[a_3,b_997] + X[a_4,b_997] + X[a_5,b_997] + X[a_6,b_997] + X[a_7,b_997] + X[a_8,b_997] + X[a_9,b_997] + X[a_10,b_997] + X[a_11,b_997] + X[a_12,b_997] + X[a_13,b_997] + X[a_14,b_997] + X[a_15,b_997] + X[a_16,b_997] + X[a_17,b_997] + X[a_18,b_997] + X[a_19,b_997] + X[a_20,b_997] + X[a_21,b_997] + X[a_22,b_997] + X[a_23,b_997] + X[a_24,b_997] + X[a_25,b_997] + X[a_26,b_997] + X[a_27,b_997] + X[a_28,b_997] + X[a_29,b_997] + X[a_30,b_997] + [[...40 terms omitted...]] + X[a_71,b_997] + X[a_72,b_997] + X[a_73,b_997] + X[a_74,b_997] + X[a_75,b_997] + X[a_76,b_997] + X[a_77,b_997] + X[a_78,b_997] + X[a_79,b_997] + X[a_80,b_997] + X[a_81,b_997] + X[a_82,b_997] + X[a_83,b_997] + X[a_84,b_997] + X[a_85,b_997] + X[a_86,b_997] + X[a_87,b_997] + X[a_88,b_997] + X[a_89,b_997] + X[a_90,b_997] + X[a_91,b_997] + X[a_92,b_997] + X[a_93,b_997] + X[a_94,b_997] + X[a_95,b_997] + X[a_96,b_997] + X[a_97,b_997] + X[a_98,b_997] + X[a_99,b_997] + X[a_100,b_997] ≤ 36\n",
              " restrictDemand[b_998] : X[a_1,b_998] + X[a_2,b_998] + X[a_3,b_998] + X[a_4,b_998] + X[a_5,b_998] + X[a_6,b_998] + X[a_7,b_998] + X[a_8,b_998] + X[a_9,b_998] + X[a_10,b_998] + X[a_11,b_998] + X[a_12,b_998] + X[a_13,b_998] + X[a_14,b_998] + X[a_15,b_998] + X[a_16,b_998] + X[a_17,b_998] + X[a_18,b_998] + X[a_19,b_998] + X[a_20,b_998] + X[a_21,b_998] + X[a_22,b_998] + X[a_23,b_998] + X[a_24,b_998] + X[a_25,b_998] + X[a_26,b_998] + X[a_27,b_998] + X[a_28,b_998] + X[a_29,b_998] + X[a_30,b_998] + [[...40 terms omitted...]] + X[a_71,b_998] + X[a_72,b_998] + X[a_73,b_998] + X[a_74,b_998] + X[a_75,b_998] + X[a_76,b_998] + X[a_77,b_998] + X[a_78,b_998] + X[a_79,b_998] + X[a_80,b_998] + X[a_81,b_998] + X[a_82,b_998] + X[a_83,b_998] + X[a_84,b_998] + X[a_85,b_998] + X[a_86,b_998] + X[a_87,b_998] + X[a_88,b_998] + X[a_89,b_998] + X[a_90,b_998] + X[a_91,b_998] + X[a_92,b_998] + X[a_93,b_998] + X[a_94,b_998] + X[a_95,b_998] + X[a_96,b_998] + X[a_97,b_998] + X[a_98,b_998] + X[a_99,b_998] + X[a_100,b_998] ≤ 13\n",
              " restrictDemand[b_999] : X[a_1,b_999] + X[a_2,b_999] + X[a_3,b_999] + X[a_4,b_999] + X[a_5,b_999] + X[a_6,b_999] + X[a_7,b_999] + X[a_8,b_999] + X[a_9,b_999] + X[a_10,b_999] + X[a_11,b_999] + X[a_12,b_999] + X[a_13,b_999] + X[a_14,b_999] + X[a_15,b_999] + X[a_16,b_999] + X[a_17,b_999] + X[a_18,b_999] + X[a_19,b_999] + X[a_20,b_999] + X[a_21,b_999] + X[a_22,b_999] + X[a_23,b_999] + X[a_24,b_999] + X[a_25,b_999] + X[a_26,b_999] + X[a_27,b_999] + X[a_28,b_999] + X[a_29,b_999] + X[a_30,b_999] + [[...40 terms omitted...]] + X[a_71,b_999] + X[a_72,b_999] + X[a_73,b_999] + X[a_74,b_999] + X[a_75,b_999] + X[a_76,b_999] + X[a_77,b_999] + X[a_78,b_999] + X[a_79,b_999] + X[a_80,b_999] + X[a_81,b_999] + X[a_82,b_999] + X[a_83,b_999] + X[a_84,b_999] + X[a_85,b_999] + X[a_86,b_999] + X[a_87,b_999] + X[a_88,b_999] + X[a_89,b_999] + X[a_90,b_999] + X[a_91,b_999] + X[a_92,b_999] + X[a_93,b_999] + X[a_94,b_999] + X[a_95,b_999] + X[a_96,b_999] + X[a_97,b_999] + X[a_98,b_999] + X[a_99,b_999] + X[a_100,b_999] ≤ 37\n",
              " restrictDemand[b_1000] : X[a_1,b_1000] + X[a_2,b_1000] + X[a_3,b_1000] + X[a_4,b_1000] + X[a_5,b_1000] + X[a_6,b_1000] + X[a_7,b_1000] + X[a_8,b_1000] + X[a_9,b_1000] + X[a_10,b_1000] + X[a_11,b_1000] + X[a_12,b_1000] + X[a_13,b_1000] + X[a_14,b_1000] + X[a_15,b_1000] + X[a_16,b_1000] + X[a_17,b_1000] + X[a_18,b_1000] + X[a_19,b_1000] + X[a_20,b_1000] + X[a_21,b_1000] + X[a_22,b_1000] + X[a_23,b_1000] + X[a_24,b_1000] + X[a_25,b_1000] + X[a_26,b_1000] + X[a_27,b_1000] + X[a_28,b_1000] + X[a_29,b_1000] + X[a_30,b_1000] + [[...40 terms omitted...]] + X[a_71,b_1000] + X[a_72,b_1000] + X[a_73,b_1000] + X[a_74,b_1000] + X[a_75,b_1000] + X[a_76,b_1000] + X[a_77,b_1000] + X[a_78,b_1000] + X[a_79,b_1000] + X[a_80,b_1000] + X[a_81,b_1000] + X[a_82,b_1000] + X[a_83,b_1000] + X[a_84,b_1000] + X[a_85,b_1000] + X[a_86,b_1000] + X[a_87,b_1000] + X[a_88,b_1000] + X[a_89,b_1000] + X[a_90,b_1000] + X[a_91,b_1000] + X[a_92,b_1000] + X[a_93,b_1000] + X[a_94,b_1000] + X[a_95,b_1000] + X[a_96,b_1000] + X[a_97,b_1000] + X[a_98,b_1000] + X[a_99,b_1000] + X[a_100,b_1000] ≤ 15"
            ]
          },
          "metadata": {},
          "output_type": "display_data"
        }
      ],
      "source": [
        "@constraint(transport_model,\n",
        "    restrictDemand[j in requested.solar_farm], \n",
        "    sum(X[i,j] for i in available.supplier) <= requested_dict[j]\n",
        ")"
      ]
    },
    {
      "cell_type": "markdown",
      "id": "24d0dbde-1d72-4ff1-b7f6-dffcea280f1a",
      "metadata": {},
      "source": [
        "And that’s it! We have now defined the model and can start optimizing.\n",
        "\n",
        "# Section 5 - Solving the model\n",
        "\n",
        "## Exercise 5.1 - Start optimization\n",
        "\n",
        "Start the optimization as usual by calling the `optimize!` function on\n",
        "the model instance."
      ]
    },
    {
      "cell_type": "code",
      "execution_count": 22,
      "id": "44",
      "metadata": {},
      "outputs": [
        {
          "name": "stdout",
          "output_type": "stream",
          "text": [
            "Running HiGHS 1.8.0 (git hash: fcfb53414): Copyright (c) 2024 HiGHS under MIT licence terms\n",
            "Coefficient ranges:\n",
            "  Matrix [1e+00, 1e+00]\n",
            "  Cost   [1e+00, 7e+03]\n",
            "  Bound  [0e+00, 0e+00]\n",
            "  RHS    [6e+00, 5e+02]\n",
            "Presolving model\n",
            "1100 rows, 33689 cols, 67378 nonzeros  0s\n",
            "1100 rows, 33689 cols, 67378 nonzeros  0s\n",
            "Presolve : Reductions: rows 1100(-0); columns 33689(-66311); elements 67378(-132622)\n",
            "Solving the presolved LP\n",
            "Using EKK dual simplex solver - serial\n",
            "  Iteration        Objective     Infeasibilities num(sum)\n",
            "          0    -6.1896193553e+07 Ph1: 1100(67378); Du: 33689(6.18962e+07) 0s\n",
            "       3013    -1.0037340600e+08 Pr: 0(0) 0s\n",
            "Solving the original LP from the solution after postsolve\n",
            "Model   status      : Optimal\n",
            "Simplex   iterations: 3013\n",
            "Objective value     :  1.0037340600e+08\n",
            "HiGHS run time      :          0.46\n"
          ]
        }
      ],
      "source": [
        "# YOUR CODE BELOW\n",
        "optimize!(transport_model)"
      ]
    },
    {
      "cell_type": "code",
      "execution_count": 23,
      "id": "46",
      "metadata": {},
      "outputs": [
        {
          "name": "stdout",
          "output_type": "stream",
          "text": [
            "Model optimized successfully!\n"
          ]
        }
      ],
      "source": [
        "# Test your answer\n",
        "@assert termination_status(transport_model) == MOI.OPTIMAL\n",
        "println(\"Model optimized successfully!\")"
      ]
    },
    {
      "cell_type": "markdown",
      "id": "37bb4de5-76b5-4a99-8c4b-81b95b64337f",
      "metadata": {},
      "source": [
        "Now, we can access the values of the variables at the optimal solution.\n",
        "But remember, we defined the variables with the keys of the\n",
        "dictionaries, so we need to convert the result back to a DataFrame.\n",
        "Calling the variable itself will just show the structure of the\n",
        "variable, not the values."
      ]
    },
    {
      "cell_type": "code",
      "execution_count": 24,
      "id": "48",
      "metadata": {},
      "outputs": [
        {
          "data": {
            "text/plain": [
              "5-element Vector{VariableRef}:\n",
              " X[a_1,b_435]\n",
              " X[a_2,b_435]\n",
              " X[a_3,b_435]\n",
              " X[a_4,b_435]\n",
              " X[a_5,b_435]"
            ]
          },
          "metadata": {},
          "output_type": "display_data"
        }
      ],
      "source": [
        "first(X,5)"
      ]
    },
    {
      "cell_type": "markdown",
      "id": "8cc052dd-ca22-4b0e-b82a-6a8eadbc6536",
      "metadata": {},
      "source": [
        "Thus, we need to use the `value` function to extract the values from the\n",
        "variable."
      ]
    },
    {
      "cell_type": "code",
      "execution_count": 25,
      "id": "50",
      "metadata": {},
      "outputs": [
        {
          "data": {
            "text/plain": [
              "2-dimensional DenseAxisArray{Float64,2,...} with index sets:\n",
              "    Dimension 1, String7[\"a_1\", \"a_2\", \"a_3\", \"a_4\", \"a_5\", \"a_6\", \"a_7\", \"a_8\", \"a_9\", \"a_10\"  …  \"a_91\", \"a_92\", \"a_93\", \"a_94\", \"a_95\", \"a_96\", \"a_97\", \"a_98\", \"a_99\", \"a_100\"]\n",
              "    Dimension 2, String7[\"b_435\", \"b_727\", \"b_634\", \"b_542\", \"b_434\", \"b_658\", \"b_241\", \"b_230\", \"b_336\", \"b_549\"  …  \"b_123\", \"b_245\", \"b_345\", \"b_553\", \"b_379\", \"b_322\", \"b_143\", \"b_803\", \"b_742\", \"b_724\"]\n",
              "And data, a 100×1000 Matrix{Float64}:\n",
              " 0.0  0.0  0.0  0.0  0.0  0.0  0.0  …  0.0  0.0  0.0  43.0  0.0  0.0  0.0\n",
              " 0.0  0.0  0.0  0.0  0.0  0.0  0.0     0.0  0.0  0.0   0.0  0.0  0.0  0.0\n",
              " 0.0  0.0  0.0  0.0  0.0  0.0  0.0     0.0  0.0  0.0   0.0  0.0  0.0  0.0\n",
              " 0.0  0.0  0.0  0.0  0.0  0.0  0.0     0.0  0.0  0.0   0.0  0.0  0.0  0.0\n",
              " 0.0  0.0  0.0  0.0  0.0  0.0  0.0     0.0  0.0  0.0   0.0  0.0  0.0  0.0\n",
              " 0.0  0.0  0.0  0.0  0.0  0.0  0.0  …  0.0  0.0  0.0   0.0  0.0  7.0  0.0\n",
              " 0.0  0.0  0.0  0.0  0.0  0.0  0.0     0.0  0.0  0.0   0.0  0.0  0.0  0.0\n",
              " 0.0  0.0  0.0  0.0  0.0  0.0  0.0     0.0  0.0  0.0   0.0  0.0  0.0  0.0\n",
              " 0.0  0.0  0.0  0.0  0.0  0.0  0.0     0.0  0.0  0.0   0.0  0.0  0.0  0.0\n",
              " 0.0  0.0  0.0  0.0  0.0  0.0  0.0     0.0  0.0  0.0   0.0  0.0  0.0  0.0\n",
              " ⋮                        ⋮         ⋱            ⋮                    \n",
              " 0.0  0.0  0.0  0.0  0.0  0.0  0.0     0.0  0.0  0.0   0.0  0.0  0.0  0.0\n",
              " 0.0  0.0  0.0  0.0  0.0  0.0  0.0     0.0  0.0  0.0   0.0  0.0  0.0  0.0\n",
              " 0.0  0.0  0.0  0.0  0.0  0.0  0.0     0.0  0.0  0.0   0.0  0.0  0.0  0.0\n",
              " 0.0  0.0  0.0  0.0  0.0  0.0  0.0     0.0  0.0  0.0   0.0  0.0  0.0  0.0\n",
              " 0.0  0.0  0.0  0.0  0.0  0.0  0.0  …  0.0  0.0  0.0   0.0  0.0  0.0  0.0\n",
              " 0.0  0.0  0.0  0.0  0.0  0.0  0.0     0.0  0.0  0.0   0.0  0.0  0.0  0.0\n",
              " 0.0  0.0  0.0  0.0  0.0  0.0  0.0     0.0  0.0  0.0   0.0  0.0  0.0  0.0\n",
              " 0.0  0.0  0.0  0.0  0.0  0.0  0.0     0.0  0.0  0.0   0.0  0.0  0.0  0.0\n",
              " 0.0  0.0  0.0  0.0  0.0  0.0  0.0     0.0  0.0  0.0   0.0  0.0  0.0  0.0"
            ]
          },
          "metadata": {},
          "output_type": "display_data"
        }
      ],
      "source": [
        "transport_values = value.(X)"
      ]
    },
    {
      "cell_type": "markdown",
      "id": "923dfa69-e2dd-4d4e-bebc-6d192f7436bf",
      "metadata": {},
      "source": [
        "The result is a `DenseAxisArray{Float64,2,...}` with index sets. To\n",
        "convert it to a DataFrame, we just need to iterate over the keys\n",
        "dictionaries and store the values in a new DataFrame. As we are not\n",
        "interested in values which are zero, we can skip those.\n",
        "\n",
        "First, we need to initialize an empty DataFrame with the correct column\n",
        "names."
      ]
    },
    {
      "cell_type": "code",
      "execution_count": 26,
      "id": "52",
      "metadata": {},
      "outputs": [
        {
          "data": {
            "text/html": [
              "<div><div style = \"float: left;\"><span>0×3 DataFrame</span></div><div style = \"clear: both;\"></div></div><div class = \"data-frame\" style = \"overflow-x: scroll;\"><table class = \"data-frame\" style = \"margin-bottom: 6px;\"><thead><tr class = \"header\"><th class = \"rowNumber\" style = \"font-weight: bold; text-align: right;\">Row</th><th style = \"text-align: left;\">supplier</th><th style = \"text-align: left;\">solar_farm</th><th style = \"text-align: left;\">truckloads</th></tr><tr class = \"subheader headerLastRow\"><th class = \"rowNumber\" style = \"font-weight: bold; text-align: right;\"></th><th title = \"Any\" style = \"text-align: left;\">Any</th><th title = \"Any\" style = \"text-align: left;\">Any</th><th title = \"Any\" style = \"text-align: left;\">Any</th></tr></thead><tbody></tbody></table></div>"
            ],
            "text/latex": [
              "\\begin{tabular}{r|ccc}\n",
              "\t& supplier & solar\\_farm & truckloads\\\\\n",
              "\t\\hline\n",
              "\t& Any & Any & Any\\\\\n",
              "\t\\hline\n",
              "\\end{tabular}\n"
            ],
            "text/plain": [
              "\u001b[1m0×3 DataFrame\u001b[0m\n",
              "\u001b[1m Row \u001b[0m│\u001b[1m supplier \u001b[0m\u001b[1m solar_farm \u001b[0m\u001b[1m truckloads \u001b[0m\n",
              "     │\u001b[90m Any      \u001b[0m\u001b[90m Any        \u001b[0m\u001b[90m Any        \u001b[0m\n",
              "─────┴──────────────────────────────────"
            ]
          },
          "metadata": {},
          "output_type": "display_data"
        }
      ],
      "source": [
        "transport_df = DataFrame(\n",
        "    supplier = [],\n",
        "    solar_farm = [],\n",
        "    truckloads = []\n",
        ")"
      ]
    },
    {
      "cell_type": "markdown",
      "id": "9a064063-94ea-466a-b61b-2a33c713d319",
      "metadata": {},
      "source": [
        "Then, we can iterate over the keys of the dictionaries and store the\n",
        "values in the DataFrame if they are greater than zero."
      ]
    },
    {
      "cell_type": "code",
      "execution_count": 27,
      "id": "54",
      "metadata": {},
      "outputs": [],
      "source": [
        "for i in keys(available_dict)\n",
        "    for j in keys(requested_dict)\n",
        "        if transport_values[i,j] > 0\n",
        "            push!(transport_df, (\n",
        "                supplier = i,\n",
        "                solar_farm = j,\n",
        "                truckloads = transport_values[i,j]\n",
        "                )\n",
        "            )\n",
        "        end\n",
        "    end\n",
        "end"
      ]
    },
    {
      "cell_type": "markdown",
      "id": "def5099d-ef9d-4d4f-8a80-2ba2c408df16",
      "metadata": {},
      "source": [
        "Finally, we can print the first few rows of the transportation plan to\n",
        "check if it looks correct."
      ]
    },
    {
      "cell_type": "code",
      "execution_count": 28,
      "id": "56",
      "metadata": {},
      "outputs": [
        {
          "name": "stdout",
          "output_type": "stream",
          "text": [
            "Begining of the transportation plan:\n"
          ]
        },
        {
          "data": {
            "text/html": [
              "<div><div style = \"float: left;\"><span>5×3 DataFrame</span></div><div style = \"clear: both;\"></div></div><div class = \"data-frame\" style = \"overflow-x: scroll;\"><table class = \"data-frame\" style = \"margin-bottom: 6px;\"><thead><tr class = \"header\"><th class = \"rowNumber\" style = \"font-weight: bold; text-align: right;\">Row</th><th style = \"text-align: left;\">supplier</th><th style = \"text-align: left;\">solar_farm</th><th style = \"text-align: left;\">truckloads</th></tr><tr class = \"subheader headerLastRow\"><th class = \"rowNumber\" style = \"font-weight: bold; text-align: right;\"></th><th title = \"Any\" style = \"text-align: left;\">Any</th><th title = \"Any\" style = \"text-align: left;\">Any</th><th title = \"Any\" style = \"text-align: left;\">Any</th></tr></thead><tbody><tr><td class = \"rowNumber\" style = \"font-weight: bold; text-align: right;\">1</td><td style = \"text-align: left;\">a_13</td><td style = \"text-align: left;\">b_493</td><td style = \"text-align: left;\">38.0</td></tr><tr><td class = \"rowNumber\" style = \"font-weight: bold; text-align: right;\">2</td><td style = \"text-align: left;\">a_13</td><td style = \"text-align: left;\">b_407</td><td style = \"text-align: left;\">7.0</td></tr><tr><td class = \"rowNumber\" style = \"font-weight: bold; text-align: right;\">3</td><td style = \"text-align: left;\">a_13</td><td style = \"text-align: left;\">b_898</td><td style = \"text-align: left;\">32.0</td></tr><tr><td class = \"rowNumber\" style = \"font-weight: bold; text-align: right;\">4</td><td style = \"text-align: left;\">a_13</td><td style = \"text-align: left;\">b_988</td><td style = \"text-align: left;\">15.0</td></tr><tr><td class = \"rowNumber\" style = \"font-weight: bold; text-align: right;\">5</td><td style = \"text-align: left;\">a_13</td><td style = \"text-align: left;\">b_959</td><td style = \"text-align: left;\">7.0</td></tr></tbody></table></div>"
            ],
            "text/latex": [
              "\\begin{tabular}{r|ccc}\n",
              "\t& supplier & solar\\_farm & truckloads\\\\\n",
              "\t\\hline\n",
              "\t& Any & Any & Any\\\\\n",
              "\t\\hline\n",
              "\t1 & a\\_13 & b\\_493 & 38.0 \\\\\n",
              "\t2 & a\\_13 & b\\_407 & 7.0 \\\\\n",
              "\t3 & a\\_13 & b\\_898 & 32.0 \\\\\n",
              "\t4 & a\\_13 & b\\_988 & 15.0 \\\\\n",
              "\t5 & a\\_13 & b\\_959 & 7.0 \\\\\n",
              "\\end{tabular}\n"
            ],
            "text/plain": [
              "\u001b[1m5×3 DataFrame\u001b[0m\n",
              "\u001b[1m Row \u001b[0m│\u001b[1m supplier \u001b[0m\u001b[1m solar_farm \u001b[0m\u001b[1m truckloads \u001b[0m\n",
              "     │\u001b[90m Any      \u001b[0m\u001b[90m Any        \u001b[0m\u001b[90m Any        \u001b[0m\n",
              "─────┼──────────────────────────────────\n",
              "   1 │ a_13      b_493       38.0\n",
              "   2 │ a_13      b_407       7.0\n",
              "   3 │ a_13      b_898       32.0\n",
              "   4 │ a_13      b_988       15.0\n",
              "   5 │ a_13      b_959       7.0"
            ]
          },
          "metadata": {},
          "output_type": "display_data"
        }
      ],
      "source": [
        "println(\"Begining of the transportation plan:\")\n",
        "first(transport_df,5)"
      ]
    },
    {
      "cell_type": "markdown",
      "id": "c6b6a5d8-25ef-4d73-96e9-622f093cdced",
      "metadata": {},
      "source": [
        "> **Note**\n",
        ">\n",
        "> Although the above code looks rather complicated, it is essentially\n",
        "> just iterating over the keys of the dictionaries and storing the\n",
        "> values in a new DataFrame. This is a common pattern in optimization,\n",
        "> as we often want to convert the result of an optimization problem into\n",
        "> a more convenient format for reporting or further processing.\n",
        "\n",
        "# Conclusion\n",
        "\n",
        "In this tutorial, we have learned how to model and solve the\n",
        "transportation problem using JuMP. We have also learned how to use\n",
        "dictionaries to store and access the data, which will be useful for more\n",
        "complex models. If you have any questions, feel free to ask me via\n",
        "email!\n",
        "\n",
        "# Solutions\n",
        "\n",
        "You will likely find solutions to most exercises online. However, I\n",
        "strongly encourage you to work on these exercises independently without\n",
        "searching explicitly for the exact answers to the exercises.\n",
        "Understanding someone else’s solution is very different from developing\n",
        "your own. Use the lecture notes and try to solve the exercises on your\n",
        "own. This approach will significantly enhance your learning and\n",
        "problem-solving skills.\n",
        "\n",
        "Remember, the goal is not just to complete the exercises, but to\n",
        "understand the concepts and improve your programming abilities. If you\n",
        "encounter difficulties, review the lecture materials, experiment with\n",
        "different approaches, and don’t hesitate to ask for clarification during\n",
        "class discussions.\n",
        "\n",
        "Later, you will find the solutions to these exercises online in the\n",
        "associated GitHub repository, but we will also quickly go over them in\n",
        "next week’s tutorial. To access the solutions, click on the Github\n",
        "button on the lower right and search for the folder with today’s lecture\n",
        "and tutorial. Alternatively, you can ask ChatGPT or Claude to explain\n",
        "them to you. But please remember, the goal is not just to complete the\n",
        "exercises, but to understand the concepts and improve your programming\n",
        "abilities."
      ]
    }
  ],
  "metadata": {
    "kernel_info": {
      "name": "julia"
    },
    "kernelspec": {
      "display_name": "Julia 1.10.5",
      "language": "julia",
      "name": "julia-1.10"
    },
    "language_info": {
      "file_extension": ".jl",
      "mimetype": "application/julia",
      "name": "julia",
      "version": "1.10.5"
    }
  },
  "nbformat": 4,
  "nbformat_minor": 5
}
