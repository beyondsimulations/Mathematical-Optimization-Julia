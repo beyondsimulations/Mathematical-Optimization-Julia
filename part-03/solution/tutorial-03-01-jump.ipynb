{
  "cells": [
    {
      "cell_type": "markdown",
      "id": "a5604c29-33e5-4b81-9275-71e0c9651b7f",
      "metadata": {},
      "source": [
        "# Tutorial III.I - Introduction to Mathematical Optimization with JuMP and HiGHS\n",
        "\n",
        "Optimization with Julia\n",
        "\n",
        "# Introduction\n",
        "\n",
        "Welcome to this beginner-friendly tutorial on mathematical optimization\n",
        "using JuMP and the HiGHS solver in Julia! Don’t worry if these terms\n",
        "sound unfamiliar – we’ll explain everything step by step.\n",
        "\n",
        "In this tutorial, you’ll learn how to: 1. Set up a simple optimization\n",
        "problem 2. Define variables and constraints 3. Create an objective\n",
        "function 4. Solve the problem and interpret the results\n",
        "\n",
        "We’ll use a real-world example to make these concepts more relatable.\n",
        "Imagine you’re managing a small factory that produces two types of\n",
        "products. Your goal is to maximize profit while working within certain\n",
        "limitations. This is exactly the kind of problem that mathematical\n",
        "optimization can solve!\n",
        "\n",
        "## What is JuMP?\n",
        "\n",
        "JuMP (Julia for Mathematical Programming) is a powerful tool that helps\n",
        "us describe optimization problems in a way that computers can understand\n",
        "and solve. Think of it as a translator between your business problem and\n",
        "the mathematical solver.\n",
        "\n",
        "## What is HiGHS?\n",
        "\n",
        "HiGHS is an open-source solver that can find solutions to the\n",
        "optimization problems we describe using JuMP. It’s like a very smart\n",
        "calculator that can handle complex problems quickly and efficiently.\n",
        "\n",
        "## Our Example Problem\n",
        "\n",
        "Let’s break down our factory management problem:\n",
        "\n",
        "-   You produce two products: Product A and Product B\n",
        "-   Each product gives you a different profit:\n",
        "    -   Product A: 100 profit per unit\n",
        "    -   Product B: 150 profit per unit\n",
        "-   You have two departments: Cutting and Finishing\n",
        "-   Each product requires different amounts of time in each department:\n",
        "    -   Product A: 2 hours in Cutting, 4 hours in Finishing\n",
        "    -   Product B: 4 hours in Cutting, 3 hours in Finishing\n",
        "-   You have limited time available in each department:\n",
        "    -   Cutting: 40 hours total\n",
        "    -   Finishing: 60 hours total\n",
        "\n",
        "Your goal is to decide how many of each product to make to maximize your\n",
        "total profit, while not exceeding the available time in each department.\n",
        "\n",
        "## Setting Up\n",
        "\n",
        "First, we need to install and load the necessary packages. If you\n",
        "haven’t already installed JuMP and HiGHS, run the following code:"
      ]
    },
    {
      "cell_type": "code",
      "execution_count": 1,
      "id": "2",
      "metadata": {},
      "outputs": [
        {
          "name": "stderr",
          "output_type": "stream",
          "text": [
            "\u001b[32m\u001b[1m   Resolving\u001b[22m\u001b[39m package versions...\n",
            "\u001b[32m\u001b[1m  No Changes\u001b[22m\u001b[39m to `~/.julia/environments/v1.10/Project.toml`\n",
            "\u001b[32m\u001b[1m  No Changes\u001b[22m\u001b[39m to `~/.julia/environments/v1.10/Manifest.toml`\n"
          ]
        }
      ],
      "source": [
        "import Pkg; Pkg.add([\"JuMP\",\"HiGHS\"])"
      ]
    },
    {
      "cell_type": "markdown",
      "id": "000542ac-1106-4ea2-90a1-50ce59026d1e",
      "metadata": {},
      "source": [
        "Now, let’s load these packages:"
      ]
    },
    {
      "cell_type": "code",
      "execution_count": 2,
      "id": "4",
      "metadata": {},
      "outputs": [],
      "source": [
        "using JuMP, HiGHS"
      ]
    },
    {
      "cell_type": "markdown",
      "id": "c52c0ab2-0ce7-4d0d-b1d4-d39617b691fb",
      "metadata": {},
      "source": [
        "Great! We’re now ready to start building our optimization model.\n",
        "\n",
        "# Section 1 - Defining an Optimization Model\n",
        "\n",
        "The first step in solving an optimization problem is to create a model.\n",
        "This model will contain all the information about our problem: the\n",
        "variables, constraints, and objective.\n",
        "\n",
        "In JuMP, we create a model like this:"
      ]
    },
    {
      "cell_type": "code",
      "execution_count": 3,
      "id": "6",
      "metadata": {},
      "outputs": [
        {
          "name": "stdout",
          "output_type": "stream",
          "text": [
            "Optimization model created successfully!\n"
          ]
        }
      ],
      "source": [
        "model = Model(HiGHS.Optimizer)\n",
        "println(\"Optimization model created successfully!\")"
      ]
    },
    {
      "cell_type": "markdown",
      "id": "83290980-d5dd-4302-8ce0-71f58a6f2aab",
      "metadata": {},
      "source": [
        "Let’s break this down: - `Model()` creates a new optimization model -\n",
        "`HiGHS.Optimizer` tells JuMP to use the HiGHS solver for this model\n",
        "\n",
        "Think of this as creating a blank canvas where we’ll paint our\n",
        "optimization problem.\n",
        "\n",
        "# Section 2 - Adding Variables\n",
        "\n",
        "Now that we have our model, we need to define our variables. In our\n",
        "factory problem, the variables represent the quantities of Product A and\n",
        "Product B that we want to produce.\n",
        "\n",
        "In JuMP, we use the `@variable` macro to define variables. Here’s the\n",
        "general syntax:\n",
        "\n",
        "``` julia\n",
        "@variable(model_name, variable_name, [additional_properties])\n",
        "```\n",
        "\n",
        "Where: - `model_name` is the name of your JuMP model - `variable_name`\n",
        "is what you want to call your variable - `[additional_properties]` can\n",
        "include bounds or variable types\n",
        "\n",
        "For example, to create a continuous variable that’s greater than or\n",
        "equal to 0:\n",
        "\n",
        "``` julia\n",
        "@variable(model_name, variable_name >= 0)\n",
        "```\n",
        "\n",
        "This defines a continuous variable that’s equal to or larger than 0.\n",
        "\n",
        "## Exercise 2.1 - Create Variables\n",
        "\n",
        "Now it’s your turn! Create two continuous variables equal to or larger\n",
        "than 0 called `productA` and `productB` that represent the number of\n",
        "units produced in our problem for our model `model`."
      ]
    },
    {
      "cell_type": "code",
      "execution_count": 4,
      "id": "8",
      "metadata": {},
      "outputs": [
        {
          "data": {
            "text/latex": [
              "$ productB $"
            ],
            "text/plain": [
              "productB"
            ]
          },
          "metadata": {},
          "output_type": "display_data"
        }
      ],
      "source": [
        "# YOUR CODE BELOW\n",
        "@variable(model, productA >= 0)\n",
        "@variable(model, productB >= 0)"
      ]
    },
    {
      "cell_type": "code",
      "execution_count": 5,
      "id": "10",
      "metadata": {},
      "outputs": [
        {
          "name": "stdout",
          "output_type": "stream",
          "text": [
            "Variables added to the model successfully!\n"
          ]
        }
      ],
      "source": [
        "# Test your answer\n",
        "@assert @isdefined productA\n",
        "@assert typeof(productA) == VariableRef\n",
        "@assert has_upper_bound(productA) == false\n",
        "@assert has_lower_bound(productA) == true\n",
        "@assert lower_bound(productA) == 0\n",
        "@assert @isdefined productA\n",
        "@assert typeof(productB) == VariableRef\n",
        "@assert has_upper_bound(productB) == false\n",
        "@assert has_lower_bound(productB) == true\n",
        "@assert lower_bound(productB) == 0\n",
        "println(\"Variables added to the model successfully!\")"
      ]
    },
    {
      "cell_type": "markdown",
      "id": "4d66c3b3-3fc9-4e55-b997-c7dd49a3bdfe",
      "metadata": {},
      "source": [
        "# Section 3 - Adding Constraints\n",
        "\n",
        "Constraints are conditions that limit the possible values of the\n",
        "variables in our optimization problem. In JuMP, we use the `@constraint`\n",
        "macro to define these constraints.\n",
        "\n",
        "The general syntax for adding a constraint is:\n",
        "\n",
        "``` julia\n",
        "@constraint(model_name, constraint_name, constraint_expression)\n",
        "```\n",
        "\n",
        "Where: - `model_name` is the name of your JuMP model - `constraint_name`\n",
        "is a label you give to the constraint (optional, but useful for\n",
        "reference) - `constraint_expression` is the mathematical expression of\n",
        "the constraint\n",
        "\n",
        "For example:\n",
        "\n",
        "``` julia\n",
        "constraint(model_name, constraint_name, 4 * variable_name <= 100)\n",
        "```\n",
        "\n",
        "This defines a constraint that ensures, that the variable\n",
        "`variable_name` can maximally be 25. Note, that you will have to change\n",
        "`model_name`, `constraint_name` and `variable_name` according to your\n",
        "instance.\n",
        "\n",
        "## Exercise 3.1 - Create Constraints\n",
        "\n",
        "Create two constraints based on the on the Cutting and Finishing\n",
        "department hours of the problem description in this tutorial. Call the\n",
        "first constraint `cutting_constraint` and the second constraint\n",
        "`finishing_constraint`."
      ]
    },
    {
      "cell_type": "code",
      "execution_count": 6,
      "id": "12",
      "metadata": {},
      "outputs": [
        {
          "data": {
            "text/latex": [
              "$$ 4 productA + 3 productB \\leq 60 $$"
            ],
            "text/plain": [
              "finishing_constraint : 4 productA + 3 productB ≤ 60"
            ]
          },
          "metadata": {},
          "output_type": "display_data"
        }
      ],
      "source": [
        "# YOUR CODE BELOW\n",
        "@constraint(model, cutting_constraint, 2 * productA + 4 * productB <= 40)\n",
        "@constraint(model, finishing_constraint, 4 * productA + 3 * productB <= 60)"
      ]
    },
    {
      "cell_type": "code",
      "execution_count": 7,
      "id": "14",
      "metadata": {},
      "outputs": [
        {
          "name": "stdout",
          "output_type": "stream",
          "text": [
            "Constraints added to the model successfully!\n",
            "Note, that only the existence of these constraints was checked!\n",
            "The optimization later will show, whether the formulation was correct.\n"
          ]
        }
      ],
      "source": [
        "# Test your answer\n",
        "@assert is_valid(model, cutting_constraint)\n",
        "@assert is_valid(model, finishing_constraint)\n",
        "println(\"Constraints added to the model successfully!\")\n",
        "println(\"Note, that only the existence of these constraints was checked!\")\n",
        "println(\"The optimization later will show, whether the formulation was correct.\")"
      ]
    },
    {
      "cell_type": "markdown",
      "id": "116635b5-85a4-45b1-b84b-b3137f595158",
      "metadata": {},
      "source": [
        "# Section 4 - Defining the Objective Function\n",
        "\n",
        "The objective function represents the goal of our optimization problem -\n",
        "what we want to maximize or minimize. In JuMP, we use the `@objective`\n",
        "macro to define this function.\n",
        "\n",
        "The general syntax for defining an objective function is:\n",
        "\n",
        "``` julia\n",
        "@objective(model_name, optimization_direction, objective_expression)\n",
        "```\n",
        "\n",
        "Where: - `model_name` is the name of your JuMP model -\n",
        "`optimization_direction` is either `Max` for maximization or `Min` for\n",
        "minimization - `objective_expression` is the mathematical expression of\n",
        "the objective function\n",
        "\n",
        "For example:\n",
        "\n",
        "``` julia\n",
        "@objective(model_name, Max, 2*variableA + 3*variableB) \n",
        "```\n",
        "\n",
        "This defines an objective function that maximizes something based on the\n",
        "values of `variableA` and `variableB`.\n",
        "\n",
        "## Exercise 4.1 - Create the Objective Function\n",
        "\n",
        "Create the objective function based on the problem description of this\n",
        "tutorial. The objective is to maximize profit based on the values of\n",
        "`productA` and `productB`."
      ]
    },
    {
      "cell_type": "code",
      "execution_count": 8,
      "id": "16",
      "metadata": {},
      "outputs": [
        {
          "data": {
            "text/latex": [
              "$ 100 productA + 150 productB $"
            ],
            "text/plain": [
              "100 productA + 150 productB"
            ]
          },
          "metadata": {},
          "output_type": "display_data"
        }
      ],
      "source": [
        "# YOUR CODE BELOW\n",
        "@objective(model, Max, 100 * productA + 150 * productB)"
      ]
    },
    {
      "cell_type": "code",
      "execution_count": 9,
      "id": "18",
      "metadata": {},
      "outputs": [
        {
          "name": "stdout",
          "output_type": "stream",
          "text": [
            "An objective function defined successfully!\n",
            "The optimization later will show, whether the formulation was correct.\n"
          ]
        }
      ],
      "source": [
        "# Test your answer\n",
        "@assert typeof(objective_function(model)) == AffExpr\n",
        "println(\"An objective function defined successfully!\")\n",
        "println(\"The optimization later will show, whether the formulation was correct.\")"
      ]
    },
    {
      "cell_type": "markdown",
      "id": "6da64ab7-c12e-4d95-9cf9-4c69ad56b8e1",
      "metadata": {},
      "source": [
        "# Section 5 - Solving the Model\n",
        "\n",
        "Now that we have defined our variables, constraints, and objective\n",
        "function, we’re ready to solve the optimization model. Here’s how to do\n",
        "it step by step:\n",
        "\n",
        "1.  Solve the model:"
      ]
    },
    {
      "cell_type": "code",
      "execution_count": 10,
      "id": "20",
      "metadata": {},
      "outputs": [
        {
          "name": "stdout",
          "output_type": "stream",
          "text": [
            "Running HiGHS 1.8.0 (git hash: fcfb53414): Copyright (c) 2024 HiGHS under MIT licence terms\n",
            "Coefficient ranges:\n",
            "  Matrix [2e+00, 4e+00]\n",
            "  Cost   [1e+02, 2e+02]\n",
            "  Bound  [0e+00, 0e+00]\n",
            "  RHS    [4e+01, 6e+01]\n",
            "Presolving model\n",
            "2 rows, 2 cols, 4 nonzeros  0s\n",
            "2 rows, 2 cols, 4 nonzeros  0s\n",
            "Presolve : Reductions: rows 2(-0); columns 2(-0); elements 4(-0) - Not reduced\n",
            "Problem not reduced by presolve: solving the LP\n",
            "Using EKK dual simplex solver - serial\n",
            "  Iteration        Objective     Infeasibilities num(sum)\n",
            "          0    -2.4999981008e+02 Ph1: 2(13); Du: 2(250) 0s\n",
            "          2     1.8000000000e+03 Pr: 0(0) 0s\n",
            "Model   status      : Optimal\n",
            "Simplex   iterations: 2\n",
            "Objective value     :  1.8000000000e+03\n",
            "HiGHS run time      :          0.01\n"
          ]
        }
      ],
      "source": [
        "optimize!(model)"
      ]
    },
    {
      "cell_type": "markdown",
      "id": "2c9895dc-f4e8-47ac-848e-2d4b6ba549ce",
      "metadata": {},
      "source": [
        "1.  Check the status of the solution:"
      ]
    },
    {
      "cell_type": "code",
      "execution_count": 11,
      "id": "22",
      "metadata": {},
      "outputs": [
        {
          "data": {
            "text/plain": [
              "OPTIMAL::TerminationStatusCode = 1"
            ]
          },
          "metadata": {},
          "output_type": "display_data"
        }
      ],
      "source": [
        "termination_status(model)"
      ]
    },
    {
      "cell_type": "markdown",
      "id": "a7ac78c3-b436-4c24-abaf-f853ddb68c2b",
      "metadata": {},
      "source": [
        "1.  If the solution is optimal, we can retrieve the optimal values of\n",
        "    our variables and the objective function. If the time limit is\n",
        "    reached, we can check whether a primal solution is available. We do\n",
        "    so by checking whether the model has values."
      ]
    },
    {
      "cell_type": "code",
      "execution_count": 12,
      "id": "24",
      "metadata": {},
      "outputs": [
        {
          "name": "stdout",
          "output_type": "stream",
          "text": [
            "Solution is optimal\n",
            "Objective value = 1800.0000000000002\n"
          ]
        }
      ],
      "source": [
        "begin\n",
        "    if termination_status(model) == OPTIMAL \n",
        "        println(\"Solution is optimal\")\n",
        "    elseif termination_status(model) == TIME_LIMIT && has_values(model) \n",
        "        println(\"Solution is suboptimal due to a time limit, \n",
        "            but a primal solution is available\") \n",
        "    else\n",
        "        error(\"The model was not solved correctly.\") \n",
        "    end\n",
        "    println(\"Objective value = \", objective_value(model)) \n",
        "end"
      ]
    },
    {
      "cell_type": "markdown",
      "id": "76c3b023-4670-4f2e-a64c-87484b9fd3ab",
      "metadata": {},
      "source": [
        "We can then get the values of the variables as follows:"
      ]
    },
    {
      "cell_type": "code",
      "execution_count": 13,
      "id": "26",
      "metadata": {},
      "outputs": [
        {
          "name": "stdout",
          "output_type": "stream",
          "text": [
            "Product A quantity: 11.999999999999998\n",
            "Product B quantity: 4.000000000000003\n"
          ]
        }
      ],
      "source": [
        "println(\"Product A quantity: $(value(productA))\")\n",
        "println(\"Product B quantity: $(value(productB))\")"
      ]
    },
    {
      "cell_type": "markdown",
      "id": "f54acb1d-7d10-467b-a6a0-295754561fe1",
      "metadata": {},
      "source": [
        "Let’s break this down: - `optimize!(model)` tells JuMP to solve our\n",
        "model - `termination_status(model)` checks if we found an optimal\n",
        "solution - `objective_value(model)` gives us the maximum profit we can\n",
        "achieve - `value(productA)` and `value(productB)` tell us how many of\n",
        "each product we should produce\n",
        "\n",
        "> **Note**\n",
        ">\n",
        "> The values might be slightly off due to the nature of floating-point\n",
        "> numbers in computers.\n",
        "\n",
        "The following code block tests whether the solution is correct or\n",
        "whether you have made a mistake in the formulation of the problem."
      ]
    },
    {
      "cell_type": "code",
      "execution_count": 15,
      "id": "28",
      "metadata": {},
      "outputs": [
        {
          "name": "stdout",
          "output_type": "stream",
          "text": [
            "You have solved the model correctly!\n"
          ]
        }
      ],
      "source": [
        "# Test your answer\n",
        "@assert termination_status(model) == MOI.OPTIMAL \"Sorry, something didn't work out as the model status is $termination_status(model)\".\n",
        "println(\"Solution: Product A = \", val_productA, \", Product B = \", val_productB)\n",
        "@assert value(productA) ≈ 12 atol=1e-4 \"Although you have a solution, val_productA should be 12 not $val_productA\"\n",
        "@assert value(productB) ≈ 4 atol=1e-4 \"Although you have a solution, val_productB should be 4 not $val_productB\"\n",
        "println(\"You have solved the model correctly!\")"
      ]
    },
    {
      "cell_type": "markdown",
      "id": "b4ae3717-d3cf-43dd-9115-5ae159e01dc8",
      "metadata": {},
      "source": [
        "# Conclusion\n",
        "\n",
        "Excellent! You’ve completed the tutorial on mathematical optimization\n",
        "with JuMP and HiGHS. You’ve learned how to define optimization models,\n",
        "add variables and constraints, define an objective function, and solve\n",
        "the model. Continue to the next file to learn more.\n",
        "\n",
        "# Solutions\n",
        "\n",
        "You will likely find solutions to most exercises online. However, I\n",
        "strongly encourage you to work on these exercises independently without\n",
        "searching explicitly for the exact answers to the exercises.\n",
        "Understanding someone else’s solution is very different from developing\n",
        "your own. Use the lecture notes and try to solve the exercises on your\n",
        "own. This approach will significantly enhance your learning and\n",
        "problem-solving skills.\n",
        "\n",
        "Remember, the goal is not just to complete the exercises, but to\n",
        "understand the concepts and improve your programming abilities. If you\n",
        "encounter difficulties, review the lecture materials, experiment with\n",
        "different approaches, and don’t hesitate to ask for clarification during\n",
        "class discussions.\n",
        "\n",
        "Later, you will find the solutions to these exercises online in the\n",
        "associated GitHub repository, but we will also quickly go over them in\n",
        "next week’s tutorial. To access the solutions, click on the Github\n",
        "button on the lower right and search for the folder with today’s lecture\n",
        "and tutorial. Alternatively, you can ask ChatGPT or Claude to explain\n",
        "them to you. But please remember, the goal is not just to complete the\n",
        "exercises, but to understand the concepts and improve your programming\n",
        "abilities."
      ]
    }
  ],
  "metadata": {
    "kernel_info": {
      "name": "julia"
    },
    "kernelspec": {
      "display_name": "Julia 1.10.6",
      "language": "julia",
      "name": "julia-1.10"
    },
    "language_info": {
      "file_extension": ".jl",
      "mimetype": "application/julia",
      "name": "julia",
      "version": "1.10.6"
    }
  },
  "nbformat": 4,
  "nbformat_minor": 5
}
