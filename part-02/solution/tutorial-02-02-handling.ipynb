{
  "cells": [
    {
      "cell_type": "markdown",
      "id": "9c0b1944-b7b7-44a1-be3e-14d0cdf5d517",
      "metadata": {},
      "source": [
        "# Tutorial II.II - Package Management\n",
        "\n",
        "Applied Optimization with Julia\n",
        "\n",
        "# Introduction\n",
        "\n",
        "Welcome to this beginner-friendly guide on understanding packages and\n",
        "package management in Julia!\n",
        "\n",
        "Think of packages as pre-written sets of tools that extend what Julia\n",
        "can do. It’s like having a toolbox where you can add new tools\n",
        "(packages) to help you solve specific problems. For example, there are\n",
        "packages for working with data, creating visualizations, or solving\n",
        "complex math problems.\n",
        "\n",
        "The best part? Most Julia packages are free to use, thanks to the\n",
        "open-source community!\n",
        "\n",
        "> **Note**\n",
        ">\n",
        "> While we’ll practice some commands here, you’ll typically manage\n",
        "> packages in Julia’s REPL (Read-Eval-Print Loop), which is like Julia’s\n",
        "> command center.\n",
        "\n",
        "# Section 1 - Using the Package Manager\n",
        "\n",
        "Julia’s built-in package manager, Pkg, provides a robust set of tools\n",
        "for managing packages. To utilize these tools, start by importing the\n",
        "Pkg module. This module allows you to add, update, and remove packages,\n",
        "and manage environments efficiently. Note, `import PackageName` lets you\n",
        "access exported functions with `PackageName.function`, while\n",
        "`using PackageName` imports all exported names into the local namespace\n",
        "for direct access.\n",
        "\n",
        "## Exercise 1.1 - Import the Pkg Module\n",
        "\n",
        "Import the Pkg module to start managing packages effectively."
      ]
    },
    {
      "cell_type": "code",
      "execution_count": 1,
      "id": "2",
      "metadata": {},
      "outputs": [],
      "source": [
        "# YOUR CODE BELOW\n",
        "import Pkg"
      ]
    },
    {
      "cell_type": "code",
      "execution_count": 2,
      "id": "4",
      "metadata": {},
      "outputs": [
        {
          "name": "stderr",
          "output_type": "stream",
          "text": [
            "\u001b[32m\u001b[1m    Updating\u001b[22m\u001b[39m registry at `~/.julia/registries/General.toml`\n",
            "\u001b[32m\u001b[1m   Installed\u001b[22m\u001b[39m HiGHS_jll ──────── v1.8.0+0\n",
            "\u001b[32m\u001b[1m   Installed\u001b[22m\u001b[39m LoggingExtras ──── v1.1.0\n",
            "\u001b[32m\u001b[1m   Installed\u001b[22m\u001b[39m HiGHS ──────────── v1.10.2\n",
            "\u001b[32m\u001b[1m   Installed\u001b[22m\u001b[39m MathOptInterface ─ v1.32.0\n",
            "\u001b[32m\u001b[1m   Installed\u001b[22m\u001b[39m JuMP ───────────── v1.23.3\n",
            "\u001b[32m\u001b[1m   Installed\u001b[22m\u001b[39m ColorSchemes ───── v3.27.0\n",
            "\u001b[32m\u001b[1m    Updating\u001b[22m\u001b[39m `~/.julia/environments/v1.10/Project.toml`\n",
            "  \u001b[90m[87dc4568] \u001b[39m\u001b[93m↑ HiGHS v1.10.0 ⇒ v1.10.2\u001b[39m\n",
            "  \u001b[90m[4076af6c] \u001b[39m\u001b[93m↑ JuMP v1.23.2 ⇒ v1.23.3\u001b[39m\n",
            "\u001b[32m\u001b[1m    Updating\u001b[22m\u001b[39m `~/.julia/environments/v1.10/Manifest.toml`\n",
            "  \u001b[90m[35d6a980] \u001b[39m\u001b[93m↑ ColorSchemes v3.26.0 ⇒ v3.27.0\u001b[39m\n",
            "  \u001b[90m[87dc4568] \u001b[39m\u001b[93m↑ HiGHS v1.10.0 ⇒ v1.10.2\u001b[39m\n",
            "  \u001b[90m[4076af6c] \u001b[39m\u001b[93m↑ JuMP v1.23.2 ⇒ v1.23.3\u001b[39m\n",
            "  \u001b[90m[e6f89c97] \u001b[39m\u001b[93m↑ LoggingExtras v1.0.3 ⇒ v1.1.0\u001b[39m\n",
            "  \u001b[90m[b8f27783] \u001b[39m\u001b[93m↑ MathOptInterface v1.31.2 ⇒ v1.32.0\u001b[39m\n",
            "  \u001b[90m[8fd58aa0] \u001b[39m\u001b[93m↑ HiGHS_jll v1.7.2+0 ⇒ v1.8.0+0\u001b[39m\n",
            "\u001b[32m\u001b[1mPrecompiling\u001b[22m\u001b[39m project...\n",
            "\u001b[32m  ✓ \u001b[39m\u001b[90mHiGHS_jll\u001b[39m\n",
            "\u001b[32m  ✓ \u001b[39m\u001b[90mLoggingExtras\u001b[39m\n",
            "\u001b[32m  ✓ \u001b[39m\u001b[90mColorSchemes\u001b[39m\n",
            "\u001b[32m  ✓ \u001b[39m\u001b[90mHTTP\u001b[39m\n",
            "\u001b[32m  ✓ \u001b[39m\u001b[90mPlotUtils\u001b[39m\n",
            "\u001b[32m  ✓ \u001b[39m\u001b[90mPlotThemes\u001b[39m\n",
            "\u001b[32m  ✓ \u001b[39m\u001b[90mRecipesPipeline\u001b[39m\n",
            "\u001b[32m  ✓ \u001b[39m\u001b[90mMathOptInterface\u001b[39m\n",
            "\u001b[32m  ✓ \u001b[39mPlots\n",
            "\u001b[32m  ✓ \u001b[39m\u001b[90mPlots → UnitfulExt\u001b[39m\n",
            "\u001b[32m  ✓ \u001b[39mHiGHS\n"
          ]
        },
        {
          "name": "stdout",
          "output_type": "stream",
          "text": [
            "Pkg module imported successfully and packages were updated!\n"
          ]
        },
        {
          "name": "stderr",
          "output_type": "stream",
          "text": [
            "\u001b[32m  ✓ \u001b[39mJuMP\n",
            "  12 dependencies successfully precompiled in 54 seconds. 179 already precompiled.\n"
          ]
        }
      ],
      "source": [
        "# Test your answer\n",
        "try \n",
        "    Pkg.update()\n",
        "    println(\"Pkg module imported successfully and packages were updated!\")\n",
        "catch e\n",
        "    @error \"The Pkg module was not imported yet! Have you used the correct syntax?\"\n",
        "end"
      ]
    },
    {
      "cell_type": "markdown",
      "id": "c572e6b6-1e9a-4b13-8c4f-b33390e904b8",
      "metadata": {},
      "source": [
        "# Section 2 - Adding Packages\n",
        "\n",
        "Adding packages in Julia is straightforward using the\n",
        "`Pkg.add(\"PackageName\")` function. Replace `PackageName` with the actual\n",
        "package name you wish to add.\n",
        "\n",
        "## Exercise 2.1 - Add the DataFrames Package\n",
        "\n",
        "Let’s add a popular package called DataFrames. It’s great for working\n",
        "with structured data, like spreadsheets."
      ]
    },
    {
      "cell_type": "code",
      "execution_count": 3,
      "id": "6",
      "metadata": {},
      "outputs": [
        {
          "name": "stderr",
          "output_type": "stream",
          "text": [
            "\u001b[32m\u001b[1m   Resolving\u001b[22m\u001b[39m package versions...\n",
            "\u001b[32m\u001b[1m  No Changes\u001b[22m\u001b[39m to `~/.julia/environments/v1.10/Project.toml`\n",
            "\u001b[32m\u001b[1m  No Changes\u001b[22m\u001b[39m to `~/.julia/environments/v1.10/Manifest.toml`\n"
          ]
        }
      ],
      "source": [
        "# YOUR CODE BELOW\n",
        "Pkg.add(\"DataFrames\")"
      ]
    },
    {
      "cell_type": "code",
      "execution_count": 4,
      "id": "8",
      "metadata": {},
      "outputs": [
        {
          "name": "stdout",
          "output_type": "stream",
          "text": [
            "Package added successfully!\n"
          ]
        }
      ],
      "source": [
        "# Test your answer\n",
        "try \n",
        "    using DataFrames\n",
        "    println(\"Package added successfully!\")\n",
        "catch e\n",
        "    @error \"Package was not added yet! Have you used the correct syntax?\"\n",
        "end"
      ]
    },
    {
      "cell_type": "markdown",
      "id": "050a994d-3c3e-4d9f-a565-7e5d8d32bf1c",
      "metadata": {},
      "source": [
        "# Section 3 - Updating and Removing Packages\n",
        "\n",
        "Just like apps on your phone, packages can be updated or removed when\n",
        "you no longer need them.\n",
        "\n",
        "-   To update a package: `Pkg.update(\"PackageName\")`\n",
        "-   To update all packages: `Pkg.update()`\n",
        "-   To remove a package: `Pkg.rm(\"PackageName\")`\n",
        "\n",
        "If you wanted to update DataFrames, you’d use\n",
        "`Pkg.update(\"DataFrames\")`. To remove it, you’d use\n",
        "`Pkg.rm(\"DataFrames\")`.\n",
        "\n",
        "# Section 4 - Managing Environments\n",
        "\n",
        "Think of environments as separate workspaces for different projects.\n",
        "It’s like having different folders for different school subjects. It’s a\n",
        "best practice to create a new environment for each project to avoid\n",
        "conflicts between package versions. Activate a new environment with\n",
        "`Pkg.activate(\"new_environment\")` and add packages to it with\n",
        "`Pkg.add(\"PackageName\")`. This ensures that each of your projects has a\n",
        "clean, dedicated set of dependencies. When you create a new environment,\n",
        "Julia generates two important files:\n",
        "\n",
        "1.  `Project.toml`: Lists direct dependencies of your project.\n",
        "2.  `Manifest.toml`: Contains a complete dependency graph of your\n",
        "    project.\n",
        "\n",
        "These files help ensure reproducibility and should be version controlled\n",
        "with your project. But don’t worry, you don’t have to worry about this\n",
        "yet.\n",
        "\n",
        "> **Note**\n",
        ">\n",
        "> If you plan to stick to working with notebooks, you don’t have to care\n",
        "> about environments yet. Just use the regular environment for the\n",
        "> course and you don’t have to activate anything.\n",
        "\n",
        "## Conclusion\n",
        "\n",
        "Congratulations! You’ve completed the tutorial on packages and package\n",
        "management in Julia. These skills are important for effectively managing\n",
        "and utilizing external libraries. Continue to the next file to learn\n",
        "more.\n",
        "\n",
        "# Solutions\n",
        "\n",
        "You will likely find solutions to most exercises online. However, I\n",
        "strongly encourage you to work on these exercises independently without\n",
        "searching explicitly for the exact answers to the exercises.\n",
        "Understanding someone else’s solution is very different from developing\n",
        "your own. Use the lecture notes and try to solve the exercises on your\n",
        "own. This approach will significantly enhance your learning and\n",
        "problem-solving skills.\n",
        "\n",
        "Remember, the goal is not just to complete the exercises, but to\n",
        "understand the concepts and improve your programming abilities. If you\n",
        "encounter difficulties, review the lecture materials, experiment with\n",
        "different approaches, and don’t hesitate to ask for clarification during\n",
        "class discussions.\n",
        "\n",
        "Later, you will find the solutions to these exercises online in the\n",
        "associated GitHub repository, but we will also quickly go over them in\n",
        "next week’s tutorial. To access the solutions, click on the Github\n",
        "button on the lower right and search for the folder with today’s lecture\n",
        "and tutorial. Alternatively, you can ask ChatGPT or Claude to explain\n",
        "them to you. But please remember, the goal is not just to complete the\n",
        "exercises, but to understand the concepts and improve your programming\n",
        "abilities."
      ]
    }
  ],
  "metadata": {
    "kernel_info": {
      "name": "julia"
    },
    "kernelspec": {
      "display_name": "Julia 1.10.5",
      "language": "julia",
      "name": "julia-1.10"
    },
    "language_info": {
      "file_extension": ".jl",
      "mimetype": "application/julia",
      "name": "julia",
      "version": "1.10.5"
    }
  },
  "nbformat": 4,
  "nbformat_minor": 5
}
