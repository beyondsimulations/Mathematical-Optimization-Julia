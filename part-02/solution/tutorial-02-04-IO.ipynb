{
  "cells": [
    {
      "cell_type": "markdown",
      "id": "d6a62379-4c9c-4f7e-9676-363de3a22ff5",
      "metadata": {},
      "source": [
        "# Tutorial II.IV - Input and Output\n",
        "\n",
        "Applied Optimization with Julia\n",
        "\n",
        "# Introduction\n",
        "\n",
        "Welcome to this interactive Julia tutorial on working with external\n",
        "files! File Input/Output (I/O) operations are crucial in programming and\n",
        "data analysis, allowing us to persist data, share information between\n",
        "programs, and work with large datasets that don’t fit in memory. In this\n",
        "tutorial, we’ll cover reading and writing text files, handling CSV\n",
        "files, and working with delimited files using various Julia packages.\n",
        "These skills are fundamental for data preprocessing, analysis, and\n",
        "result storage in real-world applications.\n",
        "\n",
        "Follow the instructions, write your code in the designated code blocks,\n",
        "and validate your results with `@assert` statements.\n",
        "\n",
        "# Section 1 - Working with Delimited Files\n",
        "\n",
        "Delimited files, such as CSV (Comma-Separated Values), are a common way\n",
        "to store structured data. Each value in the file is separated by a\n",
        "specific character, often a comma. Julia’s DelimitedFiles package makes\n",
        "it easy to work with these files.\n",
        "\n",
        "> **Tip**\n",
        ">\n",
        "> The DelimitedFiles package is part of Julia’s Standard Library, which\n",
        "> means you can use it without installing anything extra!"
      ]
    },
    {
      "cell_type": "code",
      "execution_count": 1,
      "id": "2",
      "metadata": {},
      "outputs": [],
      "source": [
        "using DelimitedFiles"
      ]
    },
    {
      "cell_type": "markdown",
      "id": "deaaa042-ab38-43b9-a630-35f519a13b7b",
      "metadata": {},
      "source": [
        "Now, let’s create a simple matrix and save it as a CSV file:"
      ]
    },
    {
      "cell_type": "code",
      "execution_count": 2,
      "id": "4",
      "metadata": {},
      "outputs": [
        {
          "name": "stdout",
          "output_type": "stream",
          "text": [
            "CSV file 'matrix.csv' written successfully to folder ExampleData!\n"
          ]
        }
      ],
      "source": [
        "# Create a 3x3 matrix\n",
        "new_data = [10 12 6; 13 25 1; 40 30 7]\n",
        "\n",
        "# Create a new folder called \"ExampleData\"\n",
        "mkdir(\"$(@__DIR__)/ExampleData\")\n",
        "\n",
        "# Write the matrix to a CSV file\n",
        "open(\"$(@__DIR__)/ExampleData/matrix.csv\", \"w\") do io\n",
        "    writedlm(io, new_data, ',')\n",
        "end\n",
        "\n",
        "println(\"CSV file 'matrix.csv' written successfully to folder ExampleData!\")"
      ]
    },
    {
      "cell_type": "markdown",
      "id": "7ff4a108-1a3b-4343-887f-f3a85b24c7bf",
      "metadata": {},
      "source": [
        "## Exercise 1.1 - Read a CSV File\n",
        "\n",
        "Now it’s your turn! Let’s read the CSV file we just created.\n",
        "\n",
        "> **Tip**\n",
        ">\n",
        "> To learn how to use a Julia function, you can type `?` followed by the\n",
        "> function name in the REPL (Julia’s command-line interface). For\n",
        "> example, `?readdlm` will show you information about the `readdlm()`\n",
        "> function.\n",
        "\n",
        "Use the `readdlm()` function to read the ‘matrix.csv’ file we just\n",
        "created. Save the result in a variable called `read_matrix`."
      ]
    },
    {
      "cell_type": "code",
      "execution_count": 3,
      "id": "6",
      "metadata": {},
      "outputs": [
        {
          "data": {
            "text/plain": [
              "3×3 Matrix{Float64}:\n",
              " 10.0  12.0  6.0\n",
              " 13.0  25.0  1.0\n",
              " 40.0  30.0  7.0"
            ]
          },
          "metadata": {},
          "output_type": "display_data"
        }
      ],
      "source": [
        "# YOUR CODE BELOW\n",
        "# Don't forget to use the @__DIR__ macro to get the correct file path!\n",
        "read_matrix = readdlm(\"$(@__DIR__)/ExampleData/matrix.csv\", ',')"
      ]
    },
    {
      "cell_type": "code",
      "execution_count": 4,
      "id": "8",
      "metadata": {},
      "outputs": [
        {
          "name": "stdout",
          "output_type": "stream",
          "text": [
            "File 'matrix.csv' read successfully!\n"
          ]
        }
      ],
      "source": [
        "# Test your answer\n",
        "@assert read_matrix == new_data\n",
        "println(\"File 'matrix.csv' read successfully!\")"
      ]
    },
    {
      "cell_type": "markdown",
      "id": "ad7ea50f-7140-4b48-bc4b-ffc0bdf5f0b8",
      "metadata": {},
      "source": [
        "# Section 2 - Working with CSV Files and DataFrames\n",
        "\n",
        "The CSV package in Julia provides powerful tools for reading and writing\n",
        "CSV files to and from DataFrames, a common requirement in data analysis\n",
        "and data science projects. This requires the CSV and DataFrames\n",
        "packages. If you solely followed the course so far, you first have to\n",
        "install the CSV Package before you can start using it:"
      ]
    },
    {
      "cell_type": "code",
      "execution_count": 5,
      "id": "10",
      "metadata": {},
      "outputs": [
        {
          "name": "stderr",
          "output_type": "stream",
          "text": [
            "\u001b[32m\u001b[1m   Resolving\u001b[22m\u001b[39m package versions...\n",
            "\u001b[32m\u001b[1m  No Changes\u001b[22m\u001b[39m to `~/.julia/environments/v1.10/Project.toml`\n",
            "\u001b[32m\u001b[1m  No Changes\u001b[22m\u001b[39m to `~/.julia/environments/v1.10/Manifest.toml`\n"
          ]
        }
      ],
      "source": [
        "import Pkg; Pkg.add(\"CSV\")"
      ]
    },
    {
      "cell_type": "markdown",
      "id": "eb52bfd2-b564-451d-ace3-15f858abef8b",
      "metadata": {},
      "source": [
        "## Exercise 2.1 - Write a DataFrame to a CSV File\n",
        "\n",
        "Write the following given DataFrame to a CSV file `table_out.csv` in the\n",
        "folder `ExampleData`. This can be done by using the function\n",
        "`CSV.write()`. To learn the syntax, ask the inbuild help with `?` and\n",
        "the function name."
      ]
    },
    {
      "cell_type": "code",
      "execution_count": 7,
      "id": "12",
      "metadata": {},
      "outputs": [
        {
          "data": {
            "text/plain": [
              "\"/Users/tobiasvlcek/Documents/git-projects/Applied-Optimization/part-03/solution/ExampleData/table_out.csv\""
            ]
          },
          "metadata": {},
          "output_type": "display_data"
        }
      ],
      "source": [
        "using CSV, DataFrames\n",
        "data = DataFrame(Name = [\"Elio\", \"Bob\", \"Yola\"], Age = [18, 25, 29])\n",
        "csv_file_path = \"$(@__DIR__)/ExampleData/table_out.csv\"\n",
        "# YOUR CODE BELOW\n",
        "CSV.write(csv_file_path, data)"
      ]
    },
    {
      "cell_type": "code",
      "execution_count": 8,
      "id": "14",
      "metadata": {},
      "outputs": [
        {
          "name": "stdout",
          "output_type": "stream",
          "text": [
            "CSV file 'data.csv' written successfully!\n"
          ]
        }
      ],
      "source": [
        "# Test your answer\n",
        "@assert isfile(\"ExampleData/table_out.csv\") \"Sorry, the file could not be found. \n",
        "    Have you followed all steps?\"\n",
        "println(\"CSV file 'data.csv' written successfully!\")"
      ]
    },
    {
      "cell_type": "markdown",
      "id": "5cf27768-b4d7-440f-99e6-3a38a0e0b369",
      "metadata": {},
      "source": [
        "## Exercise 2.2 - Read a CSV File in\n",
        "\n",
        "Read the CSV file `table_out.csv` in the folder `ExampleData` into the\n",
        "variable `read_data`. Here you can use the function `CSV.read()`, e.g.:\n",
        "\n",
        "``` julia\n",
        "read_data = CSV.read(\"Path/datatable.csv\", DataFrame)\n",
        "```\n",
        "\n",
        "> **Note**\n",
        ">\n",
        "> Note, that you need to provide a sink for the data when using\n",
        "> `CSV.read()`, e.g. a DataFrame."
      ]
    },
    {
      "cell_type": "code",
      "execution_count": 9,
      "id": "16",
      "metadata": {},
      "outputs": [
        {
          "data": {
            "text/html": [
              "<div><div style = \"float: left;\"><span>3×2 DataFrame</span></div><div style = \"clear: both;\"></div></div><div class = \"data-frame\" style = \"overflow-x: scroll;\"><table class = \"data-frame\" style = \"margin-bottom: 6px;\"><thead><tr class = \"header\"><th class = \"rowNumber\" style = \"font-weight: bold; text-align: right;\">Row</th><th style = \"text-align: left;\">Name</th><th style = \"text-align: left;\">Age</th></tr><tr class = \"subheader headerLastRow\"><th class = \"rowNumber\" style = \"font-weight: bold; text-align: right;\"></th><th title = \"String7\" style = \"text-align: left;\">String7</th><th title = \"Int64\" style = \"text-align: left;\">Int64</th></tr></thead><tbody><tr><td class = \"rowNumber\" style = \"font-weight: bold; text-align: right;\">1</td><td style = \"text-align: left;\">Elio</td><td style = \"text-align: right;\">18</td></tr><tr><td class = \"rowNumber\" style = \"font-weight: bold; text-align: right;\">2</td><td style = \"text-align: left;\">Bob</td><td style = \"text-align: right;\">25</td></tr><tr><td class = \"rowNumber\" style = \"font-weight: bold; text-align: right;\">3</td><td style = \"text-align: left;\">Yola</td><td style = \"text-align: right;\">29</td></tr></tbody></table></div>"
            ],
            "text/latex": [
              "\\begin{tabular}{r|cc}\n",
              "\t& Name & Age\\\\\n",
              "\t\\hline\n",
              "\t& String7 & Int64\\\\\n",
              "\t\\hline\n",
              "\t1 & Elio & 18 \\\\\n",
              "\t2 & Bob & 25 \\\\\n",
              "\t3 & Yola & 29 \\\\\n",
              "\\end{tabular}\n"
            ],
            "text/plain": [
              "\u001b[1m3×2 DataFrame\u001b[0m\n",
              "\u001b[1m Row \u001b[0m│\u001b[1m Name    \u001b[0m\u001b[1m Age   \u001b[0m\n",
              "     │\u001b[90m String7 \u001b[0m\u001b[90m Int64 \u001b[0m\n",
              "─────┼────────────────\n",
              "   1 │ Elio        18\n",
              "   2 │ Bob         25\n",
              "   3 │ Yola        29"
            ]
          },
          "metadata": {},
          "output_type": "display_data"
        }
      ],
      "source": [
        "# YOUR CODE BELOW\n",
        "read_data = CSV.read(\"$(@__DIR__)/ExampleData/table_out.csv\", DataFrame)"
      ]
    },
    {
      "cell_type": "code",
      "execution_count": 10,
      "id": "18",
      "metadata": {},
      "outputs": [
        {
          "name": "stdout",
          "output_type": "stream",
          "text": [
            "CSV file 'table_out.csv' read successfully!\n"
          ]
        }
      ],
      "source": [
        "# Test your answer\n",
        "@assert read_data[1,1] == \"Elio\"\n",
        "println(\"CSV file 'table_out.csv' read successfully!\")"
      ]
    },
    {
      "cell_type": "markdown",
      "id": "8a2f431c-dd7f-47ea-a4ed-ae00776e58f7",
      "metadata": {},
      "source": [
        "# Conclusion\n",
        "\n",
        "Congratulations! You’ve successfully completed the tutorial on reading\n",
        "and writing external files in Julia. Continue to the next file to learn\n",
        "more.\n",
        "\n",
        "# Solutions\n",
        "\n",
        "You will likely find solutions to most exercises online. However, I\n",
        "strongly encourage you to work on these exercises independently without\n",
        "searching explicitly for the exact answers to the exercises.\n",
        "Understanding someone else’s solution is very different from developing\n",
        "your own. Use the lecture notes and try to solve the exercises on your\n",
        "own. This approach will significantly enhance your learning and\n",
        "problem-solving skills.\n",
        "\n",
        "Remember, the goal is not just to complete the exercises, but to\n",
        "understand the concepts and improve your programming abilities. If you\n",
        "encounter difficulties, review the lecture materials, experiment with\n",
        "different approaches, and don’t hesitate to ask for clarification during\n",
        "class discussions.\n",
        "\n",
        "Later, you will find the solutions to these exercises online in the\n",
        "associated GitHub repository, but we will also quickly go over them in\n",
        "next week’s tutorial. To access the solutions, click on the Github\n",
        "button on the lower right and search for the folder with today’s lecture\n",
        "and tutorial. Alternatively, you can ask ChatGPT or Claude to explain\n",
        "them to you. But please remember, the goal is not just to complete the\n",
        "exercises, but to understand the concepts and improve your programming\n",
        "abilities."
      ]
    }
  ],
  "metadata": {
    "kernel_info": {
      "name": "julia"
    },
    "kernelspec": {
      "display_name": "Julia 1.10.5",
      "language": "julia",
      "name": "julia-1.10"
    },
    "language_info": {
      "file_extension": ".jl",
      "mimetype": "application/julia",
      "name": "julia",
      "version": "1.10.5"
    }
  },
  "nbformat": 4,
  "nbformat_minor": 5
}
