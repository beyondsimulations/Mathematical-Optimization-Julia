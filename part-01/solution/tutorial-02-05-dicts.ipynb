{
  "cells": [
    {
      "cell_type": "markdown",
      "id": "ad27dd1f-c20e-4c4c-b082-8544b5492c3e",
      "metadata": {},
      "source": [
        "# Tutorial II.V - Dictionaries\n",
        "\n",
        "Applied Optimization with Julia\n",
        "\n",
        "# Introduction\n",
        "\n",
        "Imagine you have a school directory where each student’s name is\n",
        "associated with their unique student ID. This is similar to how\n",
        "dictionaries work in programming - they allow you to store and retrieve\n",
        "information using key-value pairs.\n",
        "\n",
        "Follow the structured instructions, implement your code in the\n",
        "designated blocks, and affirm your comprehension with `@assert`\n",
        "statements.\n",
        "\n",
        "# Section 1 - Creating and Accessing Dictionaries\n",
        "\n",
        "Think of it this way:\n",
        "\n",
        "-   A dictionary is like a lookup table\n",
        "-   Each entry has a unique key (like a student’s name)\n",
        "-   And an associated value (like their ID number)\n",
        "\n",
        "Let’s see some examples:"
      ]
    },
    {
      "cell_type": "code",
      "execution_count": 1,
      "id": "2",
      "metadata": {},
      "outputs": [
        {
          "data": {
            "text/plain": [
              "Dict{String, Int64} with 3 entries:\n",
              "  \"Elio\" => 1001\n",
              "  \"Bob\"  => 1002\n",
              "  \"Yola\" => 1003"
            ]
          },
          "metadata": {},
          "output_type": "display_data"
        }
      ],
      "source": [
        "# Creating a dictionary\n",
        "student_ids = Dict(\n",
        "    \"Elio\" => 1001, \n",
        "    \"Bob\" => 1002, \n",
        "    \"Yola\" => 1003\n",
        ")"
      ]
    },
    {
      "cell_type": "code",
      "execution_count": 2,
      "id": "4",
      "metadata": {},
      "outputs": [
        {
          "name": "stdout",
          "output_type": "stream",
          "text": [
            "Elio's ID: 1001\n"
          ]
        }
      ],
      "source": [
        "# Accessing values\n",
        "println(\"Elio's ID: \", student_ids[\"Elio\"])"
      ]
    },
    {
      "cell_type": "code",
      "execution_count": 3,
      "id": "6",
      "metadata": {},
      "outputs": [
        {
          "data": {
            "text/plain": [
              "1004"
            ]
          },
          "metadata": {},
          "output_type": "display_data"
        }
      ],
      "source": [
        "# Adding a new entry\n",
        "student_ids[\"David\"] = 1004"
      ]
    },
    {
      "cell_type": "code",
      "execution_count": 4,
      "id": "8",
      "metadata": {},
      "outputs": [
        {
          "name": "stdout",
          "output_type": "stream",
          "text": [
            "Eve is not in the directory\n"
          ]
        }
      ],
      "source": [
        "# Checking if a key exists\n",
        "if haskey(student_ids, \"Eve\")\n",
        "    println(\"Eve's ID: \", student_ids[\"Eve\"])\n",
        "else\n",
        "    println(\"Eve is not in the directory\")\n",
        "end"
      ]
    },
    {
      "cell_type": "markdown",
      "id": "9c3d934e-be22-44ca-9a01-0a182a257d2e",
      "metadata": {},
      "source": [
        "## Exercise 1.1 - Create and Modify a Dictionary\n",
        "\n",
        "Add a new book called “Harry Potter and the Philosopher’s Stone” with\n",
        "the author “J.K. Rowling” to the created dictionary."
      ]
    },
    {
      "cell_type": "code",
      "execution_count": 6,
      "id": "10",
      "metadata": {},
      "outputs": [
        {
          "data": {
            "text/plain": [
              "\"J.K. Rowling\""
            ]
          },
          "metadata": {},
          "output_type": "display_data"
        }
      ],
      "source": [
        "# Creates a dictionary of books and authors\n",
        "books = Dict(\n",
        "    \"1984\" => \"George Orwell\", \n",
        "    \"Nexus\" => \"Yuval Noah Harari\"\n",
        ")\n",
        "# YOUR CODE BELOW\n",
        "books[\"Harry Potter and the Philosopher's Stone\"] = \"J.K. Rowling\"\n"
      ]
    },
    {
      "cell_type": "code",
      "execution_count": 7,
      "id": "12",
      "metadata": {},
      "outputs": [
        {
          "name": "stdout",
          "output_type": "stream",
          "text": [
            "Great! You've successfully added a new book to the books dictionary.\n"
          ]
        }
      ],
      "source": [
        "# Test your answer\n",
        "\n",
        "@assert haskey(books, \"Harry Potter and the Philosopher's Stone\")\n",
        "println(\"Great! You've successfully added a new book to the books dictionary.\")"
      ]
    },
    {
      "cell_type": "markdown",
      "id": "27fdb42c-4bb0-4dca-a416-b4bdf8a4d2d3",
      "metadata": {},
      "source": [
        "## Exercise 1.2 - Modify a Dictionary\n",
        "\n",
        "Change the author of “1984” to “Eric Blair” (George Orwell’s real name)."
      ]
    },
    {
      "cell_type": "code",
      "execution_count": 8,
      "id": "14",
      "metadata": {},
      "outputs": [
        {
          "data": {
            "text/plain": [
              "\"Eric Blair\""
            ]
          },
          "metadata": {},
          "output_type": "display_data"
        }
      ],
      "source": [
        "# YOUR CODE BELOW\n",
        "books[\"1984\"] = \"Eric Blair\""
      ]
    },
    {
      "cell_type": "code",
      "execution_count": 9,
      "id": "16",
      "metadata": {},
      "outputs": [
        {
          "name": "stdout",
          "output_type": "stream",
          "text": [
            "Great! You've successfully modified the books dictionary.\n"
          ]
        }
      ],
      "source": [
        "# Test your answer\n",
        "@assert books[\"1984\"] == \"Eric Blair\"\n",
        "println(\"Great! You've successfully modified the books dictionary.\")"
      ]
    },
    {
      "cell_type": "markdown",
      "id": "6308bb0b-440e-4f3c-9a44-9f24a1eae8de",
      "metadata": {},
      "source": [
        "# Section 2 - Advanced Dictionary Operations\n",
        "\n",
        "Dictionaries can do more than just store simple information. Let’s\n",
        "explore some features:"
      ]
    },
    {
      "cell_type": "code",
      "execution_count": 10,
      "id": "18",
      "metadata": {},
      "outputs": [
        {
          "data": {
            "text/plain": [
              "Dict{String, Vector{Int64}} with 3 entries:\n",
              "  \"Elio\" => [85, 92, 78]\n",
              "  \"Bob\"  => [76, 88, 94]\n",
              "  \"Yola\" => [90, 91, 89]"
            ]
          },
          "metadata": {},
          "output_type": "display_data"
        }
      ],
      "source": [
        "# A dictionary of student grades\n",
        "grades = Dict(\n",
        "    \"Elio\" => [85, 92, 78],\n",
        "    \"Bob\" => [76, 88, 94],\n",
        "    \"Yola\" => [90, 91, 89]\n",
        ")"
      ]
    },
    {
      "cell_type": "code",
      "execution_count": 11,
      "id": "20",
      "metadata": {},
      "outputs": [
        {
          "name": "stdout",
          "output_type": "stream",
          "text": [
            "Students: [\"Elio\", \"Bob\", \"Yola\"]\n"
          ]
        }
      ],
      "source": [
        "# Get all the keys (student names)\n",
        "student_names = keys(grades)\n",
        "println(\"Students: \", student_names)"
      ]
    },
    {
      "cell_type": "code",
      "execution_count": 12,
      "id": "22",
      "metadata": {},
      "outputs": [
        {
          "name": "stdout",
          "output_type": "stream",
          "text": [
            "All grades: [[85, 92, 78], [76, 88, 94], [90, 91, 89]]\n"
          ]
        }
      ],
      "source": [
        "# Get all the values (grade lists)\n",
        "all_grades = values(grades)\n",
        "println(\"All grades: \", all_grades)"
      ]
    },
    {
      "cell_type": "code",
      "execution_count": 13,
      "id": "24",
      "metadata": {},
      "outputs": [
        {
          "name": "stdout",
          "output_type": "stream",
          "text": [
            "Elio's average grade: 85.0\n",
            "Bob's average grade: 86.0\n",
            "Yola's average grade: 90.0\n"
          ]
        }
      ],
      "source": [
        "# Calculate average grade for each student\n",
        "for (student, grade_list) in grades\n",
        "    average = sum(grade_list) / length(grade_list)\n",
        "    println(\"$student's average grade: $average\")\n",
        "end"
      ]
    },
    {
      "cell_type": "markdown",
      "id": "f89abfea-14f0-4d66-af92-2f52cddf0704",
      "metadata": {},
      "source": [
        "> **Note**\n",
        ">\n",
        "> The `(student, grade_list)` is a tuple that contains the key and value\n",
        "> of each entry in the dictionary. We could also name the tuple as\n",
        "> `(key, value)` or `(a, b)`.\n",
        "\n",
        "## Conclusion\n",
        "\n",
        "Great! You’ve just navigated through the basics of dictionaries in\n",
        "Julia. Dictionaries are powerful data structures that allow for\n",
        "efficient data organization and retrieval. Continue to the next file to\n",
        "learn more advanced Julia concepts.\n",
        "\n",
        "# Solutions\n",
        "\n",
        "You will likely find solutions to most exercises online. However, I\n",
        "strongly encourage you to work on these exercises independently without\n",
        "searching explicitly for the exact answers to the exercises.\n",
        "Understanding someone else’s solution is very different from developing\n",
        "your own. Use the lecture notes and try to solve the exercises on your\n",
        "own. This approach will significantly enhance your learning and\n",
        "problem-solving skills.\n",
        "\n",
        "Remember, the goal is not just to complete the exercises, but to\n",
        "understand the concepts and improve your programming abilities. If you\n",
        "encounter difficulties, review the lecture materials, experiment with\n",
        "different approaches, and don’t hesitate to ask for clarification during\n",
        "class discussions.\n",
        "\n",
        "Later, you will find the solutions to these exercises online in the\n",
        "associated GitHub repository, but we will also quickly go over them in\n",
        "next week’s tutorial. To access the solutions, click on the Github\n",
        "button on the lower right and search for the folder with today’s lecture\n",
        "and tutorial. Alternatively, you can ask ChatGPT or Claude to explain\n",
        "them to you. But please remember, the goal is not just to complete the\n",
        "exercises, but to understand the concepts and improve your programming\n",
        "abilities."
      ]
    }
  ],
  "metadata": {
    "kernel_info": {
      "name": "julia"
    },
    "kernelspec": {
      "display_name": "Julia 1.10.5",
      "language": "julia",
      "name": "julia-1.10"
    },
    "language_info": {
      "file_extension": ".jl",
      "mimetype": "application/julia",
      "name": "julia",
      "version": "1.10.5"
    }
  },
  "nbformat": 4,
  "nbformat_minor": 5
}
