{
  "cells": [
    {
      "cell_type": "markdown",
      "id": "39087b75-ee1f-4fcd-b318-59532fbbeede",
      "metadata": {},
      "source": [
        "# Tutorial I.IV - Loops\n",
        "\n",
        "Applied Optimization with Julia\n",
        "\n",
        "# Introduction\n",
        "\n",
        "Imagine you need to do the same task many times - like sending emails to\n",
        "100 people or counting from 1 to 10. Instead of writing the same code\n",
        "over and over, we use loops! Loops are like having a helpful assistant\n",
        "who can repeat tasks for you.\n",
        "\n",
        "Follow the instructions, input your code in the designated areas, and\n",
        "verify your implementations with @assert statements.\n",
        "\n",
        "# Section 1 - For Loops\n",
        "\n",
        "A `for` loop is like giving instructions to that assistant: “For each\n",
        "item in this list, do this task.” For example:\n",
        "\n",
        "Iterating over a range (1 to 3):"
      ]
    },
    {
      "cell_type": "code",
      "execution_count": 1,
      "id": "2",
      "metadata": {},
      "outputs": [
        {
          "name": "stdout",
          "output_type": "stream",
          "text": [
            "1\n",
            "2\n",
            "3\n"
          ]
        }
      ],
      "source": [
        "for i in 1:3\n",
        "    println(i) \n",
        "end"
      ]
    },
    {
      "cell_type": "markdown",
      "id": "ffc41b2e-f8a7-4635-a4fc-0e2c6eeea639",
      "metadata": {},
      "source": [
        "This prints `1`, `2`, and `3`.\n",
        "\n",
        "Iterating over an array:"
      ]
    },
    {
      "cell_type": "code",
      "execution_count": 2,
      "id": "4",
      "metadata": {},
      "outputs": [
        {
          "name": "stdout",
          "output_type": "stream",
          "text": [
            "apple\n",
            "banana\n",
            "cherry\n"
          ]
        }
      ],
      "source": [
        "fruits = [\"apple\", \"banana\", \"cherry\"]\n",
        "for fruit in fruits\n",
        "    println(fruit)\n",
        "end"
      ]
    },
    {
      "cell_type": "markdown",
      "id": "8ead2b1c-3e53-4ea2-be17-a485ea74d5de",
      "metadata": {},
      "source": [
        "This prints each fruit in the `fruits` array.\n",
        "\n",
        "The `break` statement can be utilized to exit the loop based on a\n",
        "condition. To check some condition, we can use `if` statements. For\n",
        "example:"
      ]
    },
    {
      "cell_type": "code",
      "execution_count": 3,
      "id": "6",
      "metadata": {},
      "outputs": [
        {
          "name": "stdout",
          "output_type": "stream",
          "text": [
            "1\n",
            "2\n",
            "3\n",
            "4\n"
          ]
        }
      ],
      "source": [
        "loop_number = 0\n",
        "for x in 1:10\n",
        "    loop_number = x\n",
        "    println(loop_number)\n",
        "    if loop_number == 4\n",
        "        break\n",
        "    end\n",
        "end"
      ]
    },
    {
      "cell_type": "markdown",
      "id": "3f4b151e-0efd-4fcd-b030-56470b345922",
      "metadata": {},
      "source": [
        "This exits the loop in iteration `4`, as the condition\n",
        "`loop_number == 4` is true here.\n",
        "\n",
        "We can also chain `if` statements. For example:"
      ]
    },
    {
      "cell_type": "code",
      "execution_count": 4,
      "id": "8",
      "metadata": {},
      "outputs": [
        {
          "name": "stdout",
          "output_type": "stream",
          "text": [
            "1\n",
            "2\n",
            "We reached 3!\n"
          ]
        }
      ],
      "source": [
        "loop_number = 0\n",
        "for x in 1:10\n",
        "    loop_number = x\n",
        "    if loop_number <= 2\n",
        "        println(loop_number)\n",
        "    elseif loop_number == 3\n",
        "        println(\"We reached 3!\")\n",
        "    else \n",
        "        break\n",
        "    end\n",
        "end"
      ]
    },
    {
      "cell_type": "markdown",
      "id": "127faea8-6581-4190-9b26-46509033a55a",
      "metadata": {},
      "source": [
        "This prints `1`, then `2`, then `We reached 3!`. Afterwards the loop\n",
        "ends, as the `break` statement kicks in.\n",
        "\n",
        "> **Tip**\n",
        ">\n",
        "> Think of a `for` loop like a recipe:\n",
        ">\n",
        "> 1.  Start with a collection of items (like numbers 1-10 or a shopping\n",
        ">     list)\n",
        "> 2.  For each item, follow the instructions inside the loop\n",
        "> 3.  When done with one item, move to the next\n",
        "> 4.  Stop when you’ve used all items (or when told to break)\n",
        "\n",
        "## Exercise 1.1 - Sum the Numbers from 1 to 5\n",
        "\n",
        "Sum the numbers from `1` to `5` in a loop. The next lines initialize\n",
        "`sum_numbers` to `0`. The sum you compute should accumulate in this\n",
        "variable."
      ]
    },
    {
      "cell_type": "code",
      "execution_count": 5,
      "id": "10",
      "metadata": {},
      "outputs": [],
      "source": [
        "sum_numbers = 0\n",
        "# YOUR CODE BELOW\n",
        "for i in 1:5\n",
        "    sum_numbers += i\n",
        "end"
      ]
    },
    {
      "cell_type": "code",
      "execution_count": 6,
      "id": "12",
      "metadata": {},
      "outputs": [
        {
          "name": "stdout",
          "output_type": "stream",
          "text": [
            "Sum of numbers from 1 to 5: 15\n"
          ]
        }
      ],
      "source": [
        "# Test your answer\n",
        "@assert sum_numbers == 15\n",
        "println(\"Sum of numbers from 1 to 5: \", sum_numbers)"
      ]
    },
    {
      "cell_type": "markdown",
      "id": "cc3367c0-f48e-44c5-88c7-fe9d2eccd48e",
      "metadata": {},
      "source": [
        "## Exercise 1.2 - Sum Only the Even Numbers from 1 to 10\n",
        "\n",
        "Sum only the even numbers from `1` to `10`. Again, we initialize a\n",
        "variable `sum_evens` to `0`. The sum you compute should accumulate in\n",
        "this variable."
      ]
    },
    {
      "cell_type": "code",
      "execution_count": 7,
      "id": "14",
      "metadata": {},
      "outputs": [],
      "source": [
        "sum_evens = 0\n",
        "# YOUR CODE BELOW\n",
        "for i in 1:10\n",
        "    if i % 2 == 0\n",
        "        sum_evens += i\n",
        "    end\n",
        "end"
      ]
    },
    {
      "cell_type": "code",
      "execution_count": 8,
      "id": "16",
      "metadata": {},
      "outputs": [
        {
          "name": "stdout",
          "output_type": "stream",
          "text": [
            "Sum of even numbers from 1 to 10: 30\n"
          ]
        }
      ],
      "source": [
        "# Test your answer\n",
        "@assert sum_evens == 30\n",
        "println(\"Sum of even numbers from 1 to 10: \", sum_evens)"
      ]
    },
    {
      "cell_type": "markdown",
      "id": "904d950e-2b01-4092-b234-01e1e554eda4",
      "metadata": {},
      "source": [
        "> **Tip**\n",
        ">\n",
        "> Hint: You can use the modulo operator `%` to check if a number is\n",
        "> even. The modulo operator returns the remainder of the division of two\n",
        "> numbers. If a number is divisible by another number, the remainder is\n",
        "> `0`. The following example checks if `4` is even: `4 % 2 == 0`.\n",
        "\n",
        "## Exercise 1.3 - Exit the Loop if the Current Fruit is Banana\n",
        "\n",
        "Iterate over each fruit in the `fruits` array, store the current fruit\n",
        "in `current_fruit`, and exit the loop if `current_fruit` is `banana`.\n",
        "The next lines initialize the `fruits` array and `current_fruit`\n",
        "variable."
      ]
    },
    {
      "cell_type": "code",
      "execution_count": 9,
      "id": "18",
      "metadata": {},
      "outputs": [],
      "source": [
        "fruits = [\"apple\", \"banana\", \"cherry\"]\n",
        "current_fruit = \"None\"\n",
        "# YOUR CODE BELOW\n",
        "for fruit in fruits\n",
        "    current_fruit = fruit\n",
        "    if current_fruit == \"banana\"\n",
        "        break\n",
        "    end\n",
        "end"
      ]
    },
    {
      "cell_type": "code",
      "execution_count": 10,
      "id": "20",
      "metadata": {},
      "outputs": [
        {
          "name": "stdout",
          "output_type": "stream",
          "text": [
            "The current fruit is: banana\n"
          ]
        }
      ],
      "source": [
        "# Test your answer\n",
        "@assert current_fruit == \"banana\"\n",
        "println(\"The current fruit is: \", current_fruit)"
      ]
    },
    {
      "cell_type": "markdown",
      "id": "ba59d43c-7223-4974-a3db-bf305cc6be49",
      "metadata": {},
      "source": [
        "# Section 2 - While Loops for Conditional Execution\n",
        "\n",
        "A `while` loop is like giving instructions to your assistant: “Keep\n",
        "doing this task as long as this condition is true.” They’re particularly\n",
        "useful when the number of iterations is dynamic or unknown in advance.\n",
        "For example:"
      ]
    },
    {
      "cell_type": "code",
      "execution_count": 11,
      "id": "22",
      "metadata": {},
      "outputs": [
        {
          "name": "stdout",
          "output_type": "stream",
          "text": [
            "Number is: 10\n",
            "Number is: 9\n",
            "Number is: 8\n",
            "Number is: 7\n",
            "Number is: 6\n",
            "Number is: 5\n",
            "Final number: 4\n"
          ]
        }
      ],
      "source": [
        "# Keep subtracting 1 until we get below 5\n",
        "number = 10\n",
        "while number >= 5\n",
        "    println(\"Number is: $number\")\n",
        "    number = number - 1\n",
        "end\n",
        "println(\"Final number: $number\")"
      ]
    },
    {
      "cell_type": "markdown",
      "id": "c29fb1af-ebd6-4416-9d6a-faaae1dc8f68",
      "metadata": {},
      "source": [
        "Real-world examples:"
      ]
    },
    {
      "cell_type": "code",
      "execution_count": 12,
      "id": "24",
      "metadata": {},
      "outputs": [
        {
          "name": "stdout",
          "output_type": "stream",
          "text": [
            "Playing game... Lives left: 3\n",
            "Playing game... Lives left: 2\n",
            "Playing game... Lives left: 1\n",
            "Game Over!\n"
          ]
        }
      ],
      "source": [
        "# Keep playing game while player has lives\n",
        "lives = 3\n",
        "while lives > 0\n",
        "    println(\"Playing game... Lives left: $lives\")\n",
        "    lives = lives - 1\n",
        "end\n",
        "println(\"Game Over!\")"
      ]
    },
    {
      "cell_type": "code",
      "execution_count": 13,
      "id": "26",
      "metadata": {},
      "outputs": [
        {
          "name": "stdout",
          "output_type": "stream",
          "text": [
            "Adding 1 liter...\n",
            "Adding 1 liter...\n",
            "Adding 1 liter...\n",
            "Adding 1 liter...\n",
            "Adding 1 liter...\n",
            "Bucket is full!\n"
          ]
        }
      ],
      "source": [
        "# Keep filling water bucket until full\n",
        "current_liters = 0\n",
        "bucket_size = 5\n",
        "while current_liters < bucket_size\n",
        "    println(\"Adding 1 liter...\")\n",
        "    current_liters = current_liters + 1\n",
        "end\n",
        "println(\"Bucket is full!\")"
      ]
    },
    {
      "cell_type": "markdown",
      "id": "738996e4-368d-4e90-981a-c533553daabf",
      "metadata": {},
      "source": [
        "> **Tip**\n",
        ">\n",
        "> Think of a `while` loop like these everyday situations:\n",
        ">\n",
        "> -   Keep studying WHILE you don’t understand the topic\n",
        "> -   Keep adding ingredients WHILE the recipe isn’t complete\n",
        "> -   Keep saving money WHILE you don’t have enough\n",
        "\n",
        "## Exercise 2.1 - Subtract from 10 in Increments of 1 Until the Result is Less Than 3\n",
        "\n",
        "Subtract from `10` in increments of `1` until the result is less than\n",
        "`3`. The next line initializes `current_value` to `10`. The result\n",
        "should be in this variable."
      ]
    },
    {
      "cell_type": "code",
      "execution_count": 14,
      "id": "28",
      "metadata": {},
      "outputs": [],
      "source": [
        "current_value = 10\n",
        "# YOUR CODE BELOW\n",
        "while current_value >= 3\n",
        "    current_value -= 1\n",
        "end"
      ]
    },
    {
      "cell_type": "code",
      "execution_count": 15,
      "id": "30",
      "metadata": {},
      "outputs": [
        {
          "name": "stdout",
          "output_type": "stream",
          "text": [
            "The first value smaller than 3 is: 2\n"
          ]
        }
      ],
      "source": [
        "# Test your answer\n",
        "@assert current_value == 2\n",
        "println(\"The first value smaller than 3 is: \", current_value)"
      ]
    },
    {
      "cell_type": "markdown",
      "id": "924a8921-253a-415d-b7a7-29923350f00c",
      "metadata": {},
      "source": [
        "## Exercise 2.2 - Find the First Multiple of 7 Greater Than 50\n",
        "\n",
        "Find the first multiple of `7` greater than `50` using an indefinite\n",
        "loop. The next line initializes `first_multiple_of_7` to `0`. The first\n",
        "multiple should be in this variable."
      ]
    },
    {
      "cell_type": "code",
      "execution_count": 16,
      "id": "32",
      "metadata": {},
      "outputs": [],
      "source": [
        "first_multiple_of_7 = 0\n",
        "# YOUR CODE BELOW\n",
        "while true\n",
        "    first_multiple_of_7 += 7\n",
        "    if first_multiple_of_7 > 50\n",
        "        break\n",
        "    end\n",
        "end"
      ]
    },
    {
      "cell_type": "code",
      "execution_count": 0,
      "id": "34",
      "metadata": {},
      "outputs": [],
      "source": [
        "# Test your answer\n",
        "@assert first_multiple_of_7 == 56\n",
        "println(\"First multiple of 7 greater than 50: \", first_multiple_of_7)"
      ]
    },
    {
      "cell_type": "markdown",
      "id": "d185bcee-f00b-4170-bcf0-530e7b24bdee",
      "metadata": {},
      "source": [
        "> **Tip**\n",
        ">\n",
        "> ‘while true … end’ constructs an infinite loop. You can exit the loop\n",
        "> using a ‘break’ statement if a condition is met.\n",
        "\n",
        "# Section 3 - Nested Loops\n",
        "\n",
        "Nested loops are loops inside other loops. Think of it like organizing\n",
        "your closet: - First loop: Go through each shelf - Second loop: For each\n",
        "shelf, go through each item"
      ]
    },
    {
      "cell_type": "code",
      "execution_count": 17,
      "id": "36",
      "metadata": {},
      "outputs": [
        {
          "name": "stdout",
          "output_type": "stream",
          "text": [
            "Found Red t-shirt in size Small\n",
            "Found Blue t-shirt in size Small\n",
            "Found Red t-shirt in size Medium\n",
            "Found Blue t-shirt in size Medium\n",
            "Found Red t-shirt in size Large\n",
            "Found Blue t-shirt in size Large\n"
          ]
        }
      ],
      "source": [
        "# Checking sizes and colors of t-shirts\n",
        "sizes = [\"Small\", \"Medium\", \"Large\"]\n",
        "colors = [\"Red\", \"Blue\"]\n",
        "\n",
        "for size in sizes\n",
        "    for color in colors\n",
        "        println(\"Found $color t-shirt in size $size\")\n",
        "    end\n",
        "end"
      ]
    },
    {
      "cell_type": "markdown",
      "id": "ac7624f7-b6c9-4ebe-b0a6-099a770b8cef",
      "metadata": {},
      "source": [
        "## Exercise 3.1 - Compute the Product of Each Pair of Elements from Two Arrays\n",
        "\n",
        "Compute the product of **each pair of elements** from two arrays. For\n",
        "example, the product of two numbers `a` and `b` is `a * b`. The next\n",
        "lines initialize `numbers1`, `numbers2` arrays, and the `products` array\n",
        "to store your results."
      ]
    },
    {
      "cell_type": "code",
      "execution_count": 18,
      "id": "38",
      "metadata": {},
      "outputs": [
        {
          "name": "stdout",
          "output_type": "stream",
          "text": [
            "Products of each pair from two arrays: Any[4, 5, 6, 8, 10, 12, 12, 15, 18]\n"
          ]
        }
      ],
      "source": [
        "numbers1 = [1, 2, 3]\n",
        "numbers2 = [4, 5, 6]\n",
        "products = []\n",
        "# YOUR CODE BELOW\n",
        "for number1 in numbers1\n",
        "    for number2 in numbers2\n",
        "        push!(products, number1 * number2)\n",
        "    end\n",
        "end\n",
        "# Test your answer\n",
        "@assert products == [4, 5, 6, 8, 10, 12, 12, 15, 18]\n",
        "println(\"Products of each pair from two arrays: \", products)"
      ]
    },
    {
      "cell_type": "markdown",
      "id": "ad77f3e4-dee7-4a49-8558-1650292804cf",
      "metadata": {},
      "source": [
        "> **Tip**\n",
        ">\n",
        "> Remember, you can use push!() to append elements to an array.\n",
        "\n",
        "# Section 4 - List Comprehensions\n",
        "\n",
        "List comprehensions provide a concise way to create lists based on\n",
        "existing lists. They can often replace for loops and are considered more\n",
        "“Julia-like”. Basic syntax:\n",
        "\n",
        "``` julia\n",
        "[expression for item in collection if condition]\n",
        "```\n",
        "\n",
        "For example:\n",
        "\n",
        "``` julia\n",
        "# The long way\n",
        "squares = []\n",
        "for n in 1:5\n",
        "    push!(squares, n^2)\n",
        "end\n",
        "\n",
        "# The short way (list comprehension)\n",
        "squares = [n^2 for n in 1:5]\n",
        "```\n",
        "\n",
        "Both create `[1, 4, 9, 16, 25]`, but the second way is more concise!\n",
        "\n",
        "## Exercise 4.1 - Create a List of Even Numbers\n",
        "\n",
        "Create a list of even numbers from 1 to 10 using a list comprehension."
      ]
    },
    {
      "cell_type": "code",
      "execution_count": 20,
      "id": "40",
      "metadata": {},
      "outputs": [
        {
          "name": "stdout",
          "output_type": "stream",
          "text": [
            "Even numbers from 1 to 10: [2, 4, 6, 8, 10]\n"
          ]
        }
      ],
      "source": [
        "# YOUR CODE BELOW\n",
        "even_numbers = [i for i in 1:10 if i % 2 == 0]\n",
        "\n",
        "# Test your answer\n",
        "@assert even_numbers == [2, 4, 6, 8, 10]\n",
        "println(\"Even numbers from 1 to 10: \", even_numbers)"
      ]
    },
    {
      "cell_type": "markdown",
      "id": "36e17f17-4a5d-4652-8f72-a193dd489b0a",
      "metadata": {},
      "source": [
        "# Conclusion\n",
        "\n",
        "Great work! You’ve successfully navigated through the basics of loops in\n",
        "Julia. You’ve seen for and while loops, tackled iterable structure, and\n",
        "worked on nested loops. Continue to the next file to learn more.\n",
        "\n",
        "# Solutions\n",
        "\n",
        "You will likely find solutions to most exercises online. However, I\n",
        "strongly encourage you to work on these exercises independently without\n",
        "searching explicitly for the exact answers to the exercises.\n",
        "Understanding someone else’s solution is very different from developing\n",
        "your own. Use the lecture notes and try to solve the exercises on your\n",
        "own. This approach will significantly enhance your learning and\n",
        "problem-solving skills.\n",
        "\n",
        "Remember, the goal is not just to complete the exercises, but to\n",
        "understand the concepts and improve your programming abilities. If you\n",
        "encounter difficulties, review the lecture materials, experiment with\n",
        "different approaches, and don’t hesitate to ask for clarification during\n",
        "class discussions.\n",
        "\n",
        "Later, you will find the solutions to these exercises online in the\n",
        "associated GitHub repository, but we will also quickly go over them in\n",
        "next week’s tutorial. To access the solutions, click on the Github\n",
        "button on the lower right and search for the folder with today’s lecture\n",
        "and tutorial. Alternatively, you can ask ChatGPT or Claude to explain\n",
        "them to you. But please remember, the goal is not just to complete the\n",
        "exercises, but to understand the concepts and improve your programming\n",
        "abilities."
      ]
    }
  ],
  "metadata": {
    "kernel_info": {
      "name": "julia"
    },
    "kernelspec": {
      "display_name": "Julia 1.10.5",
      "language": "julia",
      "name": "julia-1.10"
    },
    "language_info": {
      "file_extension": ".jl",
      "mimetype": "application/julia",
      "name": "julia",
      "version": "1.10.5"
    }
  },
  "nbformat": 4,
  "nbformat_minor": 5
}
