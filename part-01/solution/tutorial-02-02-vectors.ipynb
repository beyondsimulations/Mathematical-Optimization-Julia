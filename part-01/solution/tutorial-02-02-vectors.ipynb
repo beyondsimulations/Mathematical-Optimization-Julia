{
  "cells": [
    {
      "cell_type": "markdown",
      "id": "3c83406e-cd34-4257-8bbd-ee8c70ee2c1f",
      "metadata": {},
      "source": [
        "# Tutorial II.II - Vectors and Matrices\n",
        "\n",
        "Applied Optimization with Julia\n",
        "\n",
        "# Introduction\n",
        "\n",
        "This interactive Julia script introduces the basics of vectors,\n",
        "matrices, and tuples.\n",
        "\n",
        "-   A vector is like a single row in a spreadsheet or a shopping list -\n",
        "    it stores items in a line\n",
        "-   A matrix is like a spreadsheet - it has rows and columns\n",
        "-   A tuple is like a sealed package containing different types of items\n",
        "\n",
        "Understanding these data structures and how to manipulate them is\n",
        "crucial in Julia. Follow the instructions, write your code in the\n",
        "designated code blocks, and execute the corresponding code cell.\n",
        "\n",
        "> **Note**\n",
        ">\n",
        "> If a cell is marked with `YOUR CODE BELOW`, you are expected to write\n",
        "> your code in that cell.\n",
        "\n",
        "# Section 1 - Vectors\n",
        "\n",
        "Vectors in Julia are one-dimensional arrays used to store sequences of\n",
        "elements. They’re powerful for numerical operations and data handling. A\n",
        "vector is the simplest way to store a list of items. Think of it as a\n",
        "row of boxes, where each box can hold a number or other type of data.\n",
        "Create vectors with square brackets, separate elements with commas."
      ]
    },
    {
      "cell_type": "code",
      "execution_count": 1,
      "id": "2",
      "metadata": {},
      "outputs": [
        {
          "data": {
            "text/plain": [
              "5-element Vector{Int64}:\n",
              " 95\n",
              " 87\n",
              " 91\n",
              " 78\n",
              " 88"
            ]
          },
          "metadata": {},
          "output_type": "display_data"
        }
      ],
      "source": [
        "# Creating a simple vector (list) of numbers\n",
        "grades = [95, 87, 91, 78, 88]"
      ]
    },
    {
      "cell_type": "code",
      "execution_count": 2,
      "id": "4",
      "metadata": {},
      "outputs": [
        {
          "data": {
            "text/plain": [
              "3-element Vector{String}:\n",
              " \"Mike\"\n",
              " \"Yola\"\n",
              " \"Elio\""
            ]
          },
          "metadata": {},
          "output_type": "display_data"
        }
      ],
      "source": [
        "# Creating a vector of names\n",
        "students = [\"Mike\", \"Yola\", \"Elio\"]"
      ]
    },
    {
      "cell_type": "markdown",
      "id": "874536f0-4dea-425e-a349-0945f5af5692",
      "metadata": {},
      "source": [
        "Vectors are mutable, and you can: - Add items to the end (like adding to\n",
        "a shopping list): `push!(grades, 82)` - Remove the last item (like\n",
        "crossing off the last item): `pop!(grades)` - Look at specific items\n",
        "using their position number: `grades[1]` gives you the first grade -\n",
        "Access a range of items: `grades[1:3]` gives you the first three grades\n",
        "\n",
        "> **Tip**\n",
        ">\n",
        "> In Julia, we start counting positions from 1, not 0. So `grades[1]`\n",
        "> gives you the first grade!\n",
        "\n",
        "Use ‘?’ in the REPL for function details.\n",
        "\n",
        "## Exercise 1.1 - Create a Vector\n",
        "\n",
        "Create a vector ‘fib’ with the first five Fibonacci numbers:\n",
        "`1, 1, 2, 3, 5`."
      ]
    },
    {
      "cell_type": "code",
      "execution_count": 1,
      "id": "6",
      "metadata": {},
      "outputs": [
        {
          "data": {
            "text/plain": [
              "5-element Vector{Int64}:\n",
              " 1\n",
              " 1\n",
              " 2\n",
              " 3\n",
              " 5"
            ]
          },
          "metadata": {},
          "output_type": "display_data"
        }
      ],
      "source": [
        "# YOUR CODE BELOW\n",
        "fib = [1, 1, 2, 3, 5]"
      ]
    },
    {
      "cell_type": "code",
      "execution_count": 2,
      "id": "8",
      "metadata": {},
      "outputs": [
        {
          "name": "stdout",
          "output_type": "stream",
          "text": [
            "The 'fib' vector: [1, 1, 2, 3, 5]\n"
          ]
        }
      ],
      "source": [
        "# Test your answer\n",
        "@assert fib == [1, 1, 2, 3, 5]\n",
        "println(\"The 'fib' vector: \", fib)"
      ]
    },
    {
      "cell_type": "markdown",
      "id": "82726bf0-7023-4519-879f-f0982bc17be7",
      "metadata": {},
      "source": [
        "## Exercise 1.2 - Append to a Vector\n",
        "\n",
        "Append the number 8 to the `fib` vector."
      ]
    },
    {
      "cell_type": "code",
      "execution_count": 3,
      "id": "10",
      "metadata": {},
      "outputs": [
        {
          "data": {
            "text/plain": [
              "6-element Vector{Int64}:\n",
              " 1\n",
              " 1\n",
              " 2\n",
              " 3\n",
              " 5\n",
              " 8"
            ]
          },
          "metadata": {},
          "output_type": "display_data"
        }
      ],
      "source": [
        "# YOUR CODE BELOW\n",
        "push!(fib, 8)"
      ]
    },
    {
      "cell_type": "code",
      "execution_count": 7,
      "id": "12",
      "metadata": {},
      "outputs": [
        {
          "name": "stdout",
          "output_type": "stream",
          "text": [
            "The 'fib' vector after appending 8: [1, 1, 2, 3, 5, 8]\n"
          ]
        }
      ],
      "source": [
        "# Test your answer\n",
        "@assert fib == [1, 1, 2, 3, 5, 8]\n",
        "println(\"The 'fib' vector after appending 8: \", fib)"
      ]
    },
    {
      "cell_type": "markdown",
      "id": "375f50c1-af39-4a6b-a01e-d1b96c2fda71",
      "metadata": {},
      "source": [
        "## Exercise 1.3 - Remove the First Element\n",
        "\n",
        "Remove the first element of the `fib` vector."
      ]
    },
    {
      "cell_type": "code",
      "execution_count": 8,
      "id": "14",
      "metadata": {},
      "outputs": [
        {
          "data": {
            "text/plain": [
              "1"
            ]
          },
          "metadata": {},
          "output_type": "display_data"
        }
      ],
      "source": [
        "# YOUR CODE BELOW\n",
        "popfirst!(fib)"
      ]
    },
    {
      "cell_type": "code",
      "execution_count": 10,
      "id": "16",
      "metadata": {},
      "outputs": [
        {
          "name": "stdout",
          "output_type": "stream",
          "text": [
            "The 'fib' vector after removing the first element: [1, 2, 3, 5, 8]\n"
          ]
        }
      ],
      "source": [
        "# Test your answer\n",
        "@assert fib == [1, 2, 3, 5, 8]\n",
        "println(\"The 'fib' vector after removing the first element: \", fib)"
      ]
    },
    {
      "cell_type": "markdown",
      "id": "96a32b37-7e4f-49a4-93aa-073520c04242",
      "metadata": {},
      "source": [
        "## Exercise 1.4 - Access and Save the First Three Elements\n",
        "\n",
        "Access and save the first three elements of `fib`, to\n",
        "`first_three_elements`."
      ]
    },
    {
      "cell_type": "code",
      "execution_count": 11,
      "id": "18",
      "metadata": {},
      "outputs": [
        {
          "data": {
            "text/plain": [
              "3-element Vector{Int64}:\n",
              " 1\n",
              " 2\n",
              " 3"
            ]
          },
          "metadata": {},
          "output_type": "display_data"
        }
      ],
      "source": [
        "# YOUR CODE BELOW\n",
        "first_three_elements = fib[1:3]"
      ]
    },
    {
      "cell_type": "code",
      "execution_count": 12,
      "id": "20",
      "metadata": {},
      "outputs": [
        {
          "name": "stdout",
          "output_type": "stream",
          "text": [
            "The first three elements of the 'fib' vector: [1, 2, 3]\n"
          ]
        }
      ],
      "source": [
        "# Test your answer\n",
        "@assert first_three_elements == fib[1:3]\n",
        "println(\"The first three elements of the 'fib' vector: \", first_three_elements)"
      ]
    },
    {
      "cell_type": "markdown",
      "id": "a7942ab6-5001-42b3-bb2a-aa133a072f6a",
      "metadata": {},
      "source": [
        "# Section 2 - Matrices\n",
        "\n",
        "A matrix in Julia is a 2D array, great for linear algebra and data\n",
        "representation. Create matrices with square brackets, separate elements\n",
        "with spaces, rows with semicolons. Access elements with square brackets\n",
        "(e.g., `matrix[2,2]`). You can add or substract matrices of the same\n",
        "dimensions element-wise if you add or substract them.\n",
        "\n",
        "For example:"
      ]
    },
    {
      "cell_type": "code",
      "execution_count": 13,
      "id": "22",
      "metadata": {},
      "outputs": [
        {
          "name": "stdout",
          "output_type": "stream",
          "text": [
            "matrix1 is [3 4; 6 7].\n",
            "matrix2 is [1 0; 0 -1].\n"
          ]
        }
      ],
      "source": [
        "matrix1 = [2 2; 3 3] + [1 2; 3 4]\n",
        "matrix2 = [2 2; 3 3] - [1 2; 3 4]\n",
        "println(\"matrix1 is $matrix1.\")\n",
        "println(\"matrix2 is $matrix2.\")"
      ]
    },
    {
      "cell_type": "markdown",
      "id": "f08e0c72-af3a-462a-8201-45eea2f80399",
      "metadata": {},
      "source": [
        "If you want to perform multiplications, things are a bit different, as\n",
        "matrix multiplications are not performed element-wise!"
      ]
    },
    {
      "cell_type": "code",
      "execution_count": 14,
      "id": "24",
      "metadata": {},
      "outputs": [
        {
          "name": "stdout",
          "output_type": "stream",
          "text": [
            "matrix3 is [8 12; 12 18].\n"
          ]
        }
      ],
      "source": [
        "matrix3 = [2 2; 3 3] * [1 2; 3 4]   # Not element-wise\n",
        "println(\"matrix3 is $matrix3.\")"
      ]
    },
    {
      "cell_type": "markdown",
      "id": "b7c8d4ba-4cd9-4db6-a9b9-1044f5205f0b",
      "metadata": {},
      "source": [
        "But we can change this by using broadcasting!\n",
        "\n",
        "> **Tip**\n",
        ">\n",
        "> Julia’s broadcasting feature allows you to apply functions\n",
        "> element-wise to arrays of different sizes. This is denoted by adding a\n",
        "> dot (.) before the operator or function. It is extremely useful for\n",
        "> performing operations on arrays without the need to loop through each\n",
        "> element."
      ]
    },
    {
      "cell_type": "code",
      "execution_count": 15,
      "id": "26",
      "metadata": {},
      "outputs": [
        {
          "name": "stdout",
          "output_type": "stream",
          "text": [
            "matrix4 is [2 3; 4 5].\n"
          ]
        }
      ],
      "source": [
        "matrix4 = [1 2; 3 4]\n",
        "matrix4 = matrix4 .+ 1\n",
        "println(\"matrix4 is $matrix4.\")"
      ]
    },
    {
      "cell_type": "markdown",
      "id": "ec5fc30b-b071-41d0-863a-a6b9374236a2",
      "metadata": {},
      "source": [
        "We can also use this to perform element-wise multiplications, as shown\n",
        "below:"
      ]
    },
    {
      "cell_type": "code",
      "execution_count": 16,
      "id": "28",
      "metadata": {},
      "outputs": [
        {
          "name": "stdout",
          "output_type": "stream",
          "text": [
            "matrix5 is [2 4; 9 12].\n"
          ]
        }
      ],
      "source": [
        "matrix5 = [2 2; 3 3] .* [1 2; 3 4]  # Element-wise\n",
        "println(\"matrix5 is $matrix5.\")"
      ]
    },
    {
      "cell_type": "markdown",
      "id": "a0d9e969-c837-4878-8136-0dd4c1bb9e72",
      "metadata": {},
      "source": [
        "## Exercise 2.1 - Create a Matrix\n",
        "\n",
        "Create a 2x3 matrix `my_matrix` with the values: `1 2 3; 4 5 6`."
      ]
    },
    {
      "cell_type": "code",
      "execution_count": 27,
      "id": "30",
      "metadata": {},
      "outputs": [
        {
          "data": {
            "text/plain": [
              "2×3 Matrix{Int64}:\n",
              " 1  2  3\n",
              " 4  5  6"
            ]
          },
          "metadata": {},
          "output_type": "display_data"
        }
      ],
      "source": [
        "# YOUR CODE BELOW\n",
        "my_matrix = [1 2 3; 4 5 6]"
      ]
    },
    {
      "cell_type": "code",
      "execution_count": 28,
      "id": "32",
      "metadata": {},
      "outputs": [
        {
          "name": "stdout",
          "output_type": "stream",
          "text": [
            "The 'my_matrix':\n",
            "[1 2 3; 4 5 6]\n"
          ]
        }
      ],
      "source": [
        "# Test your answer\n",
        "@assert my_matrix == [1 2 3; 4 5 6]\n",
        "println(\"The 'my_matrix':\\n\", my_matrix)"
      ]
    },
    {
      "cell_type": "markdown",
      "id": "c6d1b7f4-4cfa-4673-8d47-c11949f1af3d",
      "metadata": {},
      "source": [
        "## Exercise 2.2 - Change the 3rd Column of the 2nd Row\n",
        "\n",
        "Change the 3rd column of the 2nd row to `17` by accessing and changing\n",
        "the element."
      ]
    },
    {
      "cell_type": "code",
      "execution_count": 29,
      "id": "34",
      "metadata": {},
      "outputs": [
        {
          "data": {
            "text/plain": [
              "17"
            ]
          },
          "metadata": {},
          "output_type": "display_data"
        }
      ],
      "source": [
        "# YOUR CODE BELOW\n",
        "my_matrix[2, 3] = 17\n"
      ]
    },
    {
      "cell_type": "code",
      "execution_count": 30,
      "id": "36",
      "metadata": {},
      "outputs": [
        {
          "name": "stdout",
          "output_type": "stream",
          "text": [
            "The 'my_matrix' after modification:\n",
            "[1 2 3; 4 5 17]\n"
          ]
        }
      ],
      "source": [
        "# Test your answer\n",
        "@assert my_matrix == [1 2 3; 4 5 17]\n",
        "println(\"The 'my_matrix' after modification:\\n\", my_matrix)"
      ]
    },
    {
      "cell_type": "markdown",
      "id": "e6dbf33b-96e5-43b6-b963-9b0391a98680",
      "metadata": {},
      "source": [
        "## Exercise 2.3 - Perform Matrix Addition\n",
        "\n",
        "Perform matrix addition with `my_matrix` and `another_matrix`. Call the\n",
        "resulting matrix `added_matrices`."
      ]
    },
    {
      "cell_type": "code",
      "execution_count": 31,
      "id": "38",
      "metadata": {},
      "outputs": [
        {
          "data": {
            "text/plain": [
              "2×3 Matrix{Int64}:\n",
              " 11  22  33\n",
              " 44  55  77"
            ]
          },
          "metadata": {},
          "output_type": "display_data"
        }
      ],
      "source": [
        "another_matrix = [10 20 30; 40 50 60]\n",
        "# YOUR CODE BELOW\n",
        "added_matrices = my_matrix + another_matrix"
      ]
    },
    {
      "cell_type": "code",
      "execution_count": 32,
      "id": "40",
      "metadata": {},
      "outputs": [
        {
          "name": "stdout",
          "output_type": "stream",
          "text": [
            "Result of adding 'my_matrix' and 'another_matrix':\n",
            "[11 22 33; 44 55 77]\n"
          ]
        }
      ],
      "source": [
        "# Test your answer\n",
        "@assert added_matrices == [11 22 33; 44 55 77]\n",
        "println(\"Result of adding 'my_matrix' and 'another_matrix':\\n\", added_matrices)"
      ]
    },
    {
      "cell_type": "markdown",
      "id": "c8ee1a25-659c-4258-984b-35e488b86502",
      "metadata": {},
      "source": [
        "## Exercise 2.4 - Add 10 to Each Element\n",
        "\n",
        "Add `10` to each element in `added_matrices`."
      ]
    },
    {
      "cell_type": "code",
      "execution_count": 35,
      "id": "42",
      "metadata": {},
      "outputs": [
        {
          "data": {
            "text/plain": [
              "2×3 Matrix{Int64}:\n",
              " 21  32  43\n",
              " 54  65  87"
            ]
          },
          "metadata": {},
          "output_type": "display_data"
        }
      ],
      "source": [
        "# YOUR CODE BELOW\n",
        "added_matrices .+= 10"
      ]
    },
    {
      "cell_type": "code",
      "execution_count": 36,
      "id": "44",
      "metadata": {},
      "outputs": [
        {
          "name": "stdout",
          "output_type": "stream",
          "text": [
            "Result of adding 10 to each element in 'added_matrices':\n",
            "[21 32 43; 54 65 87]\n"
          ]
        }
      ],
      "source": [
        "# Test your answer\n",
        "@assert added_matrices == [21 32 43; 54 65 87] \"Check again, the result should be [21 32 43; 54 65 87] but it is $added_matrices\"\n",
        "println(\"Result of adding 10 to each element in 'added_matrices':\\n\", added_matrices)"
      ]
    },
    {
      "cell_type": "markdown",
      "id": "5419502a-e2f7-435a-9d90-07d1a4d77369",
      "metadata": {},
      "source": [
        "# Section 3: Tuples\n",
        "\n",
        "A tuple is like a sealed package - once you create it, you can’t change\n",
        "what’s inside. That’s why we call it “immutable”. It’s perfect for\n",
        "grouping related items that shouldn’t change. For example:\n",
        "\n",
        "``` julia\n",
        "# A person's basic info that won't change\n",
        "person = (\"Elio Smith\", 18, \"Hamburg\")\n",
        "\n",
        "# RGB color values\n",
        "red = (255, 0, 0)\n",
        "```\n",
        "\n",
        "Think of tuples as permanent labels - once you write them, they can’t be\n",
        "changed. This is useful when you want to make sure data stays exactly as\n",
        "you set it.\n",
        "\n",
        "## Exercise 3.1 - Create a Tuple\n",
        "\n",
        "Create a tuple `my_tuple` with three elements: `4.0`, your matrix\n",
        "`added_matrices`, and `\"Hi there!\"`."
      ]
    },
    {
      "cell_type": "code",
      "execution_count": 37,
      "id": "46",
      "metadata": {},
      "outputs": [
        {
          "data": {
            "text/plain": [
              "(4.0, [21 32 43; 54 65 87], \"Hi there!\")"
            ]
          },
          "metadata": {},
          "output_type": "display_data"
        }
      ],
      "source": [
        "# YOUR CODE BELOW\n",
        "my_tuple = (4.0, added_matrices, \"Hi there!\")"
      ]
    },
    {
      "cell_type": "code",
      "execution_count": 38,
      "id": "48",
      "metadata": {},
      "outputs": [
        {
          "name": "stdout",
          "output_type": "stream",
          "text": [
            "The 'my_tuple': (4.0, [21 32 43; 54 65 87], \"Hi there!\")\n"
          ]
        }
      ],
      "source": [
        "# Test your answer\n",
        "@assert my_tuple == (4.0, added_matrices, \"Hi there!\")\n",
        "println(\"The 'my_tuple': \", my_tuple)"
      ]
    },
    {
      "cell_type": "markdown",
      "id": "0cd44794-8836-47f5-a1f7-7e164d63195e",
      "metadata": {},
      "source": [
        "## Exercise 3.2 - Access the Second Element\n",
        "\n",
        "Access the second element of `my_tuple`, store it in `second_element`."
      ]
    },
    {
      "cell_type": "code",
      "execution_count": 39,
      "id": "50",
      "metadata": {},
      "outputs": [
        {
          "data": {
            "text/plain": [
              "2×3 Matrix{Int64}:\n",
              " 21  32  43\n",
              " 54  65  87"
            ]
          },
          "metadata": {},
          "output_type": "display_data"
        }
      ],
      "source": [
        "# YOUR CODE BELOW\n",
        "second_element = my_tuple[2]"
      ]
    },
    {
      "cell_type": "code",
      "execution_count": 40,
      "id": "52",
      "metadata": {},
      "outputs": [
        {
          "name": "stdout",
          "output_type": "stream",
          "text": [
            "The second element of 'my_tuple':\n",
            "[21 32 43; 54 65 87]\n"
          ]
        }
      ],
      "source": [
        "# Test your answer\n",
        "@assert second_element == [21 32 43; 54 65 87]\n",
        "println(\"The second element of 'my_tuple':\\n\", second_element)"
      ]
    },
    {
      "cell_type": "markdown",
      "id": "035809cb-4a48-4321-b356-6d7812f857ae",
      "metadata": {},
      "source": [
        "# Conclusion\n",
        "\n",
        "Well done! You’ve completed the tutorial on Vectors, Matrices, and\n",
        "Tuples. You’ve learned to create, manipulate, and interact with these\n",
        "fundamental data structures. Experiment with the code, try different\n",
        "operations, and see how Julia behaves. Continue to the next file to\n",
        "learn more.\n",
        "\n",
        "# Solutions\n",
        "\n",
        "You will likely find solutions to most exercises online. However, I\n",
        "strongly encourage you to work on these exercises independently without\n",
        "searching explicitly for the exact answers to the exercises.\n",
        "Understanding someone else’s solution is very different from developing\n",
        "your own. Use the lecture notes and try to solve the exercises on your\n",
        "own. This approach will significantly enhance your learning and\n",
        "problem-solving skills.\n",
        "\n",
        "Remember, the goal is not just to complete the exercises, but to\n",
        "understand the concepts and improve your programming abilities. If you\n",
        "encounter difficulties, review the lecture materials, experiment with\n",
        "different approaches, and don’t hesitate to ask for clarification during\n",
        "class discussions.\n",
        "\n",
        "Later, you will find the solutions to these exercises online in the\n",
        "associated GitHub repository, but we will also quickly go over them in\n",
        "next week’s tutorial. To access the solutions, click on the Github\n",
        "button on the lower right and search for the folder with today’s lecture\n",
        "and tutorial. Alternatively, you can ask ChatGPT or Claude to explain\n",
        "them to you. But please remember, the goal is not just to complete the\n",
        "exercises, but to understand the concepts and improve your programming\n",
        "abilities."
      ]
    }
  ],
  "metadata": {
    "kernel_info": {
      "name": "julia"
    },
    "kernelspec": {
      "display_name": "Julia 1.10.5",
      "language": "julia",
      "name": "julia-1.10"
    },
    "language_info": {
      "file_extension": ".jl",
      "mimetype": "application/julia",
      "name": "julia",
      "version": "1.10.5"
    }
  },
  "nbformat": 4,
  "nbformat_minor": 5
}
